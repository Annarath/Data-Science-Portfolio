{
 "cells": [
  {
   "cell_type": "code",
   "execution_count": 1,
   "id": "57941c47",
   "metadata": {
    "_cell_guid": "b1076dfc-b9ad-4769-8c92-a6c4dae69d19",
    "_uuid": "8f2839f25d086af736a60e9eeb907d3b93b6e0e5",
    "execution": {
     "iopub.execute_input": "2021-07-13T07:47:53.376110Z",
     "iopub.status.busy": "2021-07-13T07:47:53.374916Z",
     "iopub.status.idle": "2021-07-13T07:47:53.391010Z",
     "shell.execute_reply": "2021-07-13T07:47:53.390310Z",
     "shell.execute_reply.started": "2021-07-12T05:57:32.918274Z"
    },
    "papermill": {
     "duration": 0.088066,
     "end_time": "2021-07-13T07:47:53.391183",
     "exception": false,
     "start_time": "2021-07-13T07:47:53.303117",
     "status": "completed"
    },
    "tags": []
   },
   "outputs": [
    {
     "name": "stdout",
     "output_type": "stream",
     "text": [
      "/kaggle/input/house-prices-advanced-regression-techniques/sample_submission.csv\n",
      "/kaggle/input/house-prices-advanced-regression-techniques/data_description.txt\n",
      "/kaggle/input/house-prices-advanced-regression-techniques/train.csv\n",
      "/kaggle/input/house-prices-advanced-regression-techniques/test.csv\n"
     ]
    }
   ],
   "source": [
    "# This Python 3 environment comes with many helpful analytics libraries installed\n",
    "# It is defined by the kaggle/python Docker image: https://github.com/kaggle/docker-python\n",
    "# For example, here's several helpful packages to load\n",
    "\n",
    "import numpy as np # linear algebra\n",
    "import pandas as pd # data processing, CSV file I/O (e.g. pd.read_csv)\n",
    "\n",
    "# Input data files are available in the read-only \"../input/\" directory\n",
    "# For example, running this (by clicking run or pressing Shift+Enter) will list all files under the input directory\n",
    "\n",
    "import os\n",
    "for dirname, _, filenames in os.walk('/kaggle/input'):\n",
    "    for filename in filenames:\n",
    "        print(os.path.join(dirname, filename))\n",
    "\n",
    "# You can write up to 20GB to the current directory (/kaggle/working/) that gets preserved as output when you create a version using \"Save & Run All\" \n",
    "# You can also write temporary files to /kaggle/temp/, but they won't be saved outside of the current session"
   ]
  },
  {
   "cell_type": "markdown",
   "id": "9bfc13c9",
   "metadata": {
    "papermill": {
     "duration": 0.065572,
     "end_time": "2021-07-13T07:47:53.523543",
     "exception": false,
     "start_time": "2021-07-13T07:47:53.457971",
     "status": "completed"
    },
    "tags": []
   },
   "source": [
    "# **Imports**"
   ]
  },
  {
   "cell_type": "code",
   "execution_count": 2,
   "id": "2b6ad577",
   "metadata": {
    "execution": {
     "iopub.execute_input": "2021-07-13T07:47:53.661413Z",
     "iopub.status.busy": "2021-07-13T07:47:53.660578Z",
     "iopub.status.idle": "2021-07-13T07:47:54.711956Z",
     "shell.execute_reply": "2021-07-13T07:47:54.711255Z",
     "shell.execute_reply.started": "2021-07-13T05:31:53.381035Z"
    },
    "papermill": {
     "duration": 1.122408,
     "end_time": "2021-07-13T07:47:54.712101",
     "exception": false,
     "start_time": "2021-07-13T07:47:53.589693",
     "status": "completed"
    },
    "tags": []
   },
   "outputs": [],
   "source": [
    "import pandas as pd\n",
    "import numpy as np\n",
    "import seaborn as sns\n",
    "import matplotlib.pyplot as plt\n",
    "%matplotlib inline\n",
    "sns.set_style('whitegrid')"
   ]
  },
  {
   "cell_type": "code",
   "execution_count": 3,
   "id": "2fdea1c7",
   "metadata": {
    "execution": {
     "iopub.execute_input": "2021-07-13T07:47:54.851444Z",
     "iopub.status.busy": "2021-07-13T07:47:54.850769Z",
     "iopub.status.idle": "2021-07-13T07:47:54.929127Z",
     "shell.execute_reply": "2021-07-13T07:47:54.929654Z",
     "shell.execute_reply.started": "2021-07-13T05:31:56.835196Z"
    },
    "papermill": {
     "duration": 0.150608,
     "end_time": "2021-07-13T07:47:54.929941",
     "exception": false,
     "start_time": "2021-07-13T07:47:54.779333",
     "status": "completed"
    },
    "tags": []
   },
   "outputs": [],
   "source": [
    "dftrain = pd.read_csv('/kaggle/input/house-prices-advanced-regression-techniques/train.csv')\n",
    "dftest = pd.read_csv('/kaggle/input/house-prices-advanced-regression-techniques/test.csv')"
   ]
  },
  {
   "cell_type": "markdown",
   "id": "042f2889",
   "metadata": {
    "papermill": {
     "duration": 0.066139,
     "end_time": "2021-07-13T07:47:55.062813",
     "exception": false,
     "start_time": "2021-07-13T07:47:54.996674",
     "status": "completed"
    },
    "tags": []
   },
   "source": [
    "# **Checkout Data Structures**"
   ]
  },
  {
   "cell_type": "code",
   "execution_count": 4,
   "id": "65822cbe",
   "metadata": {
    "execution": {
     "iopub.execute_input": "2021-07-13T07:47:55.215175Z",
     "iopub.status.busy": "2021-07-13T07:47:55.214444Z",
     "iopub.status.idle": "2021-07-13T07:47:55.243968Z",
     "shell.execute_reply": "2021-07-13T07:47:55.244448Z",
     "shell.execute_reply.started": "2021-07-13T05:32:00.388552Z"
    },
    "papermill": {
     "duration": 0.114973,
     "end_time": "2021-07-13T07:47:55.244637",
     "exception": false,
     "start_time": "2021-07-13T07:47:55.129664",
     "status": "completed"
    },
    "tags": []
   },
   "outputs": [
    {
     "data": {
      "text/html": [
       "<div>\n",
       "<style scoped>\n",
       "    .dataframe tbody tr th:only-of-type {\n",
       "        vertical-align: middle;\n",
       "    }\n",
       "\n",
       "    .dataframe tbody tr th {\n",
       "        vertical-align: top;\n",
       "    }\n",
       "\n",
       "    .dataframe thead th {\n",
       "        text-align: right;\n",
       "    }\n",
       "</style>\n",
       "<table border=\"1\" class=\"dataframe\">\n",
       "  <thead>\n",
       "    <tr style=\"text-align: right;\">\n",
       "      <th></th>\n",
       "      <th>Id</th>\n",
       "      <th>MSSubClass</th>\n",
       "      <th>MSZoning</th>\n",
       "      <th>LotFrontage</th>\n",
       "      <th>LotArea</th>\n",
       "      <th>Street</th>\n",
       "      <th>Alley</th>\n",
       "      <th>LotShape</th>\n",
       "      <th>LandContour</th>\n",
       "      <th>Utilities</th>\n",
       "      <th>...</th>\n",
       "      <th>PoolArea</th>\n",
       "      <th>PoolQC</th>\n",
       "      <th>Fence</th>\n",
       "      <th>MiscFeature</th>\n",
       "      <th>MiscVal</th>\n",
       "      <th>MoSold</th>\n",
       "      <th>YrSold</th>\n",
       "      <th>SaleType</th>\n",
       "      <th>SaleCondition</th>\n",
       "      <th>SalePrice</th>\n",
       "    </tr>\n",
       "  </thead>\n",
       "  <tbody>\n",
       "    <tr>\n",
       "      <th>0</th>\n",
       "      <td>1</td>\n",
       "      <td>60</td>\n",
       "      <td>RL</td>\n",
       "      <td>65.0</td>\n",
       "      <td>8450</td>\n",
       "      <td>Pave</td>\n",
       "      <td>NaN</td>\n",
       "      <td>Reg</td>\n",
       "      <td>Lvl</td>\n",
       "      <td>AllPub</td>\n",
       "      <td>...</td>\n",
       "      <td>0</td>\n",
       "      <td>NaN</td>\n",
       "      <td>NaN</td>\n",
       "      <td>NaN</td>\n",
       "      <td>0</td>\n",
       "      <td>2</td>\n",
       "      <td>2008</td>\n",
       "      <td>WD</td>\n",
       "      <td>Normal</td>\n",
       "      <td>208500</td>\n",
       "    </tr>\n",
       "    <tr>\n",
       "      <th>1</th>\n",
       "      <td>2</td>\n",
       "      <td>20</td>\n",
       "      <td>RL</td>\n",
       "      <td>80.0</td>\n",
       "      <td>9600</td>\n",
       "      <td>Pave</td>\n",
       "      <td>NaN</td>\n",
       "      <td>Reg</td>\n",
       "      <td>Lvl</td>\n",
       "      <td>AllPub</td>\n",
       "      <td>...</td>\n",
       "      <td>0</td>\n",
       "      <td>NaN</td>\n",
       "      <td>NaN</td>\n",
       "      <td>NaN</td>\n",
       "      <td>0</td>\n",
       "      <td>5</td>\n",
       "      <td>2007</td>\n",
       "      <td>WD</td>\n",
       "      <td>Normal</td>\n",
       "      <td>181500</td>\n",
       "    </tr>\n",
       "    <tr>\n",
       "      <th>2</th>\n",
       "      <td>3</td>\n",
       "      <td>60</td>\n",
       "      <td>RL</td>\n",
       "      <td>68.0</td>\n",
       "      <td>11250</td>\n",
       "      <td>Pave</td>\n",
       "      <td>NaN</td>\n",
       "      <td>IR1</td>\n",
       "      <td>Lvl</td>\n",
       "      <td>AllPub</td>\n",
       "      <td>...</td>\n",
       "      <td>0</td>\n",
       "      <td>NaN</td>\n",
       "      <td>NaN</td>\n",
       "      <td>NaN</td>\n",
       "      <td>0</td>\n",
       "      <td>9</td>\n",
       "      <td>2008</td>\n",
       "      <td>WD</td>\n",
       "      <td>Normal</td>\n",
       "      <td>223500</td>\n",
       "    </tr>\n",
       "    <tr>\n",
       "      <th>3</th>\n",
       "      <td>4</td>\n",
       "      <td>70</td>\n",
       "      <td>RL</td>\n",
       "      <td>60.0</td>\n",
       "      <td>9550</td>\n",
       "      <td>Pave</td>\n",
       "      <td>NaN</td>\n",
       "      <td>IR1</td>\n",
       "      <td>Lvl</td>\n",
       "      <td>AllPub</td>\n",
       "      <td>...</td>\n",
       "      <td>0</td>\n",
       "      <td>NaN</td>\n",
       "      <td>NaN</td>\n",
       "      <td>NaN</td>\n",
       "      <td>0</td>\n",
       "      <td>2</td>\n",
       "      <td>2006</td>\n",
       "      <td>WD</td>\n",
       "      <td>Abnorml</td>\n",
       "      <td>140000</td>\n",
       "    </tr>\n",
       "    <tr>\n",
       "      <th>4</th>\n",
       "      <td>5</td>\n",
       "      <td>60</td>\n",
       "      <td>RL</td>\n",
       "      <td>84.0</td>\n",
       "      <td>14260</td>\n",
       "      <td>Pave</td>\n",
       "      <td>NaN</td>\n",
       "      <td>IR1</td>\n",
       "      <td>Lvl</td>\n",
       "      <td>AllPub</td>\n",
       "      <td>...</td>\n",
       "      <td>0</td>\n",
       "      <td>NaN</td>\n",
       "      <td>NaN</td>\n",
       "      <td>NaN</td>\n",
       "      <td>0</td>\n",
       "      <td>12</td>\n",
       "      <td>2008</td>\n",
       "      <td>WD</td>\n",
       "      <td>Normal</td>\n",
       "      <td>250000</td>\n",
       "    </tr>\n",
       "  </tbody>\n",
       "</table>\n",
       "<p>5 rows × 81 columns</p>\n",
       "</div>"
      ],
      "text/plain": [
       "   Id  MSSubClass MSZoning  LotFrontage  LotArea Street Alley LotShape  \\\n",
       "0   1          60       RL         65.0     8450   Pave   NaN      Reg   \n",
       "1   2          20       RL         80.0     9600   Pave   NaN      Reg   \n",
       "2   3          60       RL         68.0    11250   Pave   NaN      IR1   \n",
       "3   4          70       RL         60.0     9550   Pave   NaN      IR1   \n",
       "4   5          60       RL         84.0    14260   Pave   NaN      IR1   \n",
       "\n",
       "  LandContour Utilities  ... PoolArea PoolQC Fence MiscFeature MiscVal MoSold  \\\n",
       "0         Lvl    AllPub  ...        0    NaN   NaN         NaN       0      2   \n",
       "1         Lvl    AllPub  ...        0    NaN   NaN         NaN       0      5   \n",
       "2         Lvl    AllPub  ...        0    NaN   NaN         NaN       0      9   \n",
       "3         Lvl    AllPub  ...        0    NaN   NaN         NaN       0      2   \n",
       "4         Lvl    AllPub  ...        0    NaN   NaN         NaN       0     12   \n",
       "\n",
       "  YrSold  SaleType  SaleCondition  SalePrice  \n",
       "0   2008        WD         Normal     208500  \n",
       "1   2007        WD         Normal     181500  \n",
       "2   2008        WD         Normal     223500  \n",
       "3   2006        WD        Abnorml     140000  \n",
       "4   2008        WD         Normal     250000  \n",
       "\n",
       "[5 rows x 81 columns]"
      ]
     },
     "execution_count": 4,
     "metadata": {},
     "output_type": "execute_result"
    }
   ],
   "source": [
    "dftrain.head()"
   ]
  },
  {
   "cell_type": "code",
   "execution_count": 5,
   "id": "345a8a87",
   "metadata": {
    "execution": {
     "iopub.execute_input": "2021-07-13T07:47:55.386208Z",
     "iopub.status.busy": "2021-07-13T07:47:55.385329Z",
     "iopub.status.idle": "2021-07-13T07:47:55.388617Z",
     "shell.execute_reply": "2021-07-13T07:47:55.389113Z",
     "shell.execute_reply.started": "2021-07-13T05:32:02.731170Z"
    },
    "papermill": {
     "duration": 0.07756,
     "end_time": "2021-07-13T07:47:55.389289",
     "exception": false,
     "start_time": "2021-07-13T07:47:55.311729",
     "status": "completed"
    },
    "tags": []
   },
   "outputs": [
    {
     "data": {
      "text/plain": [
       "(1460, 81)"
      ]
     },
     "execution_count": 5,
     "metadata": {},
     "output_type": "execute_result"
    }
   ],
   "source": [
    "#shape of train dataset\n",
    "dftrain.shape"
   ]
  },
  {
   "cell_type": "code",
   "execution_count": 6,
   "id": "01de667d",
   "metadata": {
    "execution": {
     "iopub.execute_input": "2021-07-13T07:47:55.528797Z",
     "iopub.status.busy": "2021-07-13T07:47:55.527827Z",
     "iopub.status.idle": "2021-07-13T07:47:55.646623Z",
     "shell.execute_reply": "2021-07-13T07:47:55.647211Z",
     "shell.execute_reply.started": "2021-07-13T05:32:05.545308Z"
    },
    "papermill": {
     "duration": 0.189123,
     "end_time": "2021-07-13T07:47:55.647387",
     "exception": false,
     "start_time": "2021-07-13T07:47:55.458264",
     "status": "completed"
    },
    "tags": []
   },
   "outputs": [
    {
     "data": {
      "text/html": [
       "<div>\n",
       "<style scoped>\n",
       "    .dataframe tbody tr th:only-of-type {\n",
       "        vertical-align: middle;\n",
       "    }\n",
       "\n",
       "    .dataframe tbody tr th {\n",
       "        vertical-align: top;\n",
       "    }\n",
       "\n",
       "    .dataframe thead th {\n",
       "        text-align: right;\n",
       "    }\n",
       "</style>\n",
       "<table border=\"1\" class=\"dataframe\">\n",
       "  <thead>\n",
       "    <tr style=\"text-align: right;\">\n",
       "      <th></th>\n",
       "      <th>count</th>\n",
       "      <th>mean</th>\n",
       "      <th>std</th>\n",
       "      <th>min</th>\n",
       "      <th>25%</th>\n",
       "      <th>50%</th>\n",
       "      <th>75%</th>\n",
       "      <th>max</th>\n",
       "    </tr>\n",
       "  </thead>\n",
       "  <tbody>\n",
       "    <tr>\n",
       "      <th>Id</th>\n",
       "      <td>1460.0</td>\n",
       "      <td>730.500000</td>\n",
       "      <td>421.610009</td>\n",
       "      <td>1.0</td>\n",
       "      <td>365.75</td>\n",
       "      <td>730.5</td>\n",
       "      <td>1095.25</td>\n",
       "      <td>1460.0</td>\n",
       "    </tr>\n",
       "    <tr>\n",
       "      <th>MSSubClass</th>\n",
       "      <td>1460.0</td>\n",
       "      <td>56.897260</td>\n",
       "      <td>42.300571</td>\n",
       "      <td>20.0</td>\n",
       "      <td>20.00</td>\n",
       "      <td>50.0</td>\n",
       "      <td>70.00</td>\n",
       "      <td>190.0</td>\n",
       "    </tr>\n",
       "    <tr>\n",
       "      <th>LotFrontage</th>\n",
       "      <td>1201.0</td>\n",
       "      <td>70.049958</td>\n",
       "      <td>24.284752</td>\n",
       "      <td>21.0</td>\n",
       "      <td>59.00</td>\n",
       "      <td>69.0</td>\n",
       "      <td>80.00</td>\n",
       "      <td>313.0</td>\n",
       "    </tr>\n",
       "    <tr>\n",
       "      <th>LotArea</th>\n",
       "      <td>1460.0</td>\n",
       "      <td>10516.828082</td>\n",
       "      <td>9981.264932</td>\n",
       "      <td>1300.0</td>\n",
       "      <td>7553.50</td>\n",
       "      <td>9478.5</td>\n",
       "      <td>11601.50</td>\n",
       "      <td>215245.0</td>\n",
       "    </tr>\n",
       "    <tr>\n",
       "      <th>OverallQual</th>\n",
       "      <td>1460.0</td>\n",
       "      <td>6.099315</td>\n",
       "      <td>1.382997</td>\n",
       "      <td>1.0</td>\n",
       "      <td>5.00</td>\n",
       "      <td>6.0</td>\n",
       "      <td>7.00</td>\n",
       "      <td>10.0</td>\n",
       "    </tr>\n",
       "    <tr>\n",
       "      <th>OverallCond</th>\n",
       "      <td>1460.0</td>\n",
       "      <td>5.575342</td>\n",
       "      <td>1.112799</td>\n",
       "      <td>1.0</td>\n",
       "      <td>5.00</td>\n",
       "      <td>5.0</td>\n",
       "      <td>6.00</td>\n",
       "      <td>9.0</td>\n",
       "    </tr>\n",
       "    <tr>\n",
       "      <th>YearBuilt</th>\n",
       "      <td>1460.0</td>\n",
       "      <td>1971.267808</td>\n",
       "      <td>30.202904</td>\n",
       "      <td>1872.0</td>\n",
       "      <td>1954.00</td>\n",
       "      <td>1973.0</td>\n",
       "      <td>2000.00</td>\n",
       "      <td>2010.0</td>\n",
       "    </tr>\n",
       "    <tr>\n",
       "      <th>YearRemodAdd</th>\n",
       "      <td>1460.0</td>\n",
       "      <td>1984.865753</td>\n",
       "      <td>20.645407</td>\n",
       "      <td>1950.0</td>\n",
       "      <td>1967.00</td>\n",
       "      <td>1994.0</td>\n",
       "      <td>2004.00</td>\n",
       "      <td>2010.0</td>\n",
       "    </tr>\n",
       "    <tr>\n",
       "      <th>MasVnrArea</th>\n",
       "      <td>1452.0</td>\n",
       "      <td>103.685262</td>\n",
       "      <td>181.066207</td>\n",
       "      <td>0.0</td>\n",
       "      <td>0.00</td>\n",
       "      <td>0.0</td>\n",
       "      <td>166.00</td>\n",
       "      <td>1600.0</td>\n",
       "    </tr>\n",
       "    <tr>\n",
       "      <th>BsmtFinSF1</th>\n",
       "      <td>1460.0</td>\n",
       "      <td>443.639726</td>\n",
       "      <td>456.098091</td>\n",
       "      <td>0.0</td>\n",
       "      <td>0.00</td>\n",
       "      <td>383.5</td>\n",
       "      <td>712.25</td>\n",
       "      <td>5644.0</td>\n",
       "    </tr>\n",
       "    <tr>\n",
       "      <th>BsmtFinSF2</th>\n",
       "      <td>1460.0</td>\n",
       "      <td>46.549315</td>\n",
       "      <td>161.319273</td>\n",
       "      <td>0.0</td>\n",
       "      <td>0.00</td>\n",
       "      <td>0.0</td>\n",
       "      <td>0.00</td>\n",
       "      <td>1474.0</td>\n",
       "    </tr>\n",
       "    <tr>\n",
       "      <th>BsmtUnfSF</th>\n",
       "      <td>1460.0</td>\n",
       "      <td>567.240411</td>\n",
       "      <td>441.866955</td>\n",
       "      <td>0.0</td>\n",
       "      <td>223.00</td>\n",
       "      <td>477.5</td>\n",
       "      <td>808.00</td>\n",
       "      <td>2336.0</td>\n",
       "    </tr>\n",
       "    <tr>\n",
       "      <th>TotalBsmtSF</th>\n",
       "      <td>1460.0</td>\n",
       "      <td>1057.429452</td>\n",
       "      <td>438.705324</td>\n",
       "      <td>0.0</td>\n",
       "      <td>795.75</td>\n",
       "      <td>991.5</td>\n",
       "      <td>1298.25</td>\n",
       "      <td>6110.0</td>\n",
       "    </tr>\n",
       "    <tr>\n",
       "      <th>1stFlrSF</th>\n",
       "      <td>1460.0</td>\n",
       "      <td>1162.626712</td>\n",
       "      <td>386.587738</td>\n",
       "      <td>334.0</td>\n",
       "      <td>882.00</td>\n",
       "      <td>1087.0</td>\n",
       "      <td>1391.25</td>\n",
       "      <td>4692.0</td>\n",
       "    </tr>\n",
       "    <tr>\n",
       "      <th>2ndFlrSF</th>\n",
       "      <td>1460.0</td>\n",
       "      <td>346.992466</td>\n",
       "      <td>436.528436</td>\n",
       "      <td>0.0</td>\n",
       "      <td>0.00</td>\n",
       "      <td>0.0</td>\n",
       "      <td>728.00</td>\n",
       "      <td>2065.0</td>\n",
       "    </tr>\n",
       "    <tr>\n",
       "      <th>LowQualFinSF</th>\n",
       "      <td>1460.0</td>\n",
       "      <td>5.844521</td>\n",
       "      <td>48.623081</td>\n",
       "      <td>0.0</td>\n",
       "      <td>0.00</td>\n",
       "      <td>0.0</td>\n",
       "      <td>0.00</td>\n",
       "      <td>572.0</td>\n",
       "    </tr>\n",
       "    <tr>\n",
       "      <th>GrLivArea</th>\n",
       "      <td>1460.0</td>\n",
       "      <td>1515.463699</td>\n",
       "      <td>525.480383</td>\n",
       "      <td>334.0</td>\n",
       "      <td>1129.50</td>\n",
       "      <td>1464.0</td>\n",
       "      <td>1776.75</td>\n",
       "      <td>5642.0</td>\n",
       "    </tr>\n",
       "    <tr>\n",
       "      <th>BsmtFullBath</th>\n",
       "      <td>1460.0</td>\n",
       "      <td>0.425342</td>\n",
       "      <td>0.518911</td>\n",
       "      <td>0.0</td>\n",
       "      <td>0.00</td>\n",
       "      <td>0.0</td>\n",
       "      <td>1.00</td>\n",
       "      <td>3.0</td>\n",
       "    </tr>\n",
       "    <tr>\n",
       "      <th>BsmtHalfBath</th>\n",
       "      <td>1460.0</td>\n",
       "      <td>0.057534</td>\n",
       "      <td>0.238753</td>\n",
       "      <td>0.0</td>\n",
       "      <td>0.00</td>\n",
       "      <td>0.0</td>\n",
       "      <td>0.00</td>\n",
       "      <td>2.0</td>\n",
       "    </tr>\n",
       "    <tr>\n",
       "      <th>FullBath</th>\n",
       "      <td>1460.0</td>\n",
       "      <td>1.565068</td>\n",
       "      <td>0.550916</td>\n",
       "      <td>0.0</td>\n",
       "      <td>1.00</td>\n",
       "      <td>2.0</td>\n",
       "      <td>2.00</td>\n",
       "      <td>3.0</td>\n",
       "    </tr>\n",
       "    <tr>\n",
       "      <th>HalfBath</th>\n",
       "      <td>1460.0</td>\n",
       "      <td>0.382877</td>\n",
       "      <td>0.502885</td>\n",
       "      <td>0.0</td>\n",
       "      <td>0.00</td>\n",
       "      <td>0.0</td>\n",
       "      <td>1.00</td>\n",
       "      <td>2.0</td>\n",
       "    </tr>\n",
       "    <tr>\n",
       "      <th>BedroomAbvGr</th>\n",
       "      <td>1460.0</td>\n",
       "      <td>2.866438</td>\n",
       "      <td>0.815778</td>\n",
       "      <td>0.0</td>\n",
       "      <td>2.00</td>\n",
       "      <td>3.0</td>\n",
       "      <td>3.00</td>\n",
       "      <td>8.0</td>\n",
       "    </tr>\n",
       "    <tr>\n",
       "      <th>KitchenAbvGr</th>\n",
       "      <td>1460.0</td>\n",
       "      <td>1.046575</td>\n",
       "      <td>0.220338</td>\n",
       "      <td>0.0</td>\n",
       "      <td>1.00</td>\n",
       "      <td>1.0</td>\n",
       "      <td>1.00</td>\n",
       "      <td>3.0</td>\n",
       "    </tr>\n",
       "    <tr>\n",
       "      <th>TotRmsAbvGrd</th>\n",
       "      <td>1460.0</td>\n",
       "      <td>6.517808</td>\n",
       "      <td>1.625393</td>\n",
       "      <td>2.0</td>\n",
       "      <td>5.00</td>\n",
       "      <td>6.0</td>\n",
       "      <td>7.00</td>\n",
       "      <td>14.0</td>\n",
       "    </tr>\n",
       "    <tr>\n",
       "      <th>Fireplaces</th>\n",
       "      <td>1460.0</td>\n",
       "      <td>0.613014</td>\n",
       "      <td>0.644666</td>\n",
       "      <td>0.0</td>\n",
       "      <td>0.00</td>\n",
       "      <td>1.0</td>\n",
       "      <td>1.00</td>\n",
       "      <td>3.0</td>\n",
       "    </tr>\n",
       "    <tr>\n",
       "      <th>GarageYrBlt</th>\n",
       "      <td>1379.0</td>\n",
       "      <td>1978.506164</td>\n",
       "      <td>24.689725</td>\n",
       "      <td>1900.0</td>\n",
       "      <td>1961.00</td>\n",
       "      <td>1980.0</td>\n",
       "      <td>2002.00</td>\n",
       "      <td>2010.0</td>\n",
       "    </tr>\n",
       "    <tr>\n",
       "      <th>GarageCars</th>\n",
       "      <td>1460.0</td>\n",
       "      <td>1.767123</td>\n",
       "      <td>0.747315</td>\n",
       "      <td>0.0</td>\n",
       "      <td>1.00</td>\n",
       "      <td>2.0</td>\n",
       "      <td>2.00</td>\n",
       "      <td>4.0</td>\n",
       "    </tr>\n",
       "    <tr>\n",
       "      <th>GarageArea</th>\n",
       "      <td>1460.0</td>\n",
       "      <td>472.980137</td>\n",
       "      <td>213.804841</td>\n",
       "      <td>0.0</td>\n",
       "      <td>334.50</td>\n",
       "      <td>480.0</td>\n",
       "      <td>576.00</td>\n",
       "      <td>1418.0</td>\n",
       "    </tr>\n",
       "    <tr>\n",
       "      <th>WoodDeckSF</th>\n",
       "      <td>1460.0</td>\n",
       "      <td>94.244521</td>\n",
       "      <td>125.338794</td>\n",
       "      <td>0.0</td>\n",
       "      <td>0.00</td>\n",
       "      <td>0.0</td>\n",
       "      <td>168.00</td>\n",
       "      <td>857.0</td>\n",
       "    </tr>\n",
       "    <tr>\n",
       "      <th>OpenPorchSF</th>\n",
       "      <td>1460.0</td>\n",
       "      <td>46.660274</td>\n",
       "      <td>66.256028</td>\n",
       "      <td>0.0</td>\n",
       "      <td>0.00</td>\n",
       "      <td>25.0</td>\n",
       "      <td>68.00</td>\n",
       "      <td>547.0</td>\n",
       "    </tr>\n",
       "    <tr>\n",
       "      <th>EnclosedPorch</th>\n",
       "      <td>1460.0</td>\n",
       "      <td>21.954110</td>\n",
       "      <td>61.119149</td>\n",
       "      <td>0.0</td>\n",
       "      <td>0.00</td>\n",
       "      <td>0.0</td>\n",
       "      <td>0.00</td>\n",
       "      <td>552.0</td>\n",
       "    </tr>\n",
       "    <tr>\n",
       "      <th>3SsnPorch</th>\n",
       "      <td>1460.0</td>\n",
       "      <td>3.409589</td>\n",
       "      <td>29.317331</td>\n",
       "      <td>0.0</td>\n",
       "      <td>0.00</td>\n",
       "      <td>0.0</td>\n",
       "      <td>0.00</td>\n",
       "      <td>508.0</td>\n",
       "    </tr>\n",
       "    <tr>\n",
       "      <th>ScreenPorch</th>\n",
       "      <td>1460.0</td>\n",
       "      <td>15.060959</td>\n",
       "      <td>55.757415</td>\n",
       "      <td>0.0</td>\n",
       "      <td>0.00</td>\n",
       "      <td>0.0</td>\n",
       "      <td>0.00</td>\n",
       "      <td>480.0</td>\n",
       "    </tr>\n",
       "    <tr>\n",
       "      <th>PoolArea</th>\n",
       "      <td>1460.0</td>\n",
       "      <td>2.758904</td>\n",
       "      <td>40.177307</td>\n",
       "      <td>0.0</td>\n",
       "      <td>0.00</td>\n",
       "      <td>0.0</td>\n",
       "      <td>0.00</td>\n",
       "      <td>738.0</td>\n",
       "    </tr>\n",
       "    <tr>\n",
       "      <th>MiscVal</th>\n",
       "      <td>1460.0</td>\n",
       "      <td>43.489041</td>\n",
       "      <td>496.123024</td>\n",
       "      <td>0.0</td>\n",
       "      <td>0.00</td>\n",
       "      <td>0.0</td>\n",
       "      <td>0.00</td>\n",
       "      <td>15500.0</td>\n",
       "    </tr>\n",
       "    <tr>\n",
       "      <th>MoSold</th>\n",
       "      <td>1460.0</td>\n",
       "      <td>6.321918</td>\n",
       "      <td>2.703626</td>\n",
       "      <td>1.0</td>\n",
       "      <td>5.00</td>\n",
       "      <td>6.0</td>\n",
       "      <td>8.00</td>\n",
       "      <td>12.0</td>\n",
       "    </tr>\n",
       "    <tr>\n",
       "      <th>YrSold</th>\n",
       "      <td>1460.0</td>\n",
       "      <td>2007.815753</td>\n",
       "      <td>1.328095</td>\n",
       "      <td>2006.0</td>\n",
       "      <td>2007.00</td>\n",
       "      <td>2008.0</td>\n",
       "      <td>2009.00</td>\n",
       "      <td>2010.0</td>\n",
       "    </tr>\n",
       "    <tr>\n",
       "      <th>SalePrice</th>\n",
       "      <td>1460.0</td>\n",
       "      <td>180921.195890</td>\n",
       "      <td>79442.502883</td>\n",
       "      <td>34900.0</td>\n",
       "      <td>129975.00</td>\n",
       "      <td>163000.0</td>\n",
       "      <td>214000.00</td>\n",
       "      <td>755000.0</td>\n",
       "    </tr>\n",
       "  </tbody>\n",
       "</table>\n",
       "</div>"
      ],
      "text/plain": [
       "                count           mean           std      min        25%  \\\n",
       "Id             1460.0     730.500000    421.610009      1.0     365.75   \n",
       "MSSubClass     1460.0      56.897260     42.300571     20.0      20.00   \n",
       "LotFrontage    1201.0      70.049958     24.284752     21.0      59.00   \n",
       "LotArea        1460.0   10516.828082   9981.264932   1300.0    7553.50   \n",
       "OverallQual    1460.0       6.099315      1.382997      1.0       5.00   \n",
       "OverallCond    1460.0       5.575342      1.112799      1.0       5.00   \n",
       "YearBuilt      1460.0    1971.267808     30.202904   1872.0    1954.00   \n",
       "YearRemodAdd   1460.0    1984.865753     20.645407   1950.0    1967.00   \n",
       "MasVnrArea     1452.0     103.685262    181.066207      0.0       0.00   \n",
       "BsmtFinSF1     1460.0     443.639726    456.098091      0.0       0.00   \n",
       "BsmtFinSF2     1460.0      46.549315    161.319273      0.0       0.00   \n",
       "BsmtUnfSF      1460.0     567.240411    441.866955      0.0     223.00   \n",
       "TotalBsmtSF    1460.0    1057.429452    438.705324      0.0     795.75   \n",
       "1stFlrSF       1460.0    1162.626712    386.587738    334.0     882.00   \n",
       "2ndFlrSF       1460.0     346.992466    436.528436      0.0       0.00   \n",
       "LowQualFinSF   1460.0       5.844521     48.623081      0.0       0.00   \n",
       "GrLivArea      1460.0    1515.463699    525.480383    334.0    1129.50   \n",
       "BsmtFullBath   1460.0       0.425342      0.518911      0.0       0.00   \n",
       "BsmtHalfBath   1460.0       0.057534      0.238753      0.0       0.00   \n",
       "FullBath       1460.0       1.565068      0.550916      0.0       1.00   \n",
       "HalfBath       1460.0       0.382877      0.502885      0.0       0.00   \n",
       "BedroomAbvGr   1460.0       2.866438      0.815778      0.0       2.00   \n",
       "KitchenAbvGr   1460.0       1.046575      0.220338      0.0       1.00   \n",
       "TotRmsAbvGrd   1460.0       6.517808      1.625393      2.0       5.00   \n",
       "Fireplaces     1460.0       0.613014      0.644666      0.0       0.00   \n",
       "GarageYrBlt    1379.0    1978.506164     24.689725   1900.0    1961.00   \n",
       "GarageCars     1460.0       1.767123      0.747315      0.0       1.00   \n",
       "GarageArea     1460.0     472.980137    213.804841      0.0     334.50   \n",
       "WoodDeckSF     1460.0      94.244521    125.338794      0.0       0.00   \n",
       "OpenPorchSF    1460.0      46.660274     66.256028      0.0       0.00   \n",
       "EnclosedPorch  1460.0      21.954110     61.119149      0.0       0.00   \n",
       "3SsnPorch      1460.0       3.409589     29.317331      0.0       0.00   \n",
       "ScreenPorch    1460.0      15.060959     55.757415      0.0       0.00   \n",
       "PoolArea       1460.0       2.758904     40.177307      0.0       0.00   \n",
       "MiscVal        1460.0      43.489041    496.123024      0.0       0.00   \n",
       "MoSold         1460.0       6.321918      2.703626      1.0       5.00   \n",
       "YrSold         1460.0    2007.815753      1.328095   2006.0    2007.00   \n",
       "SalePrice      1460.0  180921.195890  79442.502883  34900.0  129975.00   \n",
       "\n",
       "                    50%        75%       max  \n",
       "Id                730.5    1095.25    1460.0  \n",
       "MSSubClass         50.0      70.00     190.0  \n",
       "LotFrontage        69.0      80.00     313.0  \n",
       "LotArea          9478.5   11601.50  215245.0  \n",
       "OverallQual         6.0       7.00      10.0  \n",
       "OverallCond         5.0       6.00       9.0  \n",
       "YearBuilt        1973.0    2000.00    2010.0  \n",
       "YearRemodAdd     1994.0    2004.00    2010.0  \n",
       "MasVnrArea          0.0     166.00    1600.0  \n",
       "BsmtFinSF1        383.5     712.25    5644.0  \n",
       "BsmtFinSF2          0.0       0.00    1474.0  \n",
       "BsmtUnfSF         477.5     808.00    2336.0  \n",
       "TotalBsmtSF       991.5    1298.25    6110.0  \n",
       "1stFlrSF         1087.0    1391.25    4692.0  \n",
       "2ndFlrSF            0.0     728.00    2065.0  \n",
       "LowQualFinSF        0.0       0.00     572.0  \n",
       "GrLivArea        1464.0    1776.75    5642.0  \n",
       "BsmtFullBath        0.0       1.00       3.0  \n",
       "BsmtHalfBath        0.0       0.00       2.0  \n",
       "FullBath            2.0       2.00       3.0  \n",
       "HalfBath            0.0       1.00       2.0  \n",
       "BedroomAbvGr        3.0       3.00       8.0  \n",
       "KitchenAbvGr        1.0       1.00       3.0  \n",
       "TotRmsAbvGrd        6.0       7.00      14.0  \n",
       "Fireplaces          1.0       1.00       3.0  \n",
       "GarageYrBlt      1980.0    2002.00    2010.0  \n",
       "GarageCars          2.0       2.00       4.0  \n",
       "GarageArea        480.0     576.00    1418.0  \n",
       "WoodDeckSF          0.0     168.00     857.0  \n",
       "OpenPorchSF        25.0      68.00     547.0  \n",
       "EnclosedPorch       0.0       0.00     552.0  \n",
       "3SsnPorch           0.0       0.00     508.0  \n",
       "ScreenPorch         0.0       0.00     480.0  \n",
       "PoolArea            0.0       0.00     738.0  \n",
       "MiscVal             0.0       0.00   15500.0  \n",
       "MoSold              6.0       8.00      12.0  \n",
       "YrSold           2008.0    2009.00    2010.0  \n",
       "SalePrice      163000.0  214000.00  755000.0  "
      ]
     },
     "execution_count": 6,
     "metadata": {},
     "output_type": "execute_result"
    }
   ],
   "source": [
    "dftrain.describe().transpose()\n",
    "#average SalePrice is $180,921"
   ]
  },
  {
   "cell_type": "code",
   "execution_count": 7,
   "id": "a05f8eb0",
   "metadata": {
    "execution": {
     "iopub.execute_input": "2021-07-13T07:47:55.787280Z",
     "iopub.status.busy": "2021-07-13T07:47:55.786298Z",
     "iopub.status.idle": "2021-07-13T07:47:55.816252Z",
     "shell.execute_reply": "2021-07-13T07:47:55.815690Z",
     "shell.execute_reply.started": "2021-07-13T05:32:10.454579Z"
    },
    "papermill": {
     "duration": 0.100947,
     "end_time": "2021-07-13T07:47:55.816404",
     "exception": false,
     "start_time": "2021-07-13T07:47:55.715457",
     "status": "completed"
    },
    "tags": []
   },
   "outputs": [
    {
     "name": "stdout",
     "output_type": "stream",
     "text": [
      "<class 'pandas.core.frame.DataFrame'>\n",
      "RangeIndex: 1460 entries, 0 to 1459\n",
      "Data columns (total 81 columns):\n",
      " #   Column         Non-Null Count  Dtype  \n",
      "---  ------         --------------  -----  \n",
      " 0   Id             1460 non-null   int64  \n",
      " 1   MSSubClass     1460 non-null   int64  \n",
      " 2   MSZoning       1460 non-null   object \n",
      " 3   LotFrontage    1201 non-null   float64\n",
      " 4   LotArea        1460 non-null   int64  \n",
      " 5   Street         1460 non-null   object \n",
      " 6   Alley          91 non-null     object \n",
      " 7   LotShape       1460 non-null   object \n",
      " 8   LandContour    1460 non-null   object \n",
      " 9   Utilities      1460 non-null   object \n",
      " 10  LotConfig      1460 non-null   object \n",
      " 11  LandSlope      1460 non-null   object \n",
      " 12  Neighborhood   1460 non-null   object \n",
      " 13  Condition1     1460 non-null   object \n",
      " 14  Condition2     1460 non-null   object \n",
      " 15  BldgType       1460 non-null   object \n",
      " 16  HouseStyle     1460 non-null   object \n",
      " 17  OverallQual    1460 non-null   int64  \n",
      " 18  OverallCond    1460 non-null   int64  \n",
      " 19  YearBuilt      1460 non-null   int64  \n",
      " 20  YearRemodAdd   1460 non-null   int64  \n",
      " 21  RoofStyle      1460 non-null   object \n",
      " 22  RoofMatl       1460 non-null   object \n",
      " 23  Exterior1st    1460 non-null   object \n",
      " 24  Exterior2nd    1460 non-null   object \n",
      " 25  MasVnrType     1452 non-null   object \n",
      " 26  MasVnrArea     1452 non-null   float64\n",
      " 27  ExterQual      1460 non-null   object \n",
      " 28  ExterCond      1460 non-null   object \n",
      " 29  Foundation     1460 non-null   object \n",
      " 30  BsmtQual       1423 non-null   object \n",
      " 31  BsmtCond       1423 non-null   object \n",
      " 32  BsmtExposure   1422 non-null   object \n",
      " 33  BsmtFinType1   1423 non-null   object \n",
      " 34  BsmtFinSF1     1460 non-null   int64  \n",
      " 35  BsmtFinType2   1422 non-null   object \n",
      " 36  BsmtFinSF2     1460 non-null   int64  \n",
      " 37  BsmtUnfSF      1460 non-null   int64  \n",
      " 38  TotalBsmtSF    1460 non-null   int64  \n",
      " 39  Heating        1460 non-null   object \n",
      " 40  HeatingQC      1460 non-null   object \n",
      " 41  CentralAir     1460 non-null   object \n",
      " 42  Electrical     1459 non-null   object \n",
      " 43  1stFlrSF       1460 non-null   int64  \n",
      " 44  2ndFlrSF       1460 non-null   int64  \n",
      " 45  LowQualFinSF   1460 non-null   int64  \n",
      " 46  GrLivArea      1460 non-null   int64  \n",
      " 47  BsmtFullBath   1460 non-null   int64  \n",
      " 48  BsmtHalfBath   1460 non-null   int64  \n",
      " 49  FullBath       1460 non-null   int64  \n",
      " 50  HalfBath       1460 non-null   int64  \n",
      " 51  BedroomAbvGr   1460 non-null   int64  \n",
      " 52  KitchenAbvGr   1460 non-null   int64  \n",
      " 53  KitchenQual    1460 non-null   object \n",
      " 54  TotRmsAbvGrd   1460 non-null   int64  \n",
      " 55  Functional     1460 non-null   object \n",
      " 56  Fireplaces     1460 non-null   int64  \n",
      " 57  FireplaceQu    770 non-null    object \n",
      " 58  GarageType     1379 non-null   object \n",
      " 59  GarageYrBlt    1379 non-null   float64\n",
      " 60  GarageFinish   1379 non-null   object \n",
      " 61  GarageCars     1460 non-null   int64  \n",
      " 62  GarageArea     1460 non-null   int64  \n",
      " 63  GarageQual     1379 non-null   object \n",
      " 64  GarageCond     1379 non-null   object \n",
      " 65  PavedDrive     1460 non-null   object \n",
      " 66  WoodDeckSF     1460 non-null   int64  \n",
      " 67  OpenPorchSF    1460 non-null   int64  \n",
      " 68  EnclosedPorch  1460 non-null   int64  \n",
      " 69  3SsnPorch      1460 non-null   int64  \n",
      " 70  ScreenPorch    1460 non-null   int64  \n",
      " 71  PoolArea       1460 non-null   int64  \n",
      " 72  PoolQC         7 non-null      object \n",
      " 73  Fence          281 non-null    object \n",
      " 74  MiscFeature    54 non-null     object \n",
      " 75  MiscVal        1460 non-null   int64  \n",
      " 76  MoSold         1460 non-null   int64  \n",
      " 77  YrSold         1460 non-null   int64  \n",
      " 78  SaleType       1460 non-null   object \n",
      " 79  SaleCondition  1460 non-null   object \n",
      " 80  SalePrice      1460 non-null   int64  \n",
      "dtypes: float64(3), int64(35), object(43)\n",
      "memory usage: 924.0+ KB\n"
     ]
    }
   ],
   "source": [
    "dftrain.info()\n",
    "#mixture of int, obj and some float"
   ]
  },
  {
   "cell_type": "code",
   "execution_count": 8,
   "id": "9ea9f646",
   "metadata": {
    "execution": {
     "iopub.execute_input": "2021-07-13T07:47:55.959692Z",
     "iopub.status.busy": "2021-07-13T07:47:55.958864Z",
     "iopub.status.idle": "2021-07-13T07:47:55.962668Z",
     "shell.execute_reply": "2021-07-13T07:47:55.963163Z",
     "shell.execute_reply.started": "2021-07-13T05:32:15.359660Z"
    },
    "papermill": {
     "duration": 0.078078,
     "end_time": "2021-07-13T07:47:55.963343",
     "exception": false,
     "start_time": "2021-07-13T07:47:55.885265",
     "status": "completed"
    },
    "tags": []
   },
   "outputs": [
    {
     "data": {
      "text/plain": [
       "(1459, 80)"
      ]
     },
     "execution_count": 8,
     "metadata": {},
     "output_type": "execute_result"
    }
   ],
   "source": [
    "#shape of test dataset\n",
    "dftest.shape"
   ]
  },
  {
   "cell_type": "code",
   "execution_count": 9,
   "id": "1ef61475",
   "metadata": {
    "execution": {
     "iopub.execute_input": "2021-07-13T07:47:56.115975Z",
     "iopub.status.busy": "2021-07-13T07:47:56.115311Z",
     "iopub.status.idle": "2021-07-13T07:47:56.538004Z",
     "shell.execute_reply": "2021-07-13T07:47:56.538721Z",
     "shell.execute_reply.started": "2021-07-13T05:32:18.182784Z"
    },
    "papermill": {
     "duration": 0.505683,
     "end_time": "2021-07-13T07:47:56.539002",
     "exception": false,
     "start_time": "2021-07-13T07:47:56.033319",
     "status": "completed"
    },
    "tags": []
   },
   "outputs": [
    {
     "data": {
      "text/plain": [
       "<AxesSubplot:xlabel='SalePrice', ylabel='Count'>"
      ]
     },
     "execution_count": 9,
     "metadata": {},
     "output_type": "execute_result"
    },
    {
     "data": {
      "image/png": "[encoded data removed]",
      "text/plain": [
       "<Figure size 720x432 with 1 Axes>"
      ]
     },
     "metadata": {},
     "output_type": "display_data"
    }
   ],
   "source": [
    "#see distribution of SalesPrice\n",
    "plt.figure(figsize=(10,6))\n",
    "sns.histplot(dftrain['SalePrice'])\n",
    "#most houses are around $100,000 to $200,000\n",
    "#seem like outlier starts at >450,000"
   ]
  },
  {
   "cell_type": "code",
   "execution_count": 10,
   "id": "0344d4ba",
   "metadata": {
    "execution": {
     "iopub.execute_input": "2021-07-13T07:47:56.682205Z",
     "iopub.status.busy": "2021-07-13T07:47:56.681564Z",
     "iopub.status.idle": "2021-07-13T07:47:56.699725Z",
     "shell.execute_reply": "2021-07-13T07:47:56.699167Z",
     "shell.execute_reply.started": "2021-07-13T05:32:21.811004Z"
    },
    "papermill": {
     "duration": 0.090737,
     "end_time": "2021-07-13T07:47:56.699908",
     "exception": false,
     "start_time": "2021-07-13T07:47:56.609171",
     "status": "completed"
    },
    "tags": []
   },
   "outputs": [
    {
     "data": {
      "text/plain": [
       "SalePrice        1.000000\n",
       "OverallQual      0.790982\n",
       "GrLivArea        0.708624\n",
       "GarageCars       0.640409\n",
       "GarageArea       0.623431\n",
       "TotalBsmtSF      0.613581\n",
       "1stFlrSF         0.605852\n",
       "FullBath         0.560664\n",
       "TotRmsAbvGrd     0.533723\n",
       "YearBuilt        0.522897\n",
       "YearRemodAdd     0.507101\n",
       "GarageYrBlt      0.486362\n",
       "MasVnrArea       0.477493\n",
       "Fireplaces       0.466929\n",
       "BsmtFinSF1       0.386420\n",
       "LotFrontage      0.351799\n",
       "WoodDeckSF       0.324413\n",
       "2ndFlrSF         0.319334\n",
       "OpenPorchSF      0.315856\n",
       "HalfBath         0.284108\n",
       "LotArea          0.263843\n",
       "BsmtFullBath     0.227122\n",
       "BsmtUnfSF        0.214479\n",
       "BedroomAbvGr     0.168213\n",
       "ScreenPorch      0.111447\n",
       "PoolArea         0.092404\n",
       "MoSold           0.046432\n",
       "3SsnPorch        0.044584\n",
       "BsmtFinSF2      -0.011378\n",
       "BsmtHalfBath    -0.016844\n",
       "MiscVal         -0.021190\n",
       "Id              -0.021917\n",
       "LowQualFinSF    -0.025606\n",
       "YrSold          -0.028923\n",
       "OverallCond     -0.077856\n",
       "MSSubClass      -0.084284\n",
       "EnclosedPorch   -0.128578\n",
       "KitchenAbvGr    -0.135907\n",
       "Name: SalePrice, dtype: float64"
      ]
     },
     "execution_count": 10,
     "metadata": {},
     "output_type": "execute_result"
    }
   ],
   "source": [
    "dftrain.corr()['SalePrice'].sort_values(ascending=False)\n",
    "#corr >=0.5 ['OverallQual', 'GrLivArea', 'GarageCars', 'GarageArea', 'TotalBsmtSF', '1stFlrSF', 'FullBath', 'TotRmsAbvGrd', 'YearBuilt', 'YearRemodAdd']\n",
    "#corr (-) ['KitchenAbvGr', 'EnclosedPorch', 'MSSubClass', 'OverallCond', 'YrSold', 'LowQualFinSF', 'MiscVal', 'BsmtHalfBath', BsmtFinSF2]"
   ]
  },
  {
   "cell_type": "markdown",
   "id": "452e27b6",
   "metadata": {
    "papermill": {
     "duration": 0.070993,
     "end_time": "2021-07-13T07:47:56.842983",
     "exception": false,
     "start_time": "2021-07-13T07:47:56.771990",
     "status": "completed"
    },
    "tags": []
   },
   "source": [
    "# **Exploratory Data Analysis**"
   ]
  },
  {
   "cell_type": "markdown",
   "id": "680fc7b5",
   "metadata": {
    "papermill": {
     "duration": 0.069953,
     "end_time": "2021-07-13T07:47:56.984527",
     "exception": false,
     "start_time": "2021-07-13T07:47:56.914574",
     "status": "completed"
    },
    "tags": []
   },
   "source": [
    "Overall Quality of Materials and finishes"
   ]
  },
  {
   "cell_type": "code",
   "execution_count": 11,
   "id": "d28773f0",
   "metadata": {
    "execution": {
     "iopub.execute_input": "2021-07-13T07:47:57.136723Z",
     "iopub.status.busy": "2021-07-13T07:47:57.136017Z",
     "iopub.status.idle": "2021-07-13T07:47:57.407917Z",
     "shell.execute_reply": "2021-07-13T07:47:57.407251Z",
     "shell.execute_reply.started": "2021-07-13T05:32:26.634037Z"
    },
    "papermill": {
     "duration": 0.352178,
     "end_time": "2021-07-13T07:47:57.408068",
     "exception": false,
     "start_time": "2021-07-13T07:47:57.055890",
     "status": "completed"
    },
    "tags": []
   },
   "outputs": [
    {
     "data": {
      "text/plain": [
       "<AxesSubplot:xlabel='OverallQual', ylabel='SalePrice'>"
      ]
     },
     "execution_count": 11,
     "metadata": {},
     "output_type": "execute_result"
    },
    {
     "data": {
      "image/png": "[encoded data removed]",
      "text/plain": [
       "<Figure size 720x432 with 1 Axes>"
      ]
     },
     "metadata": {},
     "output_type": "display_data"
    }
   ],
   "source": [
    "plt.figure(figsize=(10,6))\n",
    "sns.scatterplot(x='OverallQual', y='SalePrice', data=dftrain)\n",
    "#house with higher overall material and finish quality has higher sales price"
   ]
  },
  {
   "cell_type": "markdown",
   "id": "9bd839c6",
   "metadata": {
    "papermill": {
     "duration": 0.073275,
     "end_time": "2021-07-13T07:47:57.554603",
     "exception": false,
     "start_time": "2021-07-13T07:47:57.481328",
     "status": "completed"
    },
    "tags": []
   },
   "source": [
    "Gound Living Area (sqrft)"
   ]
  },
  {
   "cell_type": "code",
   "execution_count": 12,
   "id": "a1c9a951",
   "metadata": {
    "execution": {
     "iopub.execute_input": "2021-07-13T07:47:57.709780Z",
     "iopub.status.busy": "2021-07-13T07:47:57.709074Z",
     "iopub.status.idle": "2021-07-13T07:47:57.966873Z",
     "shell.execute_reply": "2021-07-13T07:47:57.966152Z",
     "shell.execute_reply.started": "2021-07-13T05:32:36.798498Z"
    },
    "papermill": {
     "duration": 0.339081,
     "end_time": "2021-07-13T07:47:57.967041",
     "exception": false,
     "start_time": "2021-07-13T07:47:57.627960",
     "status": "completed"
    },
    "tags": []
   },
   "outputs": [
    {
     "data": {
      "text/plain": [
       "<AxesSubplot:xlabel='GrLivArea', ylabel='SalePrice'>"
      ]
     },
     "execution_count": 12,
     "metadata": {},
     "output_type": "execute_result"
    },
    {
     "data": {
      "image/png": "[encoded data removed]",
      "text/plain": [
       "<Figure size 720x432 with 1 Axes>"
      ]
     },
     "metadata": {},
     "output_type": "display_data"
    }
   ],
   "source": [
    "plt.figure(figsize=(10,6))\n",
    "sns.scatterplot(x='GrLivArea', y='SalePrice', data=dftrain)\n",
    "#strong linear regression shown in the graph\n",
    "#should cut out houses that has above ground living area over 4,500 sqrft because its outlier will make the model less accurate"
   ]
  },
  {
   "cell_type": "code",
   "execution_count": 13,
   "id": "73521294",
   "metadata": {
    "execution": {
     "iopub.execute_input": "2021-07-13T07:47:58.127509Z",
     "iopub.status.busy": "2021-07-13T07:47:58.123244Z",
     "iopub.status.idle": "2021-07-13T07:47:58.131306Z",
     "shell.execute_reply": "2021-07-13T07:47:58.131786Z",
     "shell.execute_reply.started": "2021-07-13T05:32:32.487405Z"
    },
    "papermill": {
     "duration": 0.090489,
     "end_time": "2021-07-13T07:47:58.131972",
     "exception": false,
     "start_time": "2021-07-13T07:47:58.041483",
     "status": "completed"
    },
    "tags": []
   },
   "outputs": [],
   "source": [
    "dftrain = dftrain.drop(dftrain[dftrain['SalePrice']>600000].index)\n",
    "dftrain = dftrain.drop(dftrain[dftrain['GrLivArea']>4000].index)"
   ]
  },
  {
   "cell_type": "markdown",
   "id": "5fd53c8f",
   "metadata": {
    "papermill": {
     "duration": 0.073775,
     "end_time": "2021-07-13T07:47:58.280066",
     "exception": false,
     "start_time": "2021-07-13T07:47:58.206291",
     "status": "completed"
    },
    "tags": []
   },
   "source": [
    "Total Basement Area (sqrft)"
   ]
  },
  {
   "cell_type": "code",
   "execution_count": 14,
   "id": "fc306068",
   "metadata": {
    "execution": {
     "iopub.execute_input": "2021-07-13T07:47:58.457628Z",
     "iopub.status.busy": "2021-07-13T07:47:58.455381Z",
     "iopub.status.idle": "2021-07-13T07:47:58.702078Z",
     "shell.execute_reply": "2021-07-13T07:47:58.702591Z",
     "shell.execute_reply.started": "2021-07-13T05:32:44.222601Z"
    },
    "papermill": {
     "duration": 0.348701,
     "end_time": "2021-07-13T07:47:58.702788",
     "exception": false,
     "start_time": "2021-07-13T07:47:58.354087",
     "status": "completed"
    },
    "tags": []
   },
   "outputs": [
    {
     "data": {
      "text/plain": [
       "<AxesSubplot:xlabel='TotalBsmtSF', ylabel='SalePrice'>"
      ]
     },
     "execution_count": 14,
     "metadata": {},
     "output_type": "execute_result"
    },
    {
     "data": {
      "image/png": "[encoded data removed]",
      "text/plain": [
       "<Figure size 720x432 with 1 Axes>"
      ]
     },
     "metadata": {},
     "output_type": "display_data"
    }
   ],
   "source": [
    "plt.figure(figsize=(10,6))\n",
    "sns.scatterplot(x='TotalBsmtSF', y='SalePrice', data=dftrain)"
   ]
  },
  {
   "cell_type": "code",
   "execution_count": 15,
   "id": "2851d159",
   "metadata": {
    "execution": {
     "iopub.execute_input": "2021-07-13T07:47:58.864047Z",
     "iopub.status.busy": "2021-07-13T07:47:58.863152Z",
     "iopub.status.idle": "2021-07-13T07:47:58.867426Z",
     "shell.execute_reply": "2021-07-13T07:47:58.866884Z",
     "shell.execute_reply.started": "2021-07-13T05:32:42.158612Z"
    },
    "papermill": {
     "duration": 0.08872,
     "end_time": "2021-07-13T07:47:58.867571",
     "exception": false,
     "start_time": "2021-07-13T07:47:58.778851",
     "status": "completed"
    },
    "tags": []
   },
   "outputs": [],
   "source": [
    "#some linear relationship but should cut out the outliers too (>3000)\n",
    "dftrain = dftrain.drop(dftrain[dftrain['TotalBsmtSF']>3000].index)"
   ]
  },
  {
   "cell_type": "markdown",
   "id": "9026aa52",
   "metadata": {
    "papermill": {
     "duration": 0.076263,
     "end_time": "2021-07-13T07:47:59.020157",
     "exception": false,
     "start_time": "2021-07-13T07:47:58.943894",
     "status": "completed"
    },
    "tags": []
   },
   "source": [
    "Garage Area (sqrft)"
   ]
  },
  {
   "cell_type": "code",
   "execution_count": 16,
   "id": "ddbe4a7b",
   "metadata": {
    "execution": {
     "iopub.execute_input": "2021-07-13T07:47:59.182810Z",
     "iopub.status.busy": "2021-07-13T07:47:59.182130Z",
     "iopub.status.idle": "2021-07-13T07:47:59.457079Z",
     "shell.execute_reply": "2021-07-13T07:47:59.456456Z",
     "shell.execute_reply.started": "2021-07-13T05:32:50.478490Z"
    },
    "papermill": {
     "duration": 0.359556,
     "end_time": "2021-07-13T07:47:59.457233",
     "exception": false,
     "start_time": "2021-07-13T07:47:59.097677",
     "status": "completed"
    },
    "tags": []
   },
   "outputs": [
    {
     "data": {
      "text/plain": [
       "<AxesSubplot:xlabel='GarageArea', ylabel='SalePrice'>"
      ]
     },
     "execution_count": 16,
     "metadata": {},
     "output_type": "execute_result"
    },
    {
     "data": {
      "image/png": "[encoded data removed]",
      "text/plain": [
       "<Figure size 720x432 with 1 Axes>"
      ]
     },
     "metadata": {},
     "output_type": "display_data"
    }
   ],
   "source": [
    "plt.figure(figsize=(10,6))\n",
    "sns.scatterplot(x='GarageArea', y='SalePrice', data=dftrain)"
   ]
  },
  {
   "cell_type": "code",
   "execution_count": 17,
   "id": "8932041b",
   "metadata": {
    "execution": {
     "iopub.execute_input": "2021-07-13T07:47:59.622379Z",
     "iopub.status.busy": "2021-07-13T07:47:59.621474Z",
     "iopub.status.idle": "2021-07-13T07:47:59.625838Z",
     "shell.execute_reply": "2021-07-13T07:47:59.625299Z",
     "shell.execute_reply.started": "2021-07-13T05:32:48.243279Z"
    },
    "papermill": {
     "duration": 0.089841,
     "end_time": "2021-07-13T07:47:59.625980",
     "exception": false,
     "start_time": "2021-07-13T07:47:59.536139",
     "status": "completed"
    },
    "tags": []
   },
   "outputs": [],
   "source": [
    "#cut out outliers\n",
    "dftrain = dftrain.drop(dftrain[dftrain['GarageArea']>1200].index)"
   ]
  },
  {
   "cell_type": "markdown",
   "id": "9430eb8c",
   "metadata": {
    "papermill": {
     "duration": 0.078414,
     "end_time": "2021-07-13T07:47:59.782830",
     "exception": false,
     "start_time": "2021-07-13T07:47:59.704416",
     "status": "completed"
    },
    "tags": []
   },
   "source": [
    "Garage Car Capacity"
   ]
  },
  {
   "cell_type": "code",
   "execution_count": 18,
   "id": "a86ff9a6",
   "metadata": {
    "execution": {
     "iopub.execute_input": "2021-07-13T07:47:59.948055Z",
     "iopub.status.busy": "2021-07-13T07:47:59.947366Z",
     "iopub.status.idle": "2021-07-13T07:48:00.230207Z",
     "shell.execute_reply": "2021-07-13T07:48:00.230751Z",
     "shell.execute_reply.started": "2021-07-13T05:32:55.128624Z"
    },
    "papermill": {
     "duration": 0.368297,
     "end_time": "2021-07-13T07:48:00.230933",
     "exception": false,
     "start_time": "2021-07-13T07:47:59.862636",
     "status": "completed"
    },
    "tags": []
   },
   "outputs": [
    {
     "data": {
      "text/plain": [
       "<AxesSubplot:xlabel='GarageCars', ylabel='SalePrice'>"
      ]
     },
     "execution_count": 18,
     "metadata": {},
     "output_type": "execute_result"
    },
    {
     "data": {
      "image/png": "[encoded data removed]",
      "text/plain": [
       "<Figure size 720x432 with 1 Axes>"
      ]
     },
     "metadata": {},
     "output_type": "display_data"
    }
   ],
   "source": [
    "plt.figure(figsize=(10,6))\n",
    "sns.scatterplot(x='GarageCars', y='SalePrice', data=dftrain)"
   ]
  },
  {
   "cell_type": "markdown",
   "id": "febafff7",
   "metadata": {
    "papermill": {
     "duration": 0.083233,
     "end_time": "2021-07-13T07:48:00.400112",
     "exception": false,
     "start_time": "2021-07-13T07:48:00.316879",
     "status": "completed"
    },
    "tags": []
   },
   "source": [
    "First Floor sqrft"
   ]
  },
  {
   "cell_type": "code",
   "execution_count": 19,
   "id": "2bd609d4",
   "metadata": {
    "execution": {
     "iopub.execute_input": "2021-07-13T07:48:00.567161Z",
     "iopub.status.busy": "2021-07-13T07:48:00.566425Z",
     "iopub.status.idle": "2021-07-13T07:48:00.944926Z",
     "shell.execute_reply": "2021-07-13T07:48:00.945375Z",
     "shell.execute_reply.started": "2021-07-13T05:32:58.029717Z"
    },
    "papermill": {
     "duration": 0.463868,
     "end_time": "2021-07-13T07:48:00.945556",
     "exception": false,
     "start_time": "2021-07-13T07:48:00.481688",
     "status": "completed"
    },
    "tags": []
   },
   "outputs": [
    {
     "data": {
      "text/plain": [
       "<AxesSubplot:xlabel='1stFlrSF', ylabel='SalePrice'>"
      ]
     },
     "execution_count": 19,
     "metadata": {},
     "output_type": "execute_result"
    },
    {
     "data": {
      "image/png": "[encoded data removed]",
      "text/plain": [
       "<Figure size 720x432 with 1 Axes>"
      ]
     },
     "metadata": {},
     "output_type": "display_data"
    }
   ],
   "source": [
    "plt.figure(figsize=(10,6))\n",
    "sns.scatterplot(x='1stFlrSF', y='SalePrice', data=dftrain)"
   ]
  },
  {
   "cell_type": "markdown",
   "id": "72de2414",
   "metadata": {
    "papermill": {
     "duration": 0.084028,
     "end_time": "2021-07-13T07:48:01.112715",
     "exception": false,
     "start_time": "2021-07-13T07:48:01.028687",
     "status": "completed"
    },
    "tags": []
   },
   "source": [
    "# **Feature Engineering**"
   ]
  },
  {
   "cell_type": "markdown",
   "id": "dfd60071",
   "metadata": {
    "papermill": {
     "duration": 0.082754,
     "end_time": "2021-07-13T07:48:01.280110",
     "exception": false,
     "start_time": "2021-07-13T07:48:01.197356",
     "status": "completed"
    },
    "tags": []
   },
   "source": [
    "Seperate Features"
   ]
  },
  {
   "cell_type": "code",
   "execution_count": 20,
   "id": "f68aa209",
   "metadata": {
    "execution": {
     "iopub.execute_input": "2021-07-13T07:48:01.455862Z",
     "iopub.status.busy": "2021-07-13T07:48:01.455156Z",
     "iopub.status.idle": "2021-07-13T07:48:01.458020Z",
     "shell.execute_reply": "2021-07-13T07:48:01.458607Z",
     "shell.execute_reply.started": "2021-07-13T05:33:08.865867Z"
    },
    "papermill": {
     "duration": 0.09533,
     "end_time": "2021-07-13T07:48:01.458815",
     "exception": false,
     "start_time": "2021-07-13T07:48:01.363485",
     "status": "completed"
    },
    "tags": []
   },
   "outputs": [],
   "source": [
    "dftrain = dftrain.drop(['Id'], axis=1)\n",
    "\n",
    "xy_train = dftrain\n",
    "\n",
    "test_id = dftest['Id']\n",
    "\n",
    "x_test = dftest.drop(['Id'], axis=1)"
   ]
  },
  {
   "cell_type": "code",
   "execution_count": 21,
   "id": "2784adc4",
   "metadata": {
    "execution": {
     "iopub.execute_input": "2021-07-13T07:48:01.629357Z",
     "iopub.status.busy": "2021-07-13T07:48:01.628708Z",
     "iopub.status.idle": "2021-07-13T07:48:01.648244Z",
     "shell.execute_reply": "2021-07-13T07:48:01.648880Z",
     "shell.execute_reply.started": "2021-07-13T05:33:17.107304Z"
    },
    "papermill": {
     "duration": 0.106752,
     "end_time": "2021-07-13T07:48:01.649080",
     "exception": false,
     "start_time": "2021-07-13T07:48:01.542328",
     "status": "completed"
    },
    "tags": []
   },
   "outputs": [],
   "source": [
    "#created ttdf to do feature engineer on both train and test df at the same time\n",
    "ttdf = pd.concat([xy_train, x_test], axis=0)"
   ]
  },
  {
   "cell_type": "code",
   "execution_count": 22,
   "id": "1cced0df",
   "metadata": {
    "execution": {
     "iopub.execute_input": "2021-07-13T07:48:01.818378Z",
     "iopub.status.busy": "2021-07-13T07:48:01.817632Z",
     "iopub.status.idle": "2021-07-13T07:48:01.822361Z",
     "shell.execute_reply": "2021-07-13T07:48:01.822964Z",
     "shell.execute_reply.started": "2021-07-13T05:33:19.540532Z"
    },
    "papermill": {
     "duration": 0.090963,
     "end_time": "2021-07-13T07:48:01.823140",
     "exception": false,
     "start_time": "2021-07-13T07:48:01.732177",
     "status": "completed"
    },
    "tags": []
   },
   "outputs": [
    {
     "data": {
      "text/plain": [
       "2906"
      ]
     },
     "execution_count": 22,
     "metadata": {},
     "output_type": "execute_result"
    }
   ],
   "source": [
    "len(ttdf)"
   ]
  },
  {
   "cell_type": "code",
   "execution_count": 23,
   "id": "f1937385",
   "metadata": {
    "execution": {
     "iopub.execute_input": "2021-07-13T07:48:01.994143Z",
     "iopub.status.busy": "2021-07-13T07:48:01.993457Z",
     "iopub.status.idle": "2021-07-13T07:48:02.032021Z",
     "shell.execute_reply": "2021-07-13T07:48:02.032538Z",
     "shell.execute_reply.started": "2021-07-13T05:37:37.385626Z"
    },
    "papermill": {
     "duration": 0.126283,
     "end_time": "2021-07-13T07:48:02.032722",
     "exception": false,
     "start_time": "2021-07-13T07:48:01.906439",
     "status": "completed"
    },
    "tags": []
   },
   "outputs": [
    {
     "data": {
      "text/html": [
       "<div>\n",
       "<style scoped>\n",
       "    .dataframe tbody tr th:only-of-type {\n",
       "        vertical-align: middle;\n",
       "    }\n",
       "\n",
       "    .dataframe tbody tr th {\n",
       "        vertical-align: top;\n",
       "    }\n",
       "\n",
       "    .dataframe thead th {\n",
       "        text-align: right;\n",
       "    }\n",
       "</style>\n",
       "<table border=\"1\" class=\"dataframe\">\n",
       "  <thead>\n",
       "    <tr style=\"text-align: right;\">\n",
       "      <th></th>\n",
       "      <th>Sum_null</th>\n",
       "      <th>Percent</th>\n",
       "      <th>Features</th>\n",
       "    </tr>\n",
       "  </thead>\n",
       "  <tbody>\n",
       "    <tr>\n",
       "      <th>PoolQC</th>\n",
       "      <td>2898</td>\n",
       "      <td>99.724708</td>\n",
       "      <td>PoolQC</td>\n",
       "    </tr>\n",
       "    <tr>\n",
       "      <th>MiscFeature</th>\n",
       "      <td>2802</td>\n",
       "      <td>96.421198</td>\n",
       "      <td>MiscFeature</td>\n",
       "    </tr>\n",
       "    <tr>\n",
       "      <th>Alley</th>\n",
       "      <td>2708</td>\n",
       "      <td>93.186511</td>\n",
       "      <td>Alley</td>\n",
       "    </tr>\n",
       "    <tr>\n",
       "      <th>Fence</th>\n",
       "      <td>2336</td>\n",
       "      <td>80.385409</td>\n",
       "      <td>Fence</td>\n",
       "    </tr>\n",
       "    <tr>\n",
       "      <th>SalePrice</th>\n",
       "      <td>1459</td>\n",
       "      <td>50.206469</td>\n",
       "      <td>SalePrice</td>\n",
       "    </tr>\n",
       "    <tr>\n",
       "      <th>FireplaceQu</th>\n",
       "      <td>1419</td>\n",
       "      <td>48.830007</td>\n",
       "      <td>FireplaceQu</td>\n",
       "    </tr>\n",
       "    <tr>\n",
       "      <th>LotFrontage</th>\n",
       "      <td>484</td>\n",
       "      <td>16.655196</td>\n",
       "      <td>LotFrontage</td>\n",
       "    </tr>\n",
       "    <tr>\n",
       "      <th>GarageCond</th>\n",
       "      <td>159</td>\n",
       "      <td>5.471438</td>\n",
       "      <td>GarageCond</td>\n",
       "    </tr>\n",
       "    <tr>\n",
       "      <th>GarageFinish</th>\n",
       "      <td>159</td>\n",
       "      <td>5.471438</td>\n",
       "      <td>GarageFinish</td>\n",
       "    </tr>\n",
       "    <tr>\n",
       "      <th>GarageQual</th>\n",
       "      <td>159</td>\n",
       "      <td>5.471438</td>\n",
       "      <td>GarageQual</td>\n",
       "    </tr>\n",
       "    <tr>\n",
       "      <th>GarageYrBlt</th>\n",
       "      <td>159</td>\n",
       "      <td>5.471438</td>\n",
       "      <td>GarageYrBlt</td>\n",
       "    </tr>\n",
       "    <tr>\n",
       "      <th>GarageType</th>\n",
       "      <td>157</td>\n",
       "      <td>5.402615</td>\n",
       "      <td>GarageType</td>\n",
       "    </tr>\n",
       "    <tr>\n",
       "      <th>BsmtCond</th>\n",
       "      <td>82</td>\n",
       "      <td>2.821748</td>\n",
       "      <td>BsmtCond</td>\n",
       "    </tr>\n",
       "    <tr>\n",
       "      <th>BsmtExposure</th>\n",
       "      <td>82</td>\n",
       "      <td>2.821748</td>\n",
       "      <td>BsmtExposure</td>\n",
       "    </tr>\n",
       "    <tr>\n",
       "      <th>BsmtQual</th>\n",
       "      <td>81</td>\n",
       "      <td>2.787337</td>\n",
       "      <td>BsmtQual</td>\n",
       "    </tr>\n",
       "    <tr>\n",
       "      <th>BsmtFinType1</th>\n",
       "      <td>79</td>\n",
       "      <td>2.718513</td>\n",
       "      <td>BsmtFinType1</td>\n",
       "    </tr>\n",
       "    <tr>\n",
       "      <th>BsmtFinType2</th>\n",
       "      <td>79</td>\n",
       "      <td>2.718513</td>\n",
       "      <td>BsmtFinType2</td>\n",
       "    </tr>\n",
       "    <tr>\n",
       "      <th>MasVnrType</th>\n",
       "      <td>24</td>\n",
       "      <td>0.825877</td>\n",
       "      <td>MasVnrType</td>\n",
       "    </tr>\n",
       "    <tr>\n",
       "      <th>MasVnrArea</th>\n",
       "      <td>23</td>\n",
       "      <td>0.791466</td>\n",
       "      <td>MasVnrArea</td>\n",
       "    </tr>\n",
       "    <tr>\n",
       "      <th>MSZoning</th>\n",
       "      <td>4</td>\n",
       "      <td>0.137646</td>\n",
       "      <td>MSZoning</td>\n",
       "    </tr>\n",
       "    <tr>\n",
       "      <th>BsmtHalfBath</th>\n",
       "      <td>2</td>\n",
       "      <td>0.068823</td>\n",
       "      <td>BsmtHalfBath</td>\n",
       "    </tr>\n",
       "    <tr>\n",
       "      <th>Utilities</th>\n",
       "      <td>2</td>\n",
       "      <td>0.068823</td>\n",
       "      <td>Utilities</td>\n",
       "    </tr>\n",
       "    <tr>\n",
       "      <th>BsmtFullBath</th>\n",
       "      <td>2</td>\n",
       "      <td>0.068823</td>\n",
       "      <td>BsmtFullBath</td>\n",
       "    </tr>\n",
       "    <tr>\n",
       "      <th>Functional</th>\n",
       "      <td>2</td>\n",
       "      <td>0.068823</td>\n",
       "      <td>Functional</td>\n",
       "    </tr>\n",
       "    <tr>\n",
       "      <th>Exterior2nd</th>\n",
       "      <td>1</td>\n",
       "      <td>0.034412</td>\n",
       "      <td>Exterior2nd</td>\n",
       "    </tr>\n",
       "    <tr>\n",
       "      <th>Exterior1st</th>\n",
       "      <td>1</td>\n",
       "      <td>0.034412</td>\n",
       "      <td>Exterior1st</td>\n",
       "    </tr>\n",
       "    <tr>\n",
       "      <th>GarageArea</th>\n",
       "      <td>1</td>\n",
       "      <td>0.034412</td>\n",
       "      <td>GarageArea</td>\n",
       "    </tr>\n",
       "    <tr>\n",
       "      <th>GarageCars</th>\n",
       "      <td>1</td>\n",
       "      <td>0.034412</td>\n",
       "      <td>GarageCars</td>\n",
       "    </tr>\n",
       "    <tr>\n",
       "      <th>SaleType</th>\n",
       "      <td>1</td>\n",
       "      <td>0.034412</td>\n",
       "      <td>SaleType</td>\n",
       "    </tr>\n",
       "    <tr>\n",
       "      <th>KitchenQual</th>\n",
       "      <td>1</td>\n",
       "      <td>0.034412</td>\n",
       "      <td>KitchenQual</td>\n",
       "    </tr>\n",
       "    <tr>\n",
       "      <th>BsmtFinSF1</th>\n",
       "      <td>1</td>\n",
       "      <td>0.034412</td>\n",
       "      <td>BsmtFinSF1</td>\n",
       "    </tr>\n",
       "    <tr>\n",
       "      <th>Electrical</th>\n",
       "      <td>1</td>\n",
       "      <td>0.034412</td>\n",
       "      <td>Electrical</td>\n",
       "    </tr>\n",
       "    <tr>\n",
       "      <th>BsmtFinSF2</th>\n",
       "      <td>1</td>\n",
       "      <td>0.034412</td>\n",
       "      <td>BsmtFinSF2</td>\n",
       "    </tr>\n",
       "    <tr>\n",
       "      <th>BsmtUnfSF</th>\n",
       "      <td>1</td>\n",
       "      <td>0.034412</td>\n",
       "      <td>BsmtUnfSF</td>\n",
       "    </tr>\n",
       "    <tr>\n",
       "      <th>TotalBsmtSF</th>\n",
       "      <td>1</td>\n",
       "      <td>0.034412</td>\n",
       "      <td>TotalBsmtSF</td>\n",
       "    </tr>\n",
       "  </tbody>\n",
       "</table>\n",
       "</div>"
      ],
      "text/plain": [
       "              Sum_null    Percent      Features\n",
       "PoolQC            2898  99.724708        PoolQC\n",
       "MiscFeature       2802  96.421198   MiscFeature\n",
       "Alley             2708  93.186511         Alley\n",
       "Fence             2336  80.385409         Fence\n",
       "SalePrice         1459  50.206469     SalePrice\n",
       "FireplaceQu       1419  48.830007   FireplaceQu\n",
       "LotFrontage        484  16.655196   LotFrontage\n",
       "GarageCond         159   5.471438    GarageCond\n",
       "GarageFinish       159   5.471438  GarageFinish\n",
       "GarageQual         159   5.471438    GarageQual\n",
       "GarageYrBlt        159   5.471438   GarageYrBlt\n",
       "GarageType         157   5.402615    GarageType\n",
       "BsmtCond            82   2.821748      BsmtCond\n",
       "BsmtExposure        82   2.821748  BsmtExposure\n",
       "BsmtQual            81   2.787337      BsmtQual\n",
       "BsmtFinType1        79   2.718513  BsmtFinType1\n",
       "BsmtFinType2        79   2.718513  BsmtFinType2\n",
       "MasVnrType          24   0.825877    MasVnrType\n",
       "MasVnrArea          23   0.791466    MasVnrArea\n",
       "MSZoning             4   0.137646      MSZoning\n",
       "BsmtHalfBath         2   0.068823  BsmtHalfBath\n",
       "Utilities            2   0.068823     Utilities\n",
       "BsmtFullBath         2   0.068823  BsmtFullBath\n",
       "Functional           2   0.068823    Functional\n",
       "Exterior2nd          1   0.034412   Exterior2nd\n",
       "Exterior1st          1   0.034412   Exterior1st\n",
       "GarageArea           1   0.034412    GarageArea\n",
       "GarageCars           1   0.034412    GarageCars\n",
       "SaleType             1   0.034412      SaleType\n",
       "KitchenQual          1   0.034412   KitchenQual\n",
       "BsmtFinSF1           1   0.034412    BsmtFinSF1\n",
       "Electrical           1   0.034412    Electrical\n",
       "BsmtFinSF2           1   0.034412    BsmtFinSF2\n",
       "BsmtUnfSF            1   0.034412     BsmtUnfSF\n",
       "TotalBsmtSF          1   0.034412   TotalBsmtSF"
      ]
     },
     "execution_count": 23,
     "metadata": {},
     "output_type": "execute_result"
    }
   ],
   "source": [
    "#create table to see null values\n",
    "null_values = pd.DataFrame(ttdf.isnull().sum().sort_values(ascending=False), columns=['Sum_null'])\n",
    "null_values = null_values[null_values['Sum_null']>0]\n",
    "null_values['Percent'] = (null_values['Sum_null']/2906)*100\n",
    "null_values['Features'] = null_values.index\n",
    "\n",
    "null_values"
   ]
  },
  {
   "cell_type": "markdown",
   "id": "12110faa",
   "metadata": {
    "papermill": {
     "duration": 0.083542,
     "end_time": "2021-07-13T07:48:02.204522",
     "exception": false,
     "start_time": "2021-07-13T07:48:02.120980",
     "status": "completed"
    },
    "tags": []
   },
   "source": [
    "**Work with Missing Values**"
   ]
  },
  {
   "cell_type": "code",
   "execution_count": 24,
   "id": "54ccb7d4",
   "metadata": {
    "execution": {
     "iopub.execute_input": "2021-07-13T07:48:02.375267Z",
     "iopub.status.busy": "2021-07-13T07:48:02.374552Z",
     "iopub.status.idle": "2021-07-13T07:48:03.291101Z",
     "shell.execute_reply": "2021-07-13T07:48:03.291675Z",
     "shell.execute_reply.started": "2021-07-13T06:31:36.830372Z"
    },
    "papermill": {
     "duration": 1.00365,
     "end_time": "2021-07-13T07:48:03.291884",
     "exception": false,
     "start_time": "2021-07-13T07:48:02.288234",
     "status": "completed"
    },
    "tags": []
   },
   "outputs": [
    {
     "data": {
      "text/plain": [
       "<AxesSubplot:>"
      ]
     },
     "execution_count": 24,
     "metadata": {},
     "output_type": "execute_result"
    },
    {
     "data": {
      "image/png": "[encoded data removed]",
      "text/plain": [
       "<Figure size 720x720 with 1 Axes>"
      ]
     },
     "metadata": {},
     "output_type": "display_data"
    }
   ],
   "source": [
    "plt.figure(figsize=(10,10))\n",
    "sns.heatmap(ttdf.isnull(), yticklabels=False, cbar=False, cmap='PuBu')"
   ]
  },
  {
   "cell_type": "code",
   "execution_count": 25,
   "id": "c177e168",
   "metadata": {
    "execution": {
     "iopub.execute_input": "2021-07-13T07:48:03.468446Z",
     "iopub.status.busy": "2021-07-13T07:48:03.467692Z",
     "iopub.status.idle": "2021-07-13T07:48:03.478284Z",
     "shell.execute_reply": "2021-07-13T07:48:03.478849Z",
     "shell.execute_reply.started": "2021-07-13T05:36:21.387978Z"
    },
    "papermill": {
     "duration": 0.100618,
     "end_time": "2021-07-13T07:48:03.479031",
     "exception": false,
     "start_time": "2021-07-13T07:48:03.378413",
     "status": "completed"
    },
    "tags": []
   },
   "outputs": [],
   "source": [
    "ttdf = ttdf.drop((null_values[(null_values['Sum_null']>100)&(null_values['Sum_null']<1420)]).index, axis=1)"
   ]
  },
  {
   "cell_type": "code",
   "execution_count": 26,
   "id": "98207014",
   "metadata": {
    "execution": {
     "iopub.execute_input": "2021-07-13T07:48:03.654067Z",
     "iopub.status.busy": "2021-07-13T07:48:03.653407Z",
     "iopub.status.idle": "2021-07-13T07:48:03.660664Z",
     "shell.execute_reply": "2021-07-13T07:48:03.661213Z",
     "shell.execute_reply.started": "2021-07-13T05:37:29.135273Z"
    },
    "papermill": {
     "duration": 0.096372,
     "end_time": "2021-07-13T07:48:03.661409",
     "exception": false,
     "start_time": "2021-07-13T07:48:03.565037",
     "status": "completed"
    },
    "tags": []
   },
   "outputs": [],
   "source": [
    "ttdf = ttdf.drop(null_values[null_values['Sum_null']>2000].index, axis=1)"
   ]
  },
  {
   "cell_type": "markdown",
   "id": "0b768a76",
   "metadata": {
    "papermill": {
     "duration": 0.085134,
     "end_time": "2021-07-13T07:48:03.831843",
     "exception": false,
     "start_time": "2021-07-13T07:48:03.746709",
     "status": "completed"
    },
    "tags": []
   },
   "source": [
    "Drop duplicated info columns"
   ]
  },
  {
   "cell_type": "code",
   "execution_count": 27,
   "id": "b418cda2",
   "metadata": {
    "execution": {
     "iopub.execute_input": "2021-07-13T07:48:04.005532Z",
     "iopub.status.busy": "2021-07-13T07:48:04.004869Z",
     "iopub.status.idle": "2021-07-13T07:48:04.011964Z",
     "shell.execute_reply": "2021-07-13T07:48:04.011287Z",
     "shell.execute_reply.started": "2021-07-13T05:33:37.974875Z"
    },
    "papermill": {
     "duration": 0.095,
     "end_time": "2021-07-13T07:48:04.012110",
     "exception": false,
     "start_time": "2021-07-13T07:48:03.917110",
     "status": "completed"
    },
    "tags": []
   },
   "outputs": [],
   "source": [
    "ttdf = ttdf.drop(['OverallCond'], axis=1)"
   ]
  },
  {
   "cell_type": "code",
   "execution_count": 28,
   "id": "6206da4c",
   "metadata": {
    "execution": {
     "iopub.execute_input": "2021-07-13T07:48:04.190978Z",
     "iopub.status.busy": "2021-07-13T07:48:04.190196Z",
     "iopub.status.idle": "2021-07-13T07:48:04.196454Z",
     "shell.execute_reply": "2021-07-13T07:48:04.196973Z",
     "shell.execute_reply.started": "2021-07-13T05:33:40.427064Z"
    },
    "papermill": {
     "duration": 0.096692,
     "end_time": "2021-07-13T07:48:04.197154",
     "exception": false,
     "start_time": "2021-07-13T07:48:04.100462",
     "status": "completed"
    },
    "tags": []
   },
   "outputs": [],
   "source": [
    "ttdf = ttdf.drop(['BsmtCond'], axis=1)"
   ]
  },
  {
   "cell_type": "code",
   "execution_count": 29,
   "id": "2ec36149",
   "metadata": {
    "execution": {
     "iopub.execute_input": "2021-07-13T07:48:04.372449Z",
     "iopub.status.busy": "2021-07-13T07:48:04.371845Z",
     "iopub.status.idle": "2021-07-13T07:48:04.377864Z",
     "shell.execute_reply": "2021-07-13T07:48:04.378424Z",
     "shell.execute_reply.started": "2021-07-13T05:33:41.994765Z"
    },
    "papermill": {
     "duration": 0.095093,
     "end_time": "2021-07-13T07:48:04.378593",
     "exception": false,
     "start_time": "2021-07-13T07:48:04.283500",
     "status": "completed"
    },
    "tags": []
   },
   "outputs": [],
   "source": [
    "ttdf = ttdf.drop(['LandSlope'], axis=1)"
   ]
  },
  {
   "cell_type": "code",
   "execution_count": 30,
   "id": "f829016a",
   "metadata": {
    "execution": {
     "iopub.execute_input": "2021-07-13T07:48:04.555882Z",
     "iopub.status.busy": "2021-07-13T07:48:04.555200Z",
     "iopub.status.idle": "2021-07-13T07:48:04.564182Z",
     "shell.execute_reply": "2021-07-13T07:48:04.564718Z",
     "shell.execute_reply.started": "2021-07-13T05:33:43.647605Z"
    },
    "papermill": {
     "duration": 0.098616,
     "end_time": "2021-07-13T07:48:04.564936",
     "exception": false,
     "start_time": "2021-07-13T07:48:04.466320",
     "status": "completed"
    },
    "tags": []
   },
   "outputs": [],
   "source": [
    "ttdf = ttdf.drop(['1stFlrSF'], axis=1)\n",
    "ttdf = ttdf.drop(['2ndFlrSF'], axis=1)"
   ]
  },
  {
   "cell_type": "code",
   "execution_count": 31,
   "id": "e5617573",
   "metadata": {
    "execution": {
     "iopub.execute_input": "2021-07-13T07:48:04.739871Z",
     "iopub.status.busy": "2021-07-13T07:48:04.739156Z",
     "iopub.status.idle": "2021-07-13T07:48:04.745585Z",
     "shell.execute_reply": "2021-07-13T07:48:04.746146Z",
     "shell.execute_reply.started": "2021-07-13T05:33:45.512592Z"
    },
    "papermill": {
     "duration": 0.095875,
     "end_time": "2021-07-13T07:48:04.746338",
     "exception": false,
     "start_time": "2021-07-13T07:48:04.650463",
     "status": "completed"
    },
    "tags": []
   },
   "outputs": [],
   "source": [
    "ttdf = ttdf.drop(['HouseStyle'], axis=1)"
   ]
  },
  {
   "cell_type": "code",
   "execution_count": 32,
   "id": "c4bd3219",
   "metadata": {
    "execution": {
     "iopub.execute_input": "2021-07-13T07:48:04.921551Z",
     "iopub.status.busy": "2021-07-13T07:48:04.920901Z",
     "iopub.status.idle": "2021-07-13T07:48:04.927550Z",
     "shell.execute_reply": "2021-07-13T07:48:04.927045Z",
     "shell.execute_reply.started": "2021-07-13T05:33:48.653216Z"
    },
    "papermill": {
     "duration": 0.094889,
     "end_time": "2021-07-13T07:48:04.927713",
     "exception": false,
     "start_time": "2021-07-13T07:48:04.832824",
     "status": "completed"
    },
    "tags": []
   },
   "outputs": [],
   "source": [
    "ttdf = ttdf.drop(['RoofMatl'], axis=1)"
   ]
  },
  {
   "cell_type": "markdown",
   "id": "0deca7f7",
   "metadata": {
    "papermill": {
     "duration": 0.090618,
     "end_time": "2021-07-13T07:48:05.104713",
     "exception": false,
     "start_time": "2021-07-13T07:48:05.014095",
     "status": "completed"
    },
    "tags": []
   },
   "source": [
    "Drop Year built info"
   ]
  },
  {
   "cell_type": "code",
   "execution_count": 33,
   "id": "9e11d90f",
   "metadata": {
    "execution": {
     "iopub.execute_input": "2021-07-13T07:48:05.313070Z",
     "iopub.status.busy": "2021-07-13T07:48:05.312027Z",
     "iopub.status.idle": "2021-07-13T07:48:05.315148Z",
     "shell.execute_reply": "2021-07-13T07:48:05.314623Z",
     "shell.execute_reply.started": "2021-07-13T05:33:50.627561Z"
    },
    "papermill": {
     "duration": 0.099441,
     "end_time": "2021-07-13T07:48:05.315295",
     "exception": false,
     "start_time": "2021-07-13T07:48:05.215854",
     "status": "completed"
    },
    "tags": []
   },
   "outputs": [],
   "source": [
    "ttdf = ttdf.drop(['YearBuilt'], axis=1)"
   ]
  },
  {
   "cell_type": "code",
   "execution_count": 34,
   "id": "bb146a6b",
   "metadata": {
    "execution": {
     "iopub.execute_input": "2021-07-13T07:48:05.497401Z",
     "iopub.status.busy": "2021-07-13T07:48:05.495924Z",
     "iopub.status.idle": "2021-07-13T07:48:05.500994Z",
     "shell.execute_reply": "2021-07-13T07:48:05.500323Z",
     "shell.execute_reply.started": "2021-07-13T05:33:52.456733Z"
    },
    "papermill": {
     "duration": 0.099273,
     "end_time": "2021-07-13T07:48:05.501147",
     "exception": false,
     "start_time": "2021-07-13T07:48:05.401874",
     "status": "completed"
    },
    "tags": []
   },
   "outputs": [],
   "source": [
    "ttdf = ttdf.drop(['YearRemodAdd'], axis=1)"
   ]
  },
  {
   "cell_type": "markdown",
   "id": "3138bc4e",
   "metadata": {
    "papermill": {
     "duration": 0.087973,
     "end_time": "2021-07-13T07:48:05.677494",
     "exception": false,
     "start_time": "2021-07-13T07:48:05.589521",
     "status": "completed"
    },
    "tags": []
   },
   "source": [
    "Fill null with info got from description file"
   ]
  },
  {
   "cell_type": "code",
   "execution_count": 35,
   "id": "3e15a71e",
   "metadata": {
    "execution": {
     "iopub.execute_input": "2021-07-13T07:48:05.866700Z",
     "iopub.status.busy": "2021-07-13T07:48:05.866051Z",
     "iopub.status.idle": "2021-07-13T07:48:05.869065Z",
     "shell.execute_reply": "2021-07-13T07:48:05.868438Z",
     "shell.execute_reply.started": "2021-07-13T05:33:57.589140Z"
    },
    "papermill": {
     "duration": 0.103099,
     "end_time": "2021-07-13T07:48:05.869209",
     "exception": false,
     "start_time": "2021-07-13T07:48:05.766110",
     "status": "completed"
    },
    "tags": []
   },
   "outputs": [],
   "source": [
    "ttdf['MasVnrType'] = ttdf['MasVnrType'].fillna('none')\n",
    "ttdf['BsmtExposure'] = ttdf['BsmtExposure'].fillna('no_bsmt')\n",
    "ttdf['BsmtFinType1'] = ttdf['BsmtFinType1'].fillna('no_bsmt')\n",
    "ttdf['BsmtFinType2'] = ttdf['BsmtFinType2'].fillna('no_bsmt')\n",
    "ttdf['BsmtQual'] = ttdf['BsmtQual'].fillna('no_bsmt')"
   ]
  },
  {
   "cell_type": "markdown",
   "id": "713382ef",
   "metadata": {
    "papermill": {
     "duration": 0.087789,
     "end_time": "2021-07-13T07:48:06.045795",
     "exception": false,
     "start_time": "2021-07-13T07:48:05.958006",
     "status": "completed"
    },
    "tags": []
   },
   "source": [
    "Fill null with mean values"
   ]
  },
  {
   "cell_type": "code",
   "execution_count": 36,
   "id": "8814e053",
   "metadata": {
    "execution": {
     "iopub.execute_input": "2021-07-13T07:48:06.227564Z",
     "iopub.status.busy": "2021-07-13T07:48:06.226885Z",
     "iopub.status.idle": "2021-07-13T07:48:06.230139Z",
     "shell.execute_reply": "2021-07-13T07:48:06.229458Z",
     "shell.execute_reply.started": "2021-07-13T05:34:00.584164Z"
    },
    "papermill": {
     "duration": 0.096442,
     "end_time": "2021-07-13T07:48:06.230326",
     "exception": false,
     "start_time": "2021-07-13T07:48:06.133884",
     "status": "completed"
    },
    "tags": []
   },
   "outputs": [],
   "source": [
    "ttdf['MasVnrArea'] = ttdf['MasVnrArea'].fillna(value=ttdf['MasVnrArea'].mean())"
   ]
  },
  {
   "cell_type": "markdown",
   "id": "4368faaf",
   "metadata": {
    "papermill": {
     "duration": 0.094051,
     "end_time": "2021-07-13T07:48:06.420202",
     "exception": false,
     "start_time": "2021-07-13T07:48:06.326151",
     "status": "completed"
    },
    "tags": []
   },
   "source": [
    "**Combine features**"
   ]
  },
  {
   "cell_type": "code",
   "execution_count": 37,
   "id": "4c29a278",
   "metadata": {
    "execution": {
     "iopub.execute_input": "2021-07-13T07:48:06.610807Z",
     "iopub.status.busy": "2021-07-13T07:48:06.610073Z",
     "iopub.status.idle": "2021-07-13T07:48:06.619969Z",
     "shell.execute_reply": "2021-07-13T07:48:06.620665Z",
     "shell.execute_reply.started": "2021-07-13T05:37:52.100948Z"
    },
    "papermill": {
     "duration": 0.106679,
     "end_time": "2021-07-13T07:48:06.620942",
     "exception": false,
     "start_time": "2021-07-13T07:48:06.514263",
     "status": "completed"
    },
    "tags": []
   },
   "outputs": [],
   "source": [
    "ttdf['Bathrooms_total'] = (ttdf['FullBath'] + ttdf['BsmtFullBath'] + (0.5* (ttdf['HalfBath']+ttdf['BsmtHalfBath'])))\n",
    "\n",
    "ttdf.drop(['FullBath'], axis=1, inplace=True)\n",
    "ttdf.drop(['BsmtFullBath'], axis=1, inplace=True)\n",
    "ttdf.drop(['HalfBath'], axis=1, inplace=True)\n",
    "ttdf.drop(['BsmtHalfBath'], axis=1, inplace=True)"
   ]
  },
  {
   "cell_type": "code",
   "execution_count": 38,
   "id": "f32223ba",
   "metadata": {
    "execution": {
     "iopub.execute_input": "2021-07-13T07:48:06.799368Z",
     "iopub.status.busy": "2021-07-13T07:48:06.798552Z",
     "iopub.status.idle": "2021-07-13T07:48:06.815064Z",
     "shell.execute_reply": "2021-07-13T07:48:06.815627Z",
     "shell.execute_reply.started": "2021-07-13T05:37:54.521810Z"
    },
    "papermill": {
     "duration": 0.106668,
     "end_time": "2021-07-13T07:48:06.815837",
     "exception": false,
     "start_time": "2021-07-13T07:48:06.709169",
     "status": "completed"
    },
    "tags": []
   },
   "outputs": [],
   "source": [
    "ttdf['PorchTotalSF'] = (ttdf['OpenPorchSF'] + ttdf['EnclosedPorch'] + ttdf['3SsnPorch'] + ttdf['ScreenPorch'])\n",
    "\n",
    "ttdf.drop(['OpenPorchSF'], axis=1, inplace=True)\n",
    "ttdf.drop(['EnclosedPorch'], axis=1, inplace=True)\n",
    "ttdf.drop(['3SsnPorch'], axis=1, inplace=True)\n",
    "ttdf.drop(['ScreenPorch'], axis=1, inplace=True)"
   ]
  },
  {
   "cell_type": "markdown",
   "id": "beb309c3",
   "metadata": {
    "papermill": {
     "duration": 0.086517,
     "end_time": "2021-07-13T07:48:06.988089",
     "exception": false,
     "start_time": "2021-07-13T07:48:06.901572",
     "status": "completed"
    },
    "tags": []
   },
   "source": [
    "**Convert Categorical Feature to Dummy Variables**"
   ]
  },
  {
   "cell_type": "code",
   "execution_count": 39,
   "id": "88cc7b5a",
   "metadata": {
    "execution": {
     "iopub.execute_input": "2021-07-13T07:48:07.181023Z",
     "iopub.status.busy": "2021-07-13T07:48:07.180311Z",
     "iopub.status.idle": "2021-07-13T07:48:07.196751Z",
     "shell.execute_reply": "2021-07-13T07:48:07.197528Z",
     "shell.execute_reply.started": "2021-07-13T05:39:01.703762Z"
    },
    "papermill": {
     "duration": 0.122613,
     "end_time": "2021-07-13T07:48:07.197791",
     "exception": false,
     "start_time": "2021-07-13T07:48:07.075178",
     "status": "completed"
    },
    "tags": []
   },
   "outputs": [
    {
     "name": "stdout",
     "output_type": "stream",
     "text": [
      "<class 'pandas.core.frame.DataFrame'>\n",
      "Int64Index: 2906 entries, 0 to 1458\n",
      "Data columns (total 54 columns):\n",
      " #   Column           Non-Null Count  Dtype  \n",
      "---  ------           --------------  -----  \n",
      " 0   MSSubClass       2906 non-null   int64  \n",
      " 1   MSZoning         2902 non-null   object \n",
      " 2   LotArea          2906 non-null   int64  \n",
      " 3   Street           2906 non-null   object \n",
      " 4   LotShape         2906 non-null   object \n",
      " 5   LandContour      2906 non-null   object \n",
      " 6   Utilities        2904 non-null   object \n",
      " 7   LotConfig        2906 non-null   object \n",
      " 8   Neighborhood     2906 non-null   object \n",
      " 9   Condition1       2906 non-null   object \n",
      " 10  Condition2       2906 non-null   object \n",
      " 11  BldgType         2906 non-null   object \n",
      " 12  OverallQual      2906 non-null   int64  \n",
      " 13  RoofStyle        2906 non-null   object \n",
      " 14  Exterior1st      2905 non-null   object \n",
      " 15  Exterior2nd      2905 non-null   object \n",
      " 16  MasVnrType       2906 non-null   object \n",
      " 17  MasVnrArea       2906 non-null   float64\n",
      " 18  ExterQual        2906 non-null   object \n",
      " 19  ExterCond        2906 non-null   object \n",
      " 20  Foundation       2906 non-null   object \n",
      " 21  BsmtQual         2906 non-null   object \n",
      " 22  BsmtExposure     2906 non-null   object \n",
      " 23  BsmtFinType1     2906 non-null   object \n",
      " 24  BsmtFinSF1       2905 non-null   float64\n",
      " 25  BsmtFinType2     2906 non-null   object \n",
      " 26  BsmtFinSF2       2905 non-null   float64\n",
      " 27  BsmtUnfSF        2905 non-null   float64\n",
      " 28  TotalBsmtSF      2905 non-null   float64\n",
      " 29  Heating          2906 non-null   object \n",
      " 30  HeatingQC        2906 non-null   object \n",
      " 31  CentralAir       2906 non-null   object \n",
      " 32  Electrical       2905 non-null   object \n",
      " 33  LowQualFinSF     2906 non-null   int64  \n",
      " 34  GrLivArea        2906 non-null   int64  \n",
      " 35  BedroomAbvGr     2906 non-null   int64  \n",
      " 36  KitchenAbvGr     2906 non-null   int64  \n",
      " 37  KitchenQual      2905 non-null   object \n",
      " 38  TotRmsAbvGrd     2906 non-null   int64  \n",
      " 39  Functional       2904 non-null   object \n",
      " 40  Fireplaces       2906 non-null   int64  \n",
      " 41  GarageCars       2905 non-null   float64\n",
      " 42  GarageArea       2905 non-null   float64\n",
      " 43  PavedDrive       2906 non-null   object \n",
      " 44  WoodDeckSF       2906 non-null   int64  \n",
      " 45  PoolArea         2906 non-null   int64  \n",
      " 46  MiscVal          2906 non-null   int64  \n",
      " 47  MoSold           2906 non-null   int64  \n",
      " 48  YrSold           2906 non-null   int64  \n",
      " 49  SaleType         2905 non-null   object \n",
      " 50  SaleCondition    2906 non-null   object \n",
      " 51  SalePrice        1447 non-null   float64\n",
      " 52  Bathrooms_total  2904 non-null   float64\n",
      " 53  PorchTotalSF     2906 non-null   int64  \n",
      "dtypes: float64(9), int64(15), object(30)\n",
      "memory usage: 1.2+ MB\n"
     ]
    }
   ],
   "source": [
    "ttdf.info()"
   ]
  },
  {
   "cell_type": "code",
   "execution_count": 40,
   "id": "1b8bbffe",
   "metadata": {
    "execution": {
     "iopub.execute_input": "2021-07-13T07:48:07.390761Z",
     "iopub.status.busy": "2021-07-13T07:48:07.390064Z",
     "iopub.status.idle": "2021-07-13T07:48:07.396159Z",
     "shell.execute_reply": "2021-07-13T07:48:07.395577Z",
     "shell.execute_reply.started": "2021-07-13T05:39:05.206727Z"
    },
    "papermill": {
     "duration": 0.09865,
     "end_time": "2021-07-13T07:48:07.396339",
     "exception": false,
     "start_time": "2021-07-13T07:48:07.297689",
     "status": "completed"
    },
    "tags": []
   },
   "outputs": [
    {
     "data": {
      "text/plain": [
       "(2906, 54)"
      ]
     },
     "execution_count": 40,
     "metadata": {},
     "output_type": "execute_result"
    }
   ],
   "source": [
    "ttdf.shape"
   ]
  },
  {
   "cell_type": "code",
   "execution_count": 41,
   "id": "6778c3c3",
   "metadata": {
    "execution": {
     "iopub.execute_input": "2021-07-13T07:48:07.581069Z",
     "iopub.status.busy": "2021-07-13T07:48:07.580353Z",
     "iopub.status.idle": "2021-07-13T07:48:07.588254Z",
     "shell.execute_reply": "2021-07-13T07:48:07.587713Z",
     "shell.execute_reply.started": "2021-07-13T05:39:11.253034Z"
    },
    "papermill": {
     "duration": 0.102666,
     "end_time": "2021-07-13T07:48:07.588398",
     "exception": false,
     "start_time": "2021-07-13T07:48:07.485732",
     "status": "completed"
    },
    "tags": []
   },
   "outputs": [
    {
     "data": {
      "text/plain": [
       "Index(['MSZoning', 'Street', 'LotShape', 'LandContour', 'Utilities',\n",
       "       'LotConfig', 'Neighborhood', 'Condition1', 'Condition2', 'BldgType',\n",
       "       'RoofStyle', 'Exterior1st', 'Exterior2nd', 'MasVnrType', 'ExterQual',\n",
       "       'ExterCond', 'Foundation', 'BsmtQual', 'BsmtExposure', 'BsmtFinType1',\n",
       "       'BsmtFinType2', 'Heating', 'HeatingQC', 'CentralAir', 'Electrical',\n",
       "       'KitchenQual', 'Functional', 'PavedDrive', 'SaleType', 'SaleCondition'],\n",
       "      dtype='object')"
      ]
     },
     "execution_count": 41,
     "metadata": {},
     "output_type": "execute_result"
    }
   ],
   "source": [
    "ttdf.select_dtypes(include='object').columns"
   ]
  },
  {
   "cell_type": "code",
   "execution_count": 42,
   "id": "dc4d97e7",
   "metadata": {
    "execution": {
     "iopub.execute_input": "2021-07-13T07:48:07.777438Z",
     "iopub.status.busy": "2021-07-13T07:48:07.770371Z",
     "iopub.status.idle": "2021-07-13T07:48:07.811313Z",
     "shell.execute_reply": "2021-07-13T07:48:07.810732Z",
     "shell.execute_reply.started": "2021-07-13T05:39:14.907150Z"
    },
    "papermill": {
     "duration": 0.136667,
     "end_time": "2021-07-13T07:48:07.811466",
     "exception": false,
     "start_time": "2021-07-13T07:48:07.674799",
     "status": "completed"
    },
    "tags": []
   },
   "outputs": [],
   "source": [
    "mszoning = pd.get_dummies(ttdf['MSZoning'], drop_first=True)\n",
    "street = pd.get_dummies(ttdf['Street'], drop_first=True)\n",
    "lotshape = pd.get_dummies(ttdf['LotShape'], drop_first=True)\n",
    "landcontour = pd.get_dummies(ttdf['LandContour'], drop_first=True)\n",
    "utilities = pd.get_dummies(ttdf['Utilities'], drop_first=True)\n",
    "lotconfig = pd.get_dummies(ttdf['LotConfig'], drop_first=True)\n",
    "neighborhood = pd.get_dummies(ttdf['Neighborhood'], drop_first=True)\n",
    "condition1 = pd.get_dummies(ttdf['Condition1'], drop_first=True)\n",
    "condition2 = pd.get_dummies(ttdf['Condition2'], drop_first=True)\n",
    "bldgtype = pd.get_dummies(ttdf['BldgType'], drop_first=True)\n",
    "roofstyle = pd.get_dummies(ttdf['RoofStyle'], drop_first=True)\n",
    "exterior1st = pd.get_dummies(ttdf['Exterior1st'], drop_first=True)\n",
    "exterior2nd = pd.get_dummies(ttdf['Exterior2nd'], drop_first=True)\n",
    "masvnrtype = pd.get_dummies(ttdf['MasVnrType'], drop_first=True)\n",
    "exterqual = pd.get_dummies(ttdf['ExterQual'], drop_first=True)\n",
    "extercond = pd.get_dummies(ttdf['ExterCond'], drop_first=True)\n",
    "foundation = pd.get_dummies(ttdf['Foundation'], drop_first=True)\n",
    "bsmtqual = pd.get_dummies(ttdf['BsmtQual'], drop_first=True)\n",
    "bsmtexposure = pd.get_dummies(ttdf['BsmtExposure'], drop_first=True)\n",
    "bsmtfintype1 = pd.get_dummies(ttdf['BsmtFinType1'], drop_first=True)\n",
    "bsmtfintype2 = pd.get_dummies(ttdf['BsmtFinType2'], drop_first=True)\n",
    "heating = pd.get_dummies(ttdf['Heating'], drop_first=True)\n",
    "heatingqc = pd.get_dummies(ttdf['HeatingQC'], drop_first=True)\n",
    "centralair = pd.get_dummies(ttdf['CentralAir'], drop_first=True)\n",
    "electrical = pd.get_dummies(ttdf['Electrical'], drop_first=True)\n",
    "kitchenqual = pd.get_dummies(ttdf['KitchenQual'], drop_first=True)\n",
    "functional = pd.get_dummies(ttdf['Functional'], drop_first=True)\n",
    "paveddrive = pd.get_dummies(ttdf['PavedDrive'], drop_first=True)\n",
    "saletype = pd.get_dummies(ttdf['SaleType'], drop_first=True)\n",
    "salecondition = pd.get_dummies(ttdf['SaleCondition'], drop_first=True)"
   ]
  },
  {
   "cell_type": "code",
   "execution_count": 43,
   "id": "da8a27f1",
   "metadata": {
    "execution": {
     "iopub.execute_input": "2021-07-13T07:48:07.993107Z",
     "iopub.status.busy": "2021-07-13T07:48:07.992389Z",
     "iopub.status.idle": "2021-07-13T07:48:08.004534Z",
     "shell.execute_reply": "2021-07-13T07:48:08.005060Z",
     "shell.execute_reply.started": "2021-07-13T05:39:25.753710Z"
    },
    "papermill": {
     "duration": 0.10715,
     "end_time": "2021-07-13T07:48:08.005235",
     "exception": false,
     "start_time": "2021-07-13T07:48:07.898085",
     "status": "completed"
    },
    "tags": []
   },
   "outputs": [],
   "source": [
    "ttdf = pd.concat([ttdf, mszoning, street, salecondition, saletype, paveddrive, functional, kitchenqual, electrical, centralair, heatingqc, heating, bsmtfintype2, bsmtfintype1, bsmtexposure, bsmtqual, foundation, extercond, exterqual, masvnrtype, exterior2nd, exterior1st, roofstyle, bldgtype, condition2, condition1, neighborhood, lotconfig, utilities, landcontour, lotshape], axis=1)"
   ]
  },
  {
   "cell_type": "code",
   "execution_count": 44,
   "id": "82da4454",
   "metadata": {
    "execution": {
     "iopub.execute_input": "2021-07-13T07:48:08.188139Z",
     "iopub.status.busy": "2021-07-13T07:48:08.187421Z",
     "iopub.status.idle": "2021-07-13T07:48:08.198077Z",
     "shell.execute_reply": "2021-07-13T07:48:08.198628Z",
     "shell.execute_reply.started": "2021-07-13T05:39:31.457101Z"
    },
    "papermill": {
     "duration": 0.103895,
     "end_time": "2021-07-13T07:48:08.198832",
     "exception": false,
     "start_time": "2021-07-13T07:48:08.094937",
     "status": "completed"
    },
    "tags": []
   },
   "outputs": [],
   "source": [
    "ttdf.drop(['MSZoning', 'Street', 'LotShape', 'LandContour', 'Utilities', 'LotConfig', 'Neighborhood', 'Condition1', 'Condition2', 'BldgType', 'RoofStyle', 'Exterior1st', 'Exterior2nd', 'MasVnrType', 'ExterQual', 'ExterCond', 'Foundation', 'BsmtQual', 'BsmtExposure', 'BsmtFinType1', 'BsmtFinType2', 'Heating', 'HeatingQC', 'CentralAir', 'Electrical', 'KitchenQual', 'Functional', 'PavedDrive', 'SaleType', 'SaleCondition'], axis=1, inplace=True)"
   ]
  },
  {
   "cell_type": "code",
   "execution_count": 45,
   "id": "c50a37c8",
   "metadata": {
    "execution": {
     "iopub.execute_input": "2021-07-13T07:48:08.380927Z",
     "iopub.status.busy": "2021-07-13T07:48:08.380312Z",
     "iopub.status.idle": "2021-07-13T07:48:08.399030Z",
     "shell.execute_reply": "2021-07-13T07:48:08.398484Z",
     "shell.execute_reply.started": "2021-07-13T05:39:37.021341Z"
    },
    "papermill": {
     "duration": 0.110992,
     "end_time": "2021-07-13T07:48:08.399170",
     "exception": false,
     "start_time": "2021-07-13T07:48:08.288178",
     "status": "completed"
    },
    "tags": []
   },
   "outputs": [
    {
     "name": "stdout",
     "output_type": "stream",
     "text": [
      "<class 'pandas.core.frame.DataFrame'>\n",
      "Int64Index: 2906 entries, 0 to 1458\n",
      "Columns: 191 entries, MSSubClass to Reg\n",
      "dtypes: float64(9), int64(15), uint8(167)\n",
      "memory usage: 1.0 MB\n"
     ]
    }
   ],
   "source": [
    "ttdf.info()\n",
    "#now all columns in numeric form"
   ]
  },
  {
   "cell_type": "markdown",
   "id": "40d1e284",
   "metadata": {
    "papermill": {
     "duration": 0.086276,
     "end_time": "2021-07-13T07:48:08.572631",
     "exception": false,
     "start_time": "2021-07-13T07:48:08.486355",
     "status": "completed"
    },
    "tags": []
   },
   "source": [
    "# **Create Model**"
   ]
  },
  {
   "cell_type": "markdown",
   "id": "cc5e6e19",
   "metadata": {
    "papermill": {
     "duration": 0.086136,
     "end_time": "2021-07-13T07:48:08.745689",
     "exception": false,
     "start_time": "2021-07-13T07:48:08.659553",
     "status": "completed"
    },
    "tags": []
   },
   "source": [
    "Seperate train and test data"
   ]
  },
  {
   "cell_type": "code",
   "execution_count": 46,
   "id": "ff3cc233",
   "metadata": {
    "execution": {
     "iopub.execute_input": "2021-07-13T07:48:08.925991Z",
     "iopub.status.busy": "2021-07-13T07:48:08.925241Z",
     "iopub.status.idle": "2021-07-13T07:48:08.927931Z",
     "shell.execute_reply": "2021-07-13T07:48:08.928476Z",
     "shell.execute_reply.started": "2021-07-13T06:29:36.036267Z"
    },
    "papermill": {
     "duration": 0.095752,
     "end_time": "2021-07-13T07:48:08.928651",
     "exception": false,
     "start_time": "2021-07-13T07:48:08.832899",
     "status": "completed"
    },
    "tags": []
   },
   "outputs": [
    {
     "data": {
      "text/plain": [
       "(2906, 191)"
      ]
     },
     "execution_count": 46,
     "metadata": {},
     "output_type": "execute_result"
    }
   ],
   "source": [
    "ttdf.shape"
   ]
  },
  {
   "cell_type": "code",
   "execution_count": 47,
   "id": "d8ca571b",
   "metadata": {
    "execution": {
     "iopub.execute_input": "2021-07-13T07:48:09.113364Z",
     "iopub.status.busy": "2021-07-13T07:48:09.112641Z",
     "iopub.status.idle": "2021-07-13T07:48:09.123068Z",
     "shell.execute_reply": "2021-07-13T07:48:09.123591Z",
     "shell.execute_reply.started": "2021-07-13T06:31:06.622166Z"
    },
    "papermill": {
     "duration": 0.102732,
     "end_time": "2021-07-13T07:48:09.123794",
     "exception": false,
     "start_time": "2021-07-13T07:48:09.021062",
     "status": "completed"
    },
    "tags": []
   },
   "outputs": [
    {
     "data": {
      "text/plain": [
       "MSSubClass            0\n",
       "CBlock                0\n",
       "CemntBd               0\n",
       "HdBoard               0\n",
       "ImStucc               0\n",
       "                   ... \n",
       "GarageCars            1\n",
       "BsmtFinSF2            1\n",
       "TotalBsmtSF           1\n",
       "Bathrooms_total       2\n",
       "SalePrice          1459\n",
       "Length: 191, dtype: int64"
      ]
     },
     "execution_count": 47,
     "metadata": {},
     "output_type": "execute_result"
    }
   ],
   "source": [
    "ttdf.isnull().sum().sort_values()"
   ]
  },
  {
   "cell_type": "code",
   "execution_count": 48,
   "id": "c4ed04d0",
   "metadata": {
    "execution": {
     "iopub.execute_input": "2021-07-13T07:48:09.312382Z",
     "iopub.status.busy": "2021-07-13T07:48:09.311352Z",
     "iopub.status.idle": "2021-07-13T07:48:09.313561Z",
     "shell.execute_reply": "2021-07-13T07:48:09.314011Z",
     "shell.execute_reply.started": "2021-07-13T06:30:22.334802Z"
    },
    "papermill": {
     "duration": 0.098162,
     "end_time": "2021-07-13T07:48:09.314184",
     "exception": false,
     "start_time": "2021-07-13T07:48:09.216022",
     "status": "completed"
    },
    "tags": []
   },
   "outputs": [],
   "source": [
    "trainxy = ttdf[0:1447]"
   ]
  },
  {
   "cell_type": "code",
   "execution_count": 49,
   "id": "ce5e7b2e",
   "metadata": {
    "execution": {
     "iopub.execute_input": "2021-07-13T07:48:09.495575Z",
     "iopub.status.busy": "2021-07-13T07:48:09.494637Z",
     "iopub.status.idle": "2021-07-13T07:48:09.505257Z",
     "shell.execute_reply": "2021-07-13T07:48:09.505704Z",
     "shell.execute_reply.started": "2021-07-13T06:30:24.650793Z"
    },
    "papermill": {
     "duration": 0.103225,
     "end_time": "2021-07-13T07:48:09.505899",
     "exception": false,
     "start_time": "2021-07-13T07:48:09.402674",
     "status": "completed"
    },
    "tags": []
   },
   "outputs": [
    {
     "data": {
      "text/plain": [
       "MSSubClass    0\n",
       "CBlock        0\n",
       "CemntBd       0\n",
       "HdBoard       0\n",
       "ImStucc       0\n",
       "             ..\n",
       "Wall          0\n",
       "BLQ           0\n",
       "GLQ           0\n",
       "Gd            0\n",
       "Reg           0\n",
       "Length: 191, dtype: int64"
      ]
     },
     "execution_count": 49,
     "metadata": {},
     "output_type": "execute_result"
    }
   ],
   "source": [
    "trainxy.isnull().sum().sort_values()"
   ]
  },
  {
   "cell_type": "code",
   "execution_count": 50,
   "id": "3f4af487",
   "metadata": {
    "execution": {
     "iopub.execute_input": "2021-07-13T07:48:09.685604Z",
     "iopub.status.busy": "2021-07-13T07:48:09.684630Z",
     "iopub.status.idle": "2021-07-13T07:48:09.694486Z",
     "shell.execute_reply": "2021-07-13T07:48:09.694968Z",
     "shell.execute_reply.started": "2021-07-13T06:30:31.601921Z"
    },
    "papermill": {
     "duration": 0.101312,
     "end_time": "2021-07-13T07:48:09.695155",
     "exception": false,
     "start_time": "2021-07-13T07:48:09.593843",
     "status": "completed"
    },
    "tags": []
   },
   "outputs": [],
   "source": [
    "trainxy = trainxy.dropna()"
   ]
  },
  {
   "cell_type": "code",
   "execution_count": 51,
   "id": "31a6e71d",
   "metadata": {
    "execution": {
     "iopub.execute_input": "2021-07-13T07:48:09.876051Z",
     "iopub.status.busy": "2021-07-13T07:48:09.875011Z",
     "iopub.status.idle": "2021-07-13T07:48:09.881635Z",
     "shell.execute_reply": "2021-07-13T07:48:09.882148Z",
     "shell.execute_reply.started": "2021-07-13T06:31:59.554880Z"
    },
    "papermill": {
     "duration": 0.098613,
     "end_time": "2021-07-13T07:48:09.882340",
     "exception": false,
     "start_time": "2021-07-13T07:48:09.783727",
     "status": "completed"
    },
    "tags": []
   },
   "outputs": [],
   "source": [
    "y_train = trainxy['SalePrice'].values"
   ]
  },
  {
   "cell_type": "code",
   "execution_count": 52,
   "id": "c40f4243",
   "metadata": {
    "execution": {
     "iopub.execute_input": "2021-07-13T07:48:10.063420Z",
     "iopub.status.busy": "2021-07-13T07:48:10.062392Z",
     "iopub.status.idle": "2021-07-13T07:48:10.069543Z",
     "shell.execute_reply": "2021-07-13T07:48:10.070015Z",
     "shell.execute_reply.started": "2021-07-13T06:32:03.523366Z"
    },
    "papermill": {
     "duration": 0.099657,
     "end_time": "2021-07-13T07:48:10.070198",
     "exception": false,
     "start_time": "2021-07-13T07:48:09.970541",
     "status": "completed"
    },
    "tags": []
   },
   "outputs": [],
   "source": [
    "x_train = trainxy.drop(\"SalePrice\",1).values"
   ]
  },
  {
   "cell_type": "code",
   "execution_count": 53,
   "id": "021cce75",
   "metadata": {
    "execution": {
     "iopub.execute_input": "2021-07-13T07:48:10.307949Z",
     "iopub.status.busy": "2021-07-13T07:48:10.306981Z",
     "iopub.status.idle": "2021-07-13T07:48:10.316448Z",
     "shell.execute_reply": "2021-07-13T07:48:10.315878Z",
     "shell.execute_reply.started": "2021-07-13T06:39:41.059428Z"
    },
    "papermill": {
     "duration": 0.103492,
     "end_time": "2021-07-13T07:48:10.316602",
     "exception": false,
     "start_time": "2021-07-13T07:48:10.213110",
     "status": "completed"
    },
    "tags": []
   },
   "outputs": [],
   "source": [
    "x_test = ttdf[1447:].drop(\"SalePrice\", 1).values"
   ]
  },
  {
   "cell_type": "markdown",
   "id": "c8bf16ea",
   "metadata": {
    "papermill": {
     "duration": 0.09535,
     "end_time": "2021-07-13T07:48:10.503280",
     "exception": false,
     "start_time": "2021-07-13T07:48:10.407930",
     "status": "completed"
    },
    "tags": []
   },
   "source": [
    "**Data Preprocessing** "
   ]
  },
  {
   "cell_type": "code",
   "execution_count": 54,
   "id": "86cdeb97",
   "metadata": {
    "execution": {
     "iopub.execute_input": "2021-07-13T07:48:10.691767Z",
     "iopub.status.busy": "2021-07-13T07:48:10.690918Z",
     "iopub.status.idle": "2021-07-13T07:48:10.828967Z",
     "shell.execute_reply": "2021-07-13T07:48:10.828363Z",
     "shell.execute_reply.started": "2021-07-13T06:39:44.919887Z"
    },
    "papermill": {
     "duration": 0.232625,
     "end_time": "2021-07-13T07:48:10.829117",
     "exception": false,
     "start_time": "2021-07-13T07:48:10.596492",
     "status": "completed"
    },
    "tags": []
   },
   "outputs": [],
   "source": [
    "from sklearn.preprocessing import MinMaxScaler\n",
    "scaler = MinMaxScaler()"
   ]
  },
  {
   "cell_type": "code",
   "execution_count": 55,
   "id": "c6a23563",
   "metadata": {
    "execution": {
     "iopub.execute_input": "2021-07-13T07:48:11.012679Z",
     "iopub.status.busy": "2021-07-13T07:48:11.011937Z",
     "iopub.status.idle": "2021-07-13T07:48:11.022438Z",
     "shell.execute_reply": "2021-07-13T07:48:11.021674Z",
     "shell.execute_reply.started": "2021-07-13T06:39:46.908494Z"
    },
    "papermill": {
     "duration": 0.104889,
     "end_time": "2021-07-13T07:48:11.022592",
     "exception": false,
     "start_time": "2021-07-13T07:48:10.917703",
     "status": "completed"
    },
    "tags": []
   },
   "outputs": [],
   "source": [
    "x_train = scaler.fit_transform(x_train)\n",
    "x_test = scaler.transform(x_test)"
   ]
  },
  {
   "cell_type": "code",
   "execution_count": 56,
   "id": "c27ec9ed",
   "metadata": {
    "execution": {
     "iopub.execute_input": "2021-07-13T07:48:11.213364Z",
     "iopub.status.busy": "2021-07-13T07:48:11.212432Z",
     "iopub.status.idle": "2021-07-13T07:48:11.217262Z",
     "shell.execute_reply": "2021-07-13T07:48:11.216717Z",
     "shell.execute_reply.started": "2021-07-13T06:39:48.816958Z"
    },
    "papermill": {
     "duration": 0.103354,
     "end_time": "2021-07-13T07:48:11.217400",
     "exception": false,
     "start_time": "2021-07-13T07:48:11.114046",
     "status": "completed"
    },
    "tags": []
   },
   "outputs": [
    {
     "data": {
      "text/plain": [
       "(1447, 190)"
      ]
     },
     "execution_count": 56,
     "metadata": {},
     "output_type": "execute_result"
    }
   ],
   "source": [
    "x_train.shape"
   ]
  },
  {
   "cell_type": "code",
   "execution_count": 57,
   "id": "a75e6f35",
   "metadata": {
    "execution": {
     "iopub.execute_input": "2021-07-13T07:48:11.400526Z",
     "iopub.status.busy": "2021-07-13T07:48:11.399873Z",
     "iopub.status.idle": "2021-07-13T07:48:11.403252Z",
     "shell.execute_reply": "2021-07-13T07:48:11.403791Z",
     "shell.execute_reply.started": "2021-07-13T06:39:51.989552Z"
    },
    "papermill": {
     "duration": 0.097406,
     "end_time": "2021-07-13T07:48:11.403976",
     "exception": false,
     "start_time": "2021-07-13T07:48:11.306570",
     "status": "completed"
    },
    "tags": []
   },
   "outputs": [
    {
     "data": {
      "text/plain": [
       "(1459, 190)"
      ]
     },
     "execution_count": 57,
     "metadata": {},
     "output_type": "execute_result"
    }
   ],
   "source": [
    "x_test.shape"
   ]
  },
  {
   "cell_type": "markdown",
   "id": "ef4140a2",
   "metadata": {
    "papermill": {
     "duration": 0.089073,
     "end_time": "2021-07-13T07:48:11.582937",
     "exception": false,
     "start_time": "2021-07-13T07:48:11.493864",
     "status": "completed"
    },
    "tags": []
   },
   "source": [
    "**Model Creation (ANN)**"
   ]
  },
  {
   "cell_type": "code",
   "execution_count": 58,
   "id": "f37e98c5",
   "metadata": {
    "execution": {
     "iopub.execute_input": "2021-07-13T07:48:11.766035Z",
     "iopub.status.busy": "2021-07-13T07:48:11.765364Z",
     "iopub.status.idle": "2021-07-13T07:48:17.856598Z",
     "shell.execute_reply": "2021-07-13T07:48:17.857172Z",
     "shell.execute_reply.started": "2021-07-13T06:40:22.694666Z"
    },
    "papermill": {
     "duration": 6.185602,
     "end_time": "2021-07-13T07:48:17.857376",
     "exception": false,
     "start_time": "2021-07-13T07:48:11.671774",
     "status": "completed"
    },
    "tags": []
   },
   "outputs": [],
   "source": [
    "from tensorflow.keras.models import Sequential\n",
    "from tensorflow.keras.layers import Dense, Dropout\n",
    "from sklearn.metrics import mean_squared_error, mean_absolute_error, explained_variance_score"
   ]
  },
  {
   "cell_type": "code",
   "execution_count": 59,
   "id": "66385e39",
   "metadata": {
    "execution": {
     "iopub.execute_input": "2021-07-13T07:48:18.039939Z",
     "iopub.status.busy": "2021-07-13T07:48:18.039213Z",
     "iopub.status.idle": "2021-07-13T07:48:18.042594Z",
     "shell.execute_reply": "2021-07-13T07:48:18.043129Z",
     "shell.execute_reply.started": "2021-07-13T06:40:26.567625Z"
    },
    "papermill": {
     "duration": 0.096022,
     "end_time": "2021-07-13T07:48:18.043316",
     "exception": false,
     "start_time": "2021-07-13T07:48:17.947294",
     "status": "completed"
    },
    "tags": []
   },
   "outputs": [],
   "source": [
    "mse = mean_squared_error"
   ]
  },
  {
   "cell_type": "code",
   "execution_count": 60,
   "id": "5e78c163",
   "metadata": {
    "execution": {
     "iopub.execute_input": "2021-07-13T07:48:18.226345Z",
     "iopub.status.busy": "2021-07-13T07:48:18.225657Z",
     "iopub.status.idle": "2021-07-13T07:48:42.175332Z",
     "shell.execute_reply": "2021-07-13T07:48:42.174794Z",
     "shell.execute_reply.started": "2021-07-13T06:56:10.254753Z"
    },
    "papermill": {
     "duration": 24.042557,
     "end_time": "2021-07-13T07:48:42.175480",
     "exception": false,
     "start_time": "2021-07-13T07:48:18.132923",
     "status": "completed"
    },
    "tags": []
   },
   "outputs": [
    {
     "name": "stdout",
     "output_type": "stream",
     "text": [
      "Epoch 1/750\n",
      "9/9 [==============================] - 1s 4ms/step - loss: 36732532326.4000\n",
      "Epoch 2/750\n",
      "9/9 [==============================] - 0s 4ms/step - loss: 36960111001.6000\n",
      "Epoch 3/750\n",
      "9/9 [==============================] - 0s 3ms/step - loss: 36103286579.2000\n",
      "Epoch 4/750\n",
      "9/9 [==============================] - 0s 3ms/step - loss: 36577429504.0000\n",
      "Epoch 5/750\n",
      "9/9 [==============================] - 0s 3ms/step - loss: 36753774182.4000\n",
      "Epoch 6/750\n",
      "9/9 [==============================] - 0s 3ms/step - loss: 36800107315.2000\n",
      "Epoch 7/750\n",
      "9/9 [==============================] - 0s 3ms/step - loss: 37271116185.6000\n",
      "Epoch 8/750\n",
      "9/9 [==============================] - 0s 3ms/step - loss: 36818333081.6000\n",
      "Epoch 9/750\n",
      "9/9 [==============================] - 0s 3ms/step - loss: 37567107481.6000\n",
      "Epoch 10/750\n",
      "9/9 [==============================] - 0s 3ms/step - loss: 36082172723.2000\n",
      "Epoch 11/750\n",
      "9/9 [==============================] - 0s 3ms/step - loss: 37671489126.4000\n",
      "Epoch 12/750\n",
      "9/9 [==============================] - 0s 3ms/step - loss: 36822468608.0000\n",
      "Epoch 13/750\n",
      "9/9 [==============================] - 0s 3ms/step - loss: 36164387225.6000\n",
      "Epoch 14/750\n",
      "9/9 [==============================] - 0s 3ms/step - loss: 36986256998.4000\n",
      "Epoch 15/750\n",
      "9/9 [==============================] - 0s 3ms/step - loss: 36187486208.0000\n",
      "Epoch 16/750\n",
      "9/9 [==============================] - 0s 3ms/step - loss: 35494397952.0000\n",
      "Epoch 17/750\n",
      "9/9 [==============================] - 0s 3ms/step - loss: 37945118720.0000\n",
      "Epoch 18/750\n",
      "9/9 [==============================] - 0s 3ms/step - loss: 36303692185.6000\n",
      "Epoch 19/750\n",
      "9/9 [==============================] - 0s 3ms/step - loss: 35538561843.2000\n",
      "Epoch 20/750\n",
      "9/9 [==============================] - 0s 3ms/step - loss: 33504801177.6000\n",
      "Epoch 21/750\n",
      "9/9 [==============================] - 0s 3ms/step - loss: 33513846169.6000\n",
      "Epoch 22/750\n",
      "9/9 [==============================] - 0s 3ms/step - loss: 32922611302.4000\n",
      "Epoch 23/750\n",
      "9/9 [==============================] - 0s 3ms/step - loss: 33060247347.2000\n",
      "Epoch 24/750\n",
      "9/9 [==============================] - 0s 3ms/step - loss: 32714568499.2000\n",
      "Epoch 25/750\n",
      "9/9 [==============================] - 0s 3ms/step - loss: 32667998412.8000\n",
      "Epoch 26/750\n",
      "9/9 [==============================] - 0s 3ms/step - loss: 30531630694.4000\n",
      "Epoch 27/750\n",
      "9/9 [==============================] - 0s 3ms/step - loss: 30863871795.2000\n",
      "Epoch 28/750\n",
      "9/9 [==============================] - 0s 3ms/step - loss: 29563295948.8000\n",
      "Epoch 29/750\n",
      "9/9 [==============================] - 0s 3ms/step - loss: 28210795110.4000\n",
      "Epoch 30/750\n",
      "9/9 [==============================] - 0s 3ms/step - loss: 27023023718.4000\n",
      "Epoch 31/750\n",
      "9/9 [==============================] - 0s 3ms/step - loss: 25286173081.6000\n",
      "Epoch 32/750\n",
      "9/9 [==============================] - 0s 3ms/step - loss: 24260833484.8000\n",
      "Epoch 33/750\n",
      "9/9 [==============================] - 0s 3ms/step - loss: 24800975462.4000\n",
      "Epoch 34/750\n",
      "9/9 [==============================] - 0s 3ms/step - loss: 23693285171.2000\n",
      "Epoch 35/750\n",
      "9/9 [==============================] - 0s 3ms/step - loss: 22047545958.4000\n",
      "Epoch 36/750\n",
      "9/9 [==============================] - 0s 3ms/step - loss: 20790077849.6000\n",
      "Epoch 37/750\n",
      "9/9 [==============================] - 0s 3ms/step - loss: 19160338432.0000\n",
      "Epoch 38/750\n",
      "9/9 [==============================] - 0s 3ms/step - loss: 18141825638.4000\n",
      "Epoch 39/750\n",
      "9/9 [==============================] - 0s 3ms/step - loss: 16751927398.4000\n",
      "Epoch 40/750\n",
      "9/9 [==============================] - 0s 3ms/step - loss: 16173444505.6000\n",
      "Epoch 41/750\n",
      "9/9 [==============================] - 0s 3ms/step - loss: 16120903884.8000\n",
      "Epoch 42/750\n",
      "9/9 [==============================] - 0s 3ms/step - loss: 14093588172.8000\n",
      "Epoch 43/750\n",
      "9/9 [==============================] - 0s 3ms/step - loss: 12735497011.2000\n",
      "Epoch 44/750\n",
      "9/9 [==============================] - 0s 3ms/step - loss: 11961123123.2000\n",
      "Epoch 45/750\n",
      "9/9 [==============================] - 0s 3ms/step - loss: 11539430809.6000\n",
      "Epoch 46/750\n",
      "9/9 [==============================] - 0s 3ms/step - loss: 10645696000.0000\n",
      "Epoch 47/750\n",
      "9/9 [==============================] - 0s 3ms/step - loss: 9269866393.6000\n",
      "Epoch 48/750\n",
      "9/9 [==============================] - 0s 3ms/step - loss: 9604333158.4000\n",
      "Epoch 49/750\n",
      "9/9 [==============================] - 0s 3ms/step - loss: 8785711923.2000\n",
      "Epoch 50/750\n",
      "9/9 [==============================] - 0s 3ms/step - loss: 7664261068.8000\n",
      "Epoch 51/750\n",
      "9/9 [==============================] - 0s 3ms/step - loss: 7552518092.8000\n",
      "Epoch 52/750\n",
      "9/9 [==============================] - 0s 3ms/step - loss: 7939728076.8000\n",
      "Epoch 53/750\n",
      "9/9 [==============================] - 0s 3ms/step - loss: 6351206707.2000\n",
      "Epoch 54/750\n",
      "9/9 [==============================] - 0s 3ms/step - loss: 6739200716.8000\n",
      "Epoch 55/750\n",
      "9/9 [==============================] - 0s 3ms/step - loss: 6451783321.6000\n",
      "Epoch 56/750\n",
      "9/9 [==============================] - 0s 3ms/step - loss: 6272584908.8000\n",
      "Epoch 57/750\n",
      "9/9 [==============================] - 0s 3ms/step - loss: 6324657817.6000\n",
      "Epoch 58/750\n",
      "9/9 [==============================] - 0s 3ms/step - loss: 5720474419.2000\n",
      "Epoch 59/750\n",
      "9/9 [==============================] - 0s 3ms/step - loss: 5829271654.4000\n",
      "Epoch 60/750\n",
      "9/9 [==============================] - 0s 3ms/step - loss: 6131650048.0000\n",
      "Epoch 61/750\n",
      "9/9 [==============================] - 0s 3ms/step - loss: 5372793753.6000\n",
      "Epoch 62/750\n",
      "9/9 [==============================] - 0s 3ms/step - loss: 5636015257.6000\n",
      "Epoch 63/750\n",
      "9/9 [==============================] - 0s 3ms/step - loss: 5661195417.6000\n",
      "Epoch 64/750\n",
      "9/9 [==============================] - 0s 3ms/step - loss: 5528268646.4000\n",
      "Epoch 65/750\n",
      "9/9 [==============================] - 0s 3ms/step - loss: 5258498611.2000\n",
      "Epoch 66/750\n",
      "9/9 [==============================] - 0s 3ms/step - loss: 5230372505.6000\n",
      "Epoch 67/750\n",
      "9/9 [==============================] - 0s 3ms/step - loss: 5388746752.0000\n",
      "Epoch 68/750\n",
      "9/9 [==============================] - 0s 3ms/step - loss: 5408257024.0000\n",
      "Epoch 69/750\n",
      "9/9 [==============================] - 0s 3ms/step - loss: 5295357952.0000\n",
      "Epoch 70/750\n",
      "9/9 [==============================] - 0s 3ms/step - loss: 5240316057.6000\n",
      "Epoch 71/750\n",
      "9/9 [==============================] - 0s 3ms/step - loss: 4991493427.2000\n",
      "Epoch 72/750\n",
      "9/9 [==============================] - 0s 3ms/step - loss: 5038941337.6000\n",
      "Epoch 73/750\n",
      "9/9 [==============================] - 0s 3ms/step - loss: 4816405299.2000\n",
      "Epoch 74/750\n",
      "9/9 [==============================] - 0s 3ms/step - loss: 5165875916.8000\n",
      "Epoch 75/750\n",
      "9/9 [==============================] - 0s 3ms/step - loss: 4501587148.8000\n",
      "Epoch 76/750\n",
      "9/9 [==============================] - 0s 3ms/step - loss: 4803715072.0000\n",
      "Epoch 77/750\n",
      "9/9 [==============================] - 0s 3ms/step - loss: 5211873228.8000\n",
      "Epoch 78/750\n",
      "9/9 [==============================] - 0s 3ms/step - loss: 5286656204.8000\n",
      "Epoch 79/750\n",
      "9/9 [==============================] - 0s 3ms/step - loss: 4610084838.4000\n",
      "Epoch 80/750\n",
      "9/9 [==============================] - 0s 3ms/step - loss: 4789718323.2000\n",
      "Epoch 81/750\n",
      "9/9 [==============================] - 0s 3ms/step - loss: 4711101849.6000\n",
      "Epoch 82/750\n",
      "9/9 [==============================] - 0s 3ms/step - loss: 5127725772.8000\n",
      "Epoch 83/750\n",
      "9/9 [==============================] - 0s 3ms/step - loss: 4944129536.0000\n",
      "Epoch 84/750\n",
      "9/9 [==============================] - 0s 3ms/step - loss: 4559302246.4000\n",
      "Epoch 85/750\n",
      "9/9 [==============================] - 0s 3ms/step - loss: 4373315200.0000\n",
      "Epoch 86/750\n",
      "9/9 [==============================] - 0s 3ms/step - loss: 4482939545.6000\n",
      "Epoch 87/750\n",
      "9/9 [==============================] - 0s 3ms/step - loss: 5067567820.8000\n",
      "Epoch 88/750\n",
      "9/9 [==============================] - 0s 3ms/step - loss: 4553983129.6000\n",
      "Epoch 89/750\n",
      "9/9 [==============================] - 0s 3ms/step - loss: 4465922764.8000\n",
      "Epoch 90/750\n",
      "9/9 [==============================] - 0s 3ms/step - loss: 3812944051.2000\n",
      "Epoch 91/750\n",
      "9/9 [==============================] - 0s 3ms/step - loss: 4181465574.4000\n",
      "Epoch 92/750\n",
      "9/9 [==============================] - 0s 3ms/step - loss: 4540628838.4000\n",
      "Epoch 93/750\n",
      "9/9 [==============================] - 0s 3ms/step - loss: 4462967961.6000\n",
      "Epoch 94/750\n",
      "9/9 [==============================] - 0s 3ms/step - loss: 4384649139.2000\n",
      "Epoch 95/750\n",
      "9/9 [==============================] - 0s 3ms/step - loss: 4537902028.8000\n",
      "Epoch 96/750\n",
      "9/9 [==============================] - 0s 3ms/step - loss: 4164822169.6000\n",
      "Epoch 97/750\n",
      "9/9 [==============================] - 0s 3ms/step - loss: 4767515340.8000\n",
      "Epoch 98/750\n",
      "9/9 [==============================] - 0s 3ms/step - loss: 4247870387.2000\n",
      "Epoch 99/750\n",
      "9/9 [==============================] - 0s 4ms/step - loss: 4663918566.4000\n",
      "Epoch 100/750\n",
      "9/9 [==============================] - 0s 3ms/step - loss: 4112479488.0000\n",
      "Epoch 101/750\n",
      "9/9 [==============================] - 0s 3ms/step - loss: 4245915033.6000\n",
      "Epoch 102/750\n",
      "9/9 [==============================] - 0s 3ms/step - loss: 4153892864.0000\n",
      "Epoch 103/750\n",
      "9/9 [==============================] - 0s 3ms/step - loss: 3943399680.0000\n",
      "Epoch 104/750\n",
      "9/9 [==============================] - 0s 3ms/step - loss: 3903822668.8000\n",
      "Epoch 105/750\n",
      "9/9 [==============================] - 0s 3ms/step - loss: 4393267865.6000\n",
      "Epoch 106/750\n",
      "9/9 [==============================] - 0s 3ms/step - loss: 4156190822.4000\n",
      "Epoch 107/750\n",
      "9/9 [==============================] - 0s 3ms/step - loss: 4018486041.6000\n",
      "Epoch 108/750\n",
      "9/9 [==============================] - 0s 3ms/step - loss: 4278139980.8000\n",
      "Epoch 109/750\n",
      "9/9 [==============================] - 0s 3ms/step - loss: 4314272409.6000\n",
      "Epoch 110/750\n",
      "9/9 [==============================] - 0s 3ms/step - loss: 3931966643.2000\n",
      "Epoch 111/750\n",
      "9/9 [==============================] - 0s 3ms/step - loss: 3937226777.6000\n",
      "Epoch 112/750\n",
      "9/9 [==============================] - 0s 3ms/step - loss: 4039370521.6000\n",
      "Epoch 113/750\n",
      "9/9 [==============================] - 0s 3ms/step - loss: 3711952921.6000\n",
      "Epoch 114/750\n",
      "9/9 [==============================] - 0s 3ms/step - loss: 3489311974.4000\n",
      "Epoch 115/750\n",
      "9/9 [==============================] - 0s 3ms/step - loss: 3616186086.4000\n",
      "Epoch 116/750\n",
      "9/9 [==============================] - 0s 3ms/step - loss: 4344472806.4000\n",
      "Epoch 117/750\n",
      "9/9 [==============================] - 0s 3ms/step - loss: 3870121881.6000\n",
      "Epoch 118/750\n",
      "9/9 [==============================] - 0s 3ms/step - loss: 3859919488.0000\n",
      "Epoch 119/750\n",
      "9/9 [==============================] - 0s 3ms/step - loss: 3859146368.0000\n",
      "Epoch 120/750\n",
      "9/9 [==============================] - 0s 3ms/step - loss: 3662933299.2000\n",
      "Epoch 121/750\n",
      "9/9 [==============================] - 0s 3ms/step - loss: 3677201484.8000\n",
      "Epoch 122/750\n",
      "9/9 [==============================] - 0s 3ms/step - loss: 3776137011.2000\n",
      "Epoch 123/750\n",
      "9/9 [==============================] - 0s 3ms/step - loss: 3954708352.0000\n",
      "Epoch 124/750\n",
      "9/9 [==============================] - 0s 3ms/step - loss: 4048215449.6000\n",
      "Epoch 125/750\n",
      "9/9 [==============================] - 0s 3ms/step - loss: 3513659571.2000\n",
      "Epoch 126/750\n",
      "9/9 [==============================] - 0s 3ms/step - loss: 3771712588.8000\n",
      "Epoch 127/750\n",
      "9/9 [==============================] - 0s 3ms/step - loss: 3629366912.0000\n",
      "Epoch 128/750\n",
      "9/9 [==============================] - 0s 3ms/step - loss: 3895531366.4000\n",
      "Epoch 129/750\n",
      "9/9 [==============================] - 0s 3ms/step - loss: 3395495577.6000\n",
      "Epoch 130/750\n",
      "9/9 [==============================] - 0s 3ms/step - loss: 3292379827.2000\n",
      "Epoch 131/750\n",
      "9/9 [==============================] - 0s 3ms/step - loss: 3597229132.8000\n",
      "Epoch 132/750\n",
      "9/9 [==============================] - 0s 3ms/step - loss: 3618759500.8000\n",
      "Epoch 133/750\n",
      "9/9 [==============================] - 0s 3ms/step - loss: 3556949478.4000\n",
      "Epoch 134/750\n",
      "9/9 [==============================] - 0s 3ms/step - loss: 3719720780.8000\n",
      "Epoch 135/750\n",
      "9/9 [==============================] - 0s 3ms/step - loss: 3535121894.4000\n",
      "Epoch 136/750\n",
      "9/9 [==============================] - 0s 3ms/step - loss: 3435540300.8000\n",
      "Epoch 137/750\n",
      "9/9 [==============================] - 0s 3ms/step - loss: 3347225216.0000\n",
      "Epoch 138/750\n",
      "9/9 [==============================] - 0s 3ms/step - loss: 3568778188.8000\n",
      "Epoch 139/750\n",
      "9/9 [==============================] - 0s 3ms/step - loss: 3383667123.2000\n",
      "Epoch 140/750\n",
      "9/9 [==============================] - 0s 3ms/step - loss: 3385331020.8000\n",
      "Epoch 141/750\n",
      "9/9 [==============================] - 0s 3ms/step - loss: 3549434880.0000\n",
      "Epoch 142/750\n",
      "9/9 [==============================] - 0s 3ms/step - loss: 3239571072.0000\n",
      "Epoch 143/750\n",
      "9/9 [==============================] - 0s 3ms/step - loss: 3431689625.6000\n",
      "Epoch 144/750\n",
      "9/9 [==============================] - 0s 3ms/step - loss: 3401757542.4000\n",
      "Epoch 145/750\n",
      "9/9 [==============================] - 0s 3ms/step - loss: 3490562918.4000\n",
      "Epoch 146/750\n",
      "9/9 [==============================] - 0s 3ms/step - loss: 3377193702.4000\n",
      "Epoch 147/750\n",
      "9/9 [==============================] - 0s 3ms/step - loss: 3480732441.6000\n",
      "Epoch 148/750\n",
      "9/9 [==============================] - 0s 3ms/step - loss: 3366409036.8000\n",
      "Epoch 149/750\n",
      "9/9 [==============================] - 0s 3ms/step - loss: 3103152409.6000\n",
      "Epoch 150/750\n",
      "9/9 [==============================] - 0s 3ms/step - loss: 3275721651.2000\n",
      "Epoch 151/750\n",
      "9/9 [==============================] - 0s 3ms/step - loss: 2951174758.4000\n",
      "Epoch 152/750\n",
      "9/9 [==============================] - 0s 3ms/step - loss: 3135518617.6000\n",
      "Epoch 153/750\n",
      "9/9 [==============================] - 0s 3ms/step - loss: 3138477184.0000\n",
      "Epoch 154/750\n",
      "9/9 [==============================] - 0s 3ms/step - loss: 3392544742.4000\n",
      "Epoch 155/750\n",
      "9/9 [==============================] - 0s 3ms/step - loss: 3308860211.2000\n",
      "Epoch 156/750\n",
      "9/9 [==============================] - 0s 3ms/step - loss: 3093803724.8000\n",
      "Epoch 157/750\n",
      "9/9 [==============================] - 0s 3ms/step - loss: 3462192153.6000\n",
      "Epoch 158/750\n",
      "9/9 [==============================] - 0s 3ms/step - loss: 3479523456.0000\n",
      "Epoch 159/750\n",
      "9/9 [==============================] - 0s 3ms/step - loss: 2962115328.0000\n",
      "Epoch 160/750\n",
      "9/9 [==============================] - 0s 3ms/step - loss: 2990191206.4000\n",
      "Epoch 161/750\n",
      "9/9 [==============================] - 0s 3ms/step - loss: 3047621196.8000\n",
      "Epoch 162/750\n",
      "9/9 [==============================] - 0s 3ms/step - loss: 3240818892.8000\n",
      "Epoch 163/750\n",
      "9/9 [==============================] - 0s 3ms/step - loss: 3100004480.0000\n",
      "Epoch 164/750\n",
      "9/9 [==============================] - 0s 3ms/step - loss: 2783193830.4000\n",
      "Epoch 165/750\n",
      "9/9 [==============================] - 0s 3ms/step - loss: 3031547033.6000\n",
      "Epoch 166/750\n",
      "9/9 [==============================] - 0s 3ms/step - loss: 3062000000.0000\n",
      "Epoch 167/750\n",
      "9/9 [==============================] - 0s 3ms/step - loss: 3285140992.0000\n",
      "Epoch 168/750\n",
      "9/9 [==============================] - 0s 3ms/step - loss: 2986205260.8000\n",
      "Epoch 169/750\n",
      "9/9 [==============================] - 0s 3ms/step - loss: 3214491622.4000\n",
      "Epoch 170/750\n",
      "9/9 [==============================] - 0s 3ms/step - loss: 2887665126.4000\n",
      "Epoch 171/750\n",
      "9/9 [==============================] - 0s 3ms/step - loss: 3228479129.6000\n",
      "Epoch 172/750\n",
      "9/9 [==============================] - 0s 3ms/step - loss: 3297343232.0000\n",
      "Epoch 173/750\n",
      "9/9 [==============================] - 0s 3ms/step - loss: 3338268262.4000\n",
      "Epoch 174/750\n",
      "9/9 [==============================] - 0s 3ms/step - loss: 2975145395.2000\n",
      "Epoch 175/750\n",
      "9/9 [==============================] - 0s 3ms/step - loss: 3151524505.6000\n",
      "Epoch 176/750\n",
      "9/9 [==============================] - 0s 3ms/step - loss: 2888665344.0000\n",
      "Epoch 177/750\n",
      "9/9 [==============================] - 0s 3ms/step - loss: 2912427673.6000\n",
      "Epoch 178/750\n",
      "9/9 [==============================] - 0s 3ms/step - loss: 2962957004.8000\n",
      "Epoch 179/750\n",
      "9/9 [==============================] - 0s 3ms/step - loss: 2970979609.6000\n",
      "Epoch 180/750\n",
      "9/9 [==============================] - 0s 3ms/step - loss: 2896560102.4000\n",
      "Epoch 181/750\n",
      "9/9 [==============================] - 0s 3ms/step - loss: 2735090086.4000\n",
      "Epoch 182/750\n",
      "9/9 [==============================] - 0s 3ms/step - loss: 3020876800.0000\n",
      "Epoch 183/750\n",
      "9/9 [==============================] - 0s 3ms/step - loss: 2979083340.8000\n",
      "Epoch 184/750\n",
      "9/9 [==============================] - 0s 3ms/step - loss: 2703151232.0000\n",
      "Epoch 185/750\n",
      "9/9 [==============================] - 0s 3ms/step - loss: 2771615564.8000\n",
      "Epoch 186/750\n",
      "9/9 [==============================] - 0s 3ms/step - loss: 2807458764.8000\n",
      "Epoch 187/750\n",
      "9/9 [==============================] - 0s 3ms/step - loss: 2957858662.4000\n",
      "Epoch 188/750\n",
      "9/9 [==============================] - 0s 3ms/step - loss: 2734908825.6000\n",
      "Epoch 189/750\n",
      "9/9 [==============================] - 0s 3ms/step - loss: 2976239820.8000\n",
      "Epoch 190/750\n",
      "9/9 [==============================] - 0s 3ms/step - loss: 2697127526.4000\n",
      "Epoch 191/750\n",
      "9/9 [==============================] - 0s 3ms/step - loss: 2644435328.0000\n",
      "Epoch 192/750\n",
      "9/9 [==============================] - 0s 3ms/step - loss: 2673518156.8000\n",
      "Epoch 193/750\n",
      "9/9 [==============================] - 0s 3ms/step - loss: 2797937024.0000\n",
      "Epoch 194/750\n",
      "9/9 [==============================] - 0s 3ms/step - loss: 2781357785.6000\n",
      "Epoch 195/750\n",
      "9/9 [==============================] - 0s 3ms/step - loss: 2546304704.0000\n",
      "Epoch 196/750\n",
      "9/9 [==============================] - 0s 3ms/step - loss: 2583706598.4000\n",
      "Epoch 197/750\n",
      "9/9 [==============================] - 0s 3ms/step - loss: 2642723916.8000\n",
      "Epoch 198/750\n",
      "9/9 [==============================] - 0s 3ms/step - loss: 2829284275.2000\n",
      "Epoch 199/750\n",
      "9/9 [==============================] - 0s 3ms/step - loss: 2955310080.0000\n",
      "Epoch 200/750\n",
      "9/9 [==============================] - 0s 3ms/step - loss: 2740895820.8000\n",
      "Epoch 201/750\n",
      "9/9 [==============================] - 0s 3ms/step - loss: 2714301542.4000\n",
      "Epoch 202/750\n",
      "9/9 [==============================] - 0s 3ms/step - loss: 2784445798.4000\n",
      "Epoch 203/750\n",
      "9/9 [==============================] - 0s 3ms/step - loss: 2472021324.8000\n",
      "Epoch 204/750\n",
      "9/9 [==============================] - 0s 3ms/step - loss: 2632931558.4000\n",
      "Epoch 205/750\n",
      "9/9 [==============================] - 0s 3ms/step - loss: 2769505510.4000\n",
      "Epoch 206/750\n",
      "9/9 [==============================] - 0s 3ms/step - loss: 2745033088.0000\n",
      "Epoch 207/750\n",
      "9/9 [==============================] - 0s 3ms/step - loss: 2436875750.4000\n",
      "Epoch 208/750\n",
      "9/9 [==============================] - 0s 3ms/step - loss: 2714115814.4000\n",
      "Epoch 209/750\n",
      "9/9 [==============================] - 0s 3ms/step - loss: 2572803660.8000\n",
      "Epoch 210/750\n",
      "9/9 [==============================] - 0s 3ms/step - loss: 2715498496.0000\n",
      "Epoch 211/750\n",
      "9/9 [==============================] - 0s 3ms/step - loss: 2552748390.4000\n",
      "Epoch 212/750\n",
      "9/9 [==============================] - 0s 3ms/step - loss: 2267000780.8000\n",
      "Epoch 213/750\n",
      "9/9 [==============================] - 0s 3ms/step - loss: 2974501145.6000\n",
      "Epoch 214/750\n",
      "9/9 [==============================] - 0s 3ms/step - loss: 2496962380.8000\n",
      "Epoch 215/750\n",
      "9/9 [==============================] - 0s 3ms/step - loss: 2690194329.6000\n",
      "Epoch 216/750\n",
      "9/9 [==============================] - 0s 3ms/step - loss: 2342143731.2000\n",
      "Epoch 217/750\n",
      "9/9 [==============================] - 0s 3ms/step - loss: 2619335001.6000\n",
      "Epoch 218/750\n",
      "9/9 [==============================] - 0s 3ms/step - loss: 2610225510.4000\n",
      "Epoch 219/750\n",
      "9/9 [==============================] - 0s 3ms/step - loss: 2594327680.0000\n",
      "Epoch 220/750\n",
      "9/9 [==============================] - 0s 3ms/step - loss: 2555765478.4000\n",
      "Epoch 221/750\n",
      "9/9 [==============================] - 0s 3ms/step - loss: 2639923968.0000\n",
      "Epoch 222/750\n",
      "9/9 [==============================] - 0s 3ms/step - loss: 2521848217.6000\n",
      "Epoch 223/750\n",
      "9/9 [==============================] - 0s 3ms/step - loss: 2635755929.6000\n",
      "Epoch 224/750\n",
      "9/9 [==============================] - 0s 3ms/step - loss: 2450118451.2000\n",
      "Epoch 225/750\n",
      "9/9 [==============================] - 0s 3ms/step - loss: 2638794752.0000\n",
      "Epoch 226/750\n",
      "9/9 [==============================] - 0s 3ms/step - loss: 2602044313.6000\n",
      "Epoch 227/750\n",
      "9/9 [==============================] - 0s 3ms/step - loss: 2415336243.2000\n",
      "Epoch 228/750\n",
      "9/9 [==============================] - 0s 3ms/step - loss: 2617001241.6000\n",
      "Epoch 229/750\n",
      "9/9 [==============================] - 0s 4ms/step - loss: 2587385139.2000\n",
      "Epoch 230/750\n",
      "9/9 [==============================] - 0s 3ms/step - loss: 2429453465.6000\n",
      "Epoch 231/750\n",
      "9/9 [==============================] - 0s 3ms/step - loss: 2495846912.0000\n",
      "Epoch 232/750\n",
      "9/9 [==============================] - 0s 3ms/step - loss: 2448609177.6000\n",
      "Epoch 233/750\n",
      "9/9 [==============================] - 0s 3ms/step - loss: 2355079846.4000\n",
      "Epoch 234/750\n",
      "9/9 [==============================] - 0s 3ms/step - loss: 2472485555.2000\n",
      "Epoch 235/750\n",
      "9/9 [==============================] - 0s 3ms/step - loss: 2669318988.8000\n",
      "Epoch 236/750\n",
      "9/9 [==============================] - 0s 3ms/step - loss: 2355861132.8000\n",
      "Epoch 237/750\n",
      "9/9 [==============================] - 0s 3ms/step - loss: 2558980147.2000\n",
      "Epoch 238/750\n",
      "9/9 [==============================] - 0s 3ms/step - loss: 2559454873.6000\n",
      "Epoch 239/750\n",
      "9/9 [==============================] - 0s 3ms/step - loss: 2440923238.4000\n",
      "Epoch 240/750\n",
      "9/9 [==============================] - 0s 3ms/step - loss: 2376310092.8000\n",
      "Epoch 241/750\n",
      "9/9 [==============================] - 0s 3ms/step - loss: 2595160550.4000\n",
      "Epoch 242/750\n",
      "9/9 [==============================] - 0s 3ms/step - loss: 2358429670.4000\n",
      "Epoch 243/750\n",
      "9/9 [==============================] - 0s 3ms/step - loss: 2566522368.0000\n",
      "Epoch 244/750\n",
      "9/9 [==============================] - 0s 3ms/step - loss: 2427816012.8000\n",
      "Epoch 245/750\n",
      "9/9 [==============================] - 0s 3ms/step - loss: 2367033689.6000\n",
      "Epoch 246/750\n",
      "9/9 [==============================] - 0s 3ms/step - loss: 2286314419.2000\n",
      "Epoch 247/750\n",
      "9/9 [==============================] - 0s 3ms/step - loss: 2674756940.8000\n",
      "Epoch 248/750\n",
      "9/9 [==============================] - 0s 3ms/step - loss: 2209618611.2000\n",
      "Epoch 249/750\n",
      "9/9 [==============================] - 0s 3ms/step - loss: 2434326041.6000\n",
      "Epoch 250/750\n",
      "9/9 [==============================] - 0s 3ms/step - loss: 2349045209.6000\n",
      "Epoch 251/750\n",
      "9/9 [==============================] - 0s 3ms/step - loss: 2433236480.0000\n",
      "Epoch 252/750\n",
      "9/9 [==============================] - 0s 3ms/step - loss: 2433785420.8000\n",
      "Epoch 253/750\n",
      "9/9 [==============================] - 0s 3ms/step - loss: 2206455206.4000\n",
      "Epoch 254/750\n",
      "9/9 [==============================] - 0s 3ms/step - loss: 2344490137.6000\n",
      "Epoch 255/750\n",
      "9/9 [==============================] - 0s 3ms/step - loss: 2542550502.4000\n",
      "Epoch 256/750\n",
      "9/9 [==============================] - 0s 3ms/step - loss: 2448340275.2000\n",
      "Epoch 257/750\n",
      "9/9 [==============================] - 0s 3ms/step - loss: 2208082700.8000\n",
      "Epoch 258/750\n",
      "9/9 [==============================] - 0s 3ms/step - loss: 2431005824.0000\n",
      "Epoch 259/750\n",
      "9/9 [==============================] - 0s 3ms/step - loss: 2313135308.8000\n",
      "Epoch 260/750\n",
      "9/9 [==============================] - 0s 3ms/step - loss: 2222164300.8000\n",
      "Epoch 261/750\n",
      "9/9 [==============================] - 0s 3ms/step - loss: 2295772224.0000\n",
      "Epoch 262/750\n",
      "9/9 [==============================] - 0s 4ms/step - loss: 2324585600.0000\n",
      "Epoch 263/750\n",
      "9/9 [==============================] - 0s 5ms/step - loss: 2430123443.2000\n",
      "Epoch 264/750\n",
      "9/9 [==============================] - 0s 4ms/step - loss: 2537594265.6000\n",
      "Epoch 265/750\n",
      "9/9 [==============================] - 0s 3ms/step - loss: 2484738252.8000\n",
      "Epoch 266/750\n",
      "9/9 [==============================] - 0s 3ms/step - loss: 2077097062.4000\n",
      "Epoch 267/750\n",
      "9/9 [==============================] - 0s 3ms/step - loss: 2365855244.8000\n",
      "Epoch 268/750\n",
      "9/9 [==============================] - 0s 3ms/step - loss: 2450152422.4000\n",
      "Epoch 269/750\n",
      "9/9 [==============================] - 0s 3ms/step - loss: 2149574182.4000\n",
      "Epoch 270/750\n",
      "9/9 [==============================] - 0s 3ms/step - loss: 2249736294.4000\n",
      "Epoch 271/750\n",
      "9/9 [==============================] - 0s 3ms/step - loss: 2420616115.2000\n",
      "Epoch 272/750\n",
      "9/9 [==============================] - 0s 3ms/step - loss: 2180573580.8000\n",
      "Epoch 273/750\n",
      "9/9 [==============================] - 0s 3ms/step - loss: 2205679232.0000\n",
      "Epoch 274/750\n",
      "9/9 [==============================] - 0s 3ms/step - loss: 2273977881.6000\n",
      "Epoch 275/750\n",
      "9/9 [==============================] - 0s 3ms/step - loss: 2178543872.0000\n",
      "Epoch 276/750\n",
      "9/9 [==============================] - 0s 3ms/step - loss: 2296662348.8000\n",
      "Epoch 277/750\n",
      "9/9 [==============================] - 0s 3ms/step - loss: 2280557644.8000\n",
      "Epoch 278/750\n",
      "9/9 [==============================] - 0s 3ms/step - loss: 2166254988.8000\n",
      "Epoch 279/750\n",
      "9/9 [==============================] - 0s 3ms/step - loss: 2291405606.4000\n",
      "Epoch 280/750\n",
      "9/9 [==============================] - 0s 3ms/step - loss: 2437259750.4000\n",
      "Epoch 281/750\n",
      "9/9 [==============================] - 0s 3ms/step - loss: 2171726259.2000\n",
      "Epoch 282/750\n",
      "9/9 [==============================] - 0s 3ms/step - loss: 1990696051.2000\n",
      "Epoch 283/750\n",
      "9/9 [==============================] - 0s 3ms/step - loss: 2226757286.4000\n",
      "Epoch 284/750\n",
      "9/9 [==============================] - 0s 3ms/step - loss: 2145876377.6000\n",
      "Epoch 285/750\n",
      "9/9 [==============================] - 0s 3ms/step - loss: 2279812928.0000\n",
      "Epoch 286/750\n",
      "9/9 [==============================] - 0s 3ms/step - loss: 2297910003.2000\n",
      "Epoch 287/750\n",
      "9/9 [==============================] - 0s 3ms/step - loss: 2169934899.2000\n",
      "Epoch 288/750\n",
      "9/9 [==============================] - 0s 3ms/step - loss: 2093970521.6000\n",
      "Epoch 289/750\n",
      "9/9 [==============================] - 0s 3ms/step - loss: 2012699110.4000\n",
      "Epoch 290/750\n",
      "9/9 [==============================] - 0s 3ms/step - loss: 2302226150.4000\n",
      "Epoch 291/750\n",
      "9/9 [==============================] - 0s 3ms/step - loss: 2124475763.2000\n",
      "Epoch 292/750\n",
      "9/9 [==============================] - 0s 3ms/step - loss: 2060849612.8000\n",
      "Epoch 293/750\n",
      "9/9 [==============================] - 0s 3ms/step - loss: 2470828825.6000\n",
      "Epoch 294/750\n",
      "9/9 [==============================] - 0s 3ms/step - loss: 2043975001.6000\n",
      "Epoch 295/750\n",
      "9/9 [==============================] - 0s 3ms/step - loss: 2127401958.4000\n",
      "Epoch 296/750\n",
      "9/9 [==============================] - 0s 3ms/step - loss: 2365668403.2000\n",
      "Epoch 297/750\n",
      "9/9 [==============================] - 0s 3ms/step - loss: 2167751488.0000\n",
      "Epoch 298/750\n",
      "9/9 [==============================] - 0s 3ms/step - loss: 2182505881.6000\n",
      "Epoch 299/750\n",
      "9/9 [==============================] - 0s 3ms/step - loss: 2233255206.4000\n",
      "Epoch 300/750\n",
      "9/9 [==============================] - 0s 3ms/step - loss: 1900369907.2000\n",
      "Epoch 301/750\n",
      "9/9 [==============================] - 0s 3ms/step - loss: 2067696166.4000\n",
      "Epoch 302/750\n",
      "9/9 [==============================] - 0s 3ms/step - loss: 2063347072.0000\n",
      "Epoch 303/750\n",
      "9/9 [==============================] - 0s 3ms/step - loss: 1979228249.6000\n",
      "Epoch 304/750\n",
      "9/9 [==============================] - 0s 3ms/step - loss: 2016733030.4000\n",
      "Epoch 305/750\n",
      "9/9 [==============================] - 0s 3ms/step - loss: 2150091238.4000\n",
      "Epoch 306/750\n",
      "9/9 [==============================] - 0s 3ms/step - loss: 1991016256.0000\n",
      "Epoch 307/750\n",
      "9/9 [==============================] - 0s 3ms/step - loss: 2170137907.2000\n",
      "Epoch 308/750\n",
      "9/9 [==============================] - 0s 3ms/step - loss: 2065955494.4000\n",
      "Epoch 309/750\n",
      "9/9 [==============================] - 0s 3ms/step - loss: 2212101734.4000\n",
      "Epoch 310/750\n",
      "9/9 [==============================] - 0s 3ms/step - loss: 2217093913.6000\n",
      "Epoch 311/750\n",
      "9/9 [==============================] - 0s 3ms/step - loss: 2207735910.4000\n",
      "Epoch 312/750\n",
      "9/9 [==============================] - 0s 3ms/step - loss: 2090898534.4000\n",
      "Epoch 313/750\n",
      "9/9 [==============================] - 0s 3ms/step - loss: 1936626956.8000\n",
      "Epoch 314/750\n",
      "9/9 [==============================] - 0s 3ms/step - loss: 2071243097.6000\n",
      "Epoch 315/750\n",
      "9/9 [==============================] - 0s 3ms/step - loss: 1946315673.6000\n",
      "Epoch 316/750\n",
      "9/9 [==============================] - 0s 3ms/step - loss: 2300295577.6000\n",
      "Epoch 317/750\n",
      "9/9 [==============================] - 0s 3ms/step - loss: 1992826572.8000\n",
      "Epoch 318/750\n",
      "9/9 [==============================] - 0s 3ms/step - loss: 2244065280.0000\n",
      "Epoch 319/750\n",
      "9/9 [==============================] - 0s 3ms/step - loss: 1954061696.0000\n",
      "Epoch 320/750\n",
      "9/9 [==============================] - 0s 3ms/step - loss: 2114539251.2000\n",
      "Epoch 321/750\n",
      "9/9 [==============================] - 0s 3ms/step - loss: 2110294566.4000\n",
      "Epoch 322/750\n",
      "9/9 [==============================] - 0s 3ms/step - loss: 1848284364.8000\n",
      "Epoch 323/750\n",
      "9/9 [==============================] - 0s 3ms/step - loss: 1983583552.0000\n",
      "Epoch 324/750\n",
      "9/9 [==============================] - 0s 3ms/step - loss: 2240118515.2000\n",
      "Epoch 325/750\n",
      "9/9 [==============================] - 0s 3ms/step - loss: 2279581081.6000\n",
      "Epoch 326/750\n",
      "9/9 [==============================] - 0s 3ms/step - loss: 1971326732.8000\n",
      "Epoch 327/750\n",
      "9/9 [==============================] - 0s 3ms/step - loss: 2017517939.2000\n",
      "Epoch 328/750\n",
      "9/9 [==============================] - 0s 3ms/step - loss: 2077269529.6000\n",
      "Epoch 329/750\n",
      "9/9 [==============================] - 0s 3ms/step - loss: 2216632217.6000\n",
      "Epoch 330/750\n",
      "9/9 [==============================] - 0s 3ms/step - loss: 2223123315.2000\n",
      "Epoch 331/750\n",
      "9/9 [==============================] - 0s 3ms/step - loss: 2218504896.0000\n",
      "Epoch 332/750\n",
      "9/9 [==============================] - 0s 3ms/step - loss: 1922937651.2000\n",
      "Epoch 333/750\n",
      "9/9 [==============================] - 0s 3ms/step - loss: 1966749593.6000\n",
      "Epoch 334/750\n",
      "9/9 [==============================] - 0s 3ms/step - loss: 1836712780.8000\n",
      "Epoch 335/750\n",
      "9/9 [==============================] - 0s 3ms/step - loss: 1979699699.2000\n",
      "Epoch 336/750\n",
      "9/9 [==============================] - 0s 3ms/step - loss: 2011228582.4000\n",
      "Epoch 337/750\n",
      "9/9 [==============================] - 0s 3ms/step - loss: 1864498931.2000\n",
      "Epoch 338/750\n",
      "9/9 [==============================] - 0s 3ms/step - loss: 2081113497.6000\n",
      "Epoch 339/750\n",
      "9/9 [==============================] - 0s 3ms/step - loss: 2128714816.0000\n",
      "Epoch 340/750\n",
      "9/9 [==============================] - 0s 3ms/step - loss: 1972523827.2000\n",
      "Epoch 341/750\n",
      "9/9 [==============================] - 0s 3ms/step - loss: 2206851507.2000\n",
      "Epoch 342/750\n",
      "9/9 [==============================] - 0s 3ms/step - loss: 2028826726.4000\n",
      "Epoch 343/750\n",
      "9/9 [==============================] - 0s 3ms/step - loss: 1822308262.4000\n",
      "Epoch 344/750\n",
      "9/9 [==============================] - 0s 3ms/step - loss: 1896481779.2000\n",
      "Epoch 345/750\n",
      "9/9 [==============================] - 0s 3ms/step - loss: 2226199180.8000\n",
      "Epoch 346/750\n",
      "9/9 [==============================] - 0s 3ms/step - loss: 2022346432.0000\n",
      "Epoch 347/750\n",
      "9/9 [==============================] - 0s 3ms/step - loss: 2054811507.2000\n",
      "Epoch 348/750\n",
      "9/9 [==============================] - 0s 3ms/step - loss: 1992680230.4000\n",
      "Epoch 349/750\n",
      "9/9 [==============================] - 0s 3ms/step - loss: 1786095820.8000\n",
      "Epoch 350/750\n",
      "9/9 [==============================] - 0s 3ms/step - loss: 2014205324.8000\n",
      "Epoch 351/750\n",
      "9/9 [==============================] - 0s 3ms/step - loss: 1910294016.0000\n",
      "Epoch 352/750\n",
      "9/9 [==============================] - 0s 3ms/step - loss: 2009060800.0000\n",
      "Epoch 353/750\n",
      "9/9 [==============================] - 0s 3ms/step - loss: 2084144921.6000\n",
      "Epoch 354/750\n",
      "9/9 [==============================] - 0s 3ms/step - loss: 2016375347.2000\n",
      "Epoch 355/750\n",
      "9/9 [==============================] - 0s 3ms/step - loss: 1853143846.4000\n",
      "Epoch 356/750\n",
      "9/9 [==============================] - 0s 3ms/step - loss: 1946571993.6000\n",
      "Epoch 357/750\n",
      "9/9 [==============================] - 0s 3ms/step - loss: 2138333862.4000\n",
      "Epoch 358/750\n",
      "9/9 [==============================] - 0s 3ms/step - loss: 2075836326.4000\n",
      "Epoch 359/750\n",
      "9/9 [==============================] - 0s 3ms/step - loss: 1966439731.2000\n",
      "Epoch 360/750\n",
      "9/9 [==============================] - 0s 3ms/step - loss: 1968947404.8000\n",
      "Epoch 361/750\n",
      "9/9 [==============================] - 0s 3ms/step - loss: 1920561344.0000\n",
      "Epoch 362/750\n",
      "9/9 [==============================] - 0s 3ms/step - loss: 1912905254.4000\n",
      "Epoch 363/750\n",
      "9/9 [==============================] - 0s 3ms/step - loss: 2012284121.6000\n",
      "Epoch 364/750\n",
      "9/9 [==============================] - 0s 3ms/step - loss: 1853267494.4000\n",
      "Epoch 365/750\n",
      "9/9 [==============================] - 0s 3ms/step - loss: 1761455680.0000\n",
      "Epoch 366/750\n",
      "9/9 [==============================] - 0s 3ms/step - loss: 1994350502.4000\n",
      "Epoch 367/750\n",
      "9/9 [==============================] - 0s 3ms/step - loss: 1838486656.0000\n",
      "Epoch 368/750\n",
      "9/9 [==============================] - 0s 3ms/step - loss: 2123725465.6000\n",
      "Epoch 369/750\n",
      "9/9 [==============================] - 0s 3ms/step - loss: 1908936499.2000\n",
      "Epoch 370/750\n",
      "9/9 [==============================] - 0s 3ms/step - loss: 2037696524.8000\n",
      "Epoch 371/750\n",
      "9/9 [==============================] - 0s 3ms/step - loss: 1885291123.2000\n",
      "Epoch 372/750\n",
      "9/9 [==============================] - 0s 3ms/step - loss: 1783931187.2000\n",
      "Epoch 373/750\n",
      "9/9 [==============================] - 0s 3ms/step - loss: 1845380326.4000\n",
      "Epoch 374/750\n",
      "9/9 [==============================] - 0s 3ms/step - loss: 1966112857.6000\n",
      "Epoch 375/750\n",
      "9/9 [==============================] - 0s 3ms/step - loss: 1858881715.2000\n",
      "Epoch 376/750\n",
      "9/9 [==============================] - 0s 3ms/step - loss: 2004993510.4000\n",
      "Epoch 377/750\n",
      "9/9 [==============================] - 0s 3ms/step - loss: 1820057804.8000\n",
      "Epoch 378/750\n",
      "9/9 [==============================] - 0s 3ms/step - loss: 1893550131.2000\n",
      "Epoch 379/750\n",
      "9/9 [==============================] - 0s 3ms/step - loss: 1890514483.2000\n",
      "Epoch 380/750\n",
      "9/9 [==============================] - 0s 3ms/step - loss: 1833134835.2000\n",
      "Epoch 381/750\n",
      "9/9 [==============================] - 0s 3ms/step - loss: 2055362393.6000\n",
      "Epoch 382/750\n",
      "9/9 [==============================] - 0s 3ms/step - loss: 1983203276.8000\n",
      "Epoch 383/750\n",
      "9/9 [==============================] - 0s 3ms/step - loss: 2011627238.4000\n",
      "Epoch 384/750\n",
      "9/9 [==============================] - 0s 3ms/step - loss: 1966691123.2000\n",
      "Epoch 385/750\n",
      "9/9 [==============================] - 0s 3ms/step - loss: 1778804249.6000\n",
      "Epoch 386/750\n",
      "9/9 [==============================] - 0s 3ms/step - loss: 1896317068.8000\n",
      "Epoch 387/750\n",
      "9/9 [==============================] - 0s 3ms/step - loss: 1772766259.2000\n",
      "Epoch 388/750\n",
      "9/9 [==============================] - 0s 3ms/step - loss: 1864597798.4000\n",
      "Epoch 389/750\n",
      "9/9 [==============================] - 0s 3ms/step - loss: 1873809817.6000\n",
      "Epoch 390/750\n",
      "9/9 [==============================] - 0s 3ms/step - loss: 1798782028.8000\n",
      "Epoch 391/750\n",
      "9/9 [==============================] - 0s 3ms/step - loss: 2096164300.8000\n",
      "Epoch 392/750\n",
      "9/9 [==============================] - 0s 3ms/step - loss: 1890944588.8000\n",
      "Epoch 393/750\n",
      "9/9 [==============================] - 0s 3ms/step - loss: 1957914393.6000\n",
      "Epoch 394/750\n",
      "9/9 [==============================] - 0s 3ms/step - loss: 2217116480.0000\n",
      "Epoch 395/750\n",
      "9/9 [==============================] - 0s 3ms/step - loss: 1841705804.8000\n",
      "Epoch 396/750\n",
      "9/9 [==============================] - 0s 3ms/step - loss: 1759851161.6000\n",
      "Epoch 397/750\n",
      "9/9 [==============================] - 0s 3ms/step - loss: 1752929920.0000\n",
      "Epoch 398/750\n",
      "9/9 [==============================] - 0s 3ms/step - loss: 1980559308.8000\n",
      "Epoch 399/750\n",
      "9/9 [==============================] - 0s 3ms/step - loss: 1960865292.8000\n",
      "Epoch 400/750\n",
      "9/9 [==============================] - 0s 3ms/step - loss: 1740239744.0000\n",
      "Epoch 401/750\n",
      "9/9 [==============================] - 0s 3ms/step - loss: 2000011353.6000\n",
      "Epoch 402/750\n",
      "9/9 [==============================] - 0s 3ms/step - loss: 1899571545.6000\n",
      "Epoch 403/750\n",
      "9/9 [==============================] - 0s 3ms/step - loss: 1757541260.8000\n",
      "Epoch 404/750\n",
      "9/9 [==============================] - 0s 3ms/step - loss: 1730494182.4000\n",
      "Epoch 405/750\n",
      "9/9 [==============================] - 0s 3ms/step - loss: 1857794841.6000\n",
      "Epoch 406/750\n",
      "9/9 [==============================] - 0s 3ms/step - loss: 2092371468.8000\n",
      "Epoch 407/750\n",
      "9/9 [==============================] - 0s 3ms/step - loss: 1940442854.4000\n",
      "Epoch 408/750\n",
      "9/9 [==============================] - 0s 3ms/step - loss: 1859176371.2000\n",
      "Epoch 409/750\n",
      "9/9 [==============================] - 0s 3ms/step - loss: 1847251622.4000\n",
      "Epoch 410/750\n",
      "9/9 [==============================] - 0s 3ms/step - loss: 1767098649.6000\n",
      "Epoch 411/750\n",
      "9/9 [==============================] - 0s 3ms/step - loss: 1851496064.0000\n",
      "Epoch 412/750\n",
      "9/9 [==============================] - 0s 3ms/step - loss: 1907470604.8000\n",
      "Epoch 413/750\n",
      "9/9 [==============================] - 0s 3ms/step - loss: 1925793062.4000\n",
      "Epoch 414/750\n",
      "9/9 [==============================] - 0s 3ms/step - loss: 1771045171.2000\n",
      "Epoch 415/750\n",
      "9/9 [==============================] - 0s 3ms/step - loss: 1698242368.0000\n",
      "Epoch 416/750\n",
      "9/9 [==============================] - 0s 3ms/step - loss: 1923147929.6000\n",
      "Epoch 417/750\n",
      "9/9 [==============================] - 0s 3ms/step - loss: 1724843584.0000\n",
      "Epoch 418/750\n",
      "9/9 [==============================] - 0s 3ms/step - loss: 1804004518.4000\n",
      "Epoch 419/750\n",
      "9/9 [==============================] - 0s 3ms/step - loss: 1850209318.4000\n",
      "Epoch 420/750\n",
      "9/9 [==============================] - 0s 3ms/step - loss: 1806661171.2000\n",
      "Epoch 421/750\n",
      "9/9 [==============================] - 0s 3ms/step - loss: 1763366323.2000\n",
      "Epoch 422/750\n",
      "9/9 [==============================] - 0s 3ms/step - loss: 1805644467.2000\n",
      "Epoch 423/750\n",
      "9/9 [==============================] - 0s 3ms/step - loss: 1746903488.0000\n",
      "Epoch 424/750\n",
      "9/9 [==============================] - 0s 4ms/step - loss: 2111661388.8000\n",
      "Epoch 425/750\n",
      "9/9 [==============================] - 0s 3ms/step - loss: 1837425625.6000\n",
      "Epoch 426/750\n",
      "9/9 [==============================] - 0s 3ms/step - loss: 1881117734.4000\n",
      "Epoch 427/750\n",
      "9/9 [==============================] - 0s 3ms/step - loss: 1765068339.2000\n",
      "Epoch 428/750\n",
      "9/9 [==============================] - 0s 3ms/step - loss: 1845345817.6000\n",
      "Epoch 429/750\n",
      "9/9 [==============================] - 0s 3ms/step - loss: 1787417203.2000\n",
      "Epoch 430/750\n",
      "9/9 [==============================] - 0s 3ms/step - loss: 1770081971.2000\n",
      "Epoch 431/750\n",
      "9/9 [==============================] - 0s 3ms/step - loss: 1815009446.4000\n",
      "Epoch 432/750\n",
      "9/9 [==============================] - 0s 3ms/step - loss: 2020928358.4000\n",
      "Epoch 433/750\n",
      "9/9 [==============================] - 0s 3ms/step - loss: 1785773990.4000\n",
      "Epoch 434/750\n",
      "9/9 [==============================] - 0s 3ms/step - loss: 1822923187.2000\n",
      "Epoch 435/750\n",
      "9/9 [==============================] - 0s 3ms/step - loss: 1818758208.0000\n",
      "Epoch 436/750\n",
      "9/9 [==============================] - 0s 3ms/step - loss: 1947442905.6000\n",
      "Epoch 437/750\n",
      "9/9 [==============================] - 0s 3ms/step - loss: 1703127654.4000\n",
      "Epoch 438/750\n",
      "9/9 [==============================] - 0s 3ms/step - loss: 1688848537.6000\n",
      "Epoch 439/750\n",
      "9/9 [==============================] - 0s 3ms/step - loss: 1915875225.6000\n",
      "Epoch 440/750\n",
      "9/9 [==============================] - 0s 3ms/step - loss: 1751311385.6000\n",
      "Epoch 441/750\n",
      "9/9 [==============================] - 0s 3ms/step - loss: 1770185484.8000\n",
      "Epoch 442/750\n",
      "9/9 [==============================] - 0s 3ms/step - loss: 1803490227.2000\n",
      "Epoch 443/750\n",
      "9/9 [==============================] - 0s 3ms/step - loss: 1782788889.6000\n",
      "Epoch 444/750\n",
      "9/9 [==============================] - 0s 3ms/step - loss: 1975185228.8000\n",
      "Epoch 445/750\n",
      "9/9 [==============================] - 0s 3ms/step - loss: 1934493900.8000\n",
      "Epoch 446/750\n",
      "9/9 [==============================] - 0s 3ms/step - loss: 1637029491.2000\n",
      "Epoch 447/750\n",
      "9/9 [==============================] - 0s 3ms/step - loss: 1852517875.2000\n",
      "Epoch 448/750\n",
      "9/9 [==============================] - 0s 3ms/step - loss: 1696892134.4000\n",
      "Epoch 449/750\n",
      "9/9 [==============================] - 0s 3ms/step - loss: 1755257177.6000\n",
      "Epoch 450/750\n",
      "9/9 [==============================] - 0s 3ms/step - loss: 1751168460.8000\n",
      "Epoch 451/750\n",
      "9/9 [==============================] - 0s 3ms/step - loss: 1928331929.6000\n",
      "Epoch 452/750\n",
      "9/9 [==============================] - 0s 3ms/step - loss: 1809591590.4000\n",
      "Epoch 453/750\n",
      "9/9 [==============================] - 0s 3ms/step - loss: 1590134924.8000\n",
      "Epoch 454/750\n",
      "9/9 [==============================] - 0s 3ms/step - loss: 1760320192.0000\n",
      "Epoch 455/750\n",
      "9/9 [==============================] - 0s 3ms/step - loss: 1764273292.8000\n",
      "Epoch 456/750\n",
      "9/9 [==============================] - 0s 3ms/step - loss: 1726675148.8000\n",
      "Epoch 457/750\n",
      "9/9 [==============================] - 0s 3ms/step - loss: 1701080486.4000\n",
      "Epoch 458/750\n",
      "9/9 [==============================] - 0s 3ms/step - loss: 1781384204.8000\n",
      "Epoch 459/750\n",
      "9/9 [==============================] - 0s 3ms/step - loss: 1677190976.0000\n",
      "Epoch 460/750\n",
      "9/9 [==============================] - 0s 3ms/step - loss: 1578061312.0000\n",
      "Epoch 461/750\n",
      "9/9 [==============================] - 0s 3ms/step - loss: 1657734425.6000\n",
      "Epoch 462/750\n",
      "9/9 [==============================] - 0s 3ms/step - loss: 1786987712.0000\n",
      "Epoch 463/750\n",
      "9/9 [==============================] - 0s 3ms/step - loss: 1786210547.2000\n",
      "Epoch 464/750\n",
      "9/9 [==============================] - 0s 3ms/step - loss: 1658371008.0000\n",
      "Epoch 465/750\n",
      "9/9 [==============================] - 0s 3ms/step - loss: 1585789606.4000\n",
      "Epoch 466/750\n",
      "9/9 [==============================] - 0s 3ms/step - loss: 1642748352.0000\n",
      "Epoch 467/750\n",
      "9/9 [==============================] - 0s 3ms/step - loss: 1715565056.0000\n",
      "Epoch 468/750\n",
      "9/9 [==============================] - 0s 3ms/step - loss: 1821943680.0000\n",
      "Epoch 469/750\n",
      "9/9 [==============================] - 0s 3ms/step - loss: 1671521996.8000\n",
      "Epoch 470/750\n",
      "9/9 [==============================] - 0s 3ms/step - loss: 1641328076.8000\n",
      "Epoch 471/750\n",
      "9/9 [==============================] - 0s 3ms/step - loss: 1656696972.8000\n",
      "Epoch 472/750\n",
      "9/9 [==============================] - 0s 3ms/step - loss: 1726240768.0000\n",
      "Epoch 473/750\n",
      "9/9 [==============================] - 0s 3ms/step - loss: 1699918272.0000\n",
      "Epoch 474/750\n",
      "9/9 [==============================] - 0s 3ms/step - loss: 1710754329.6000\n",
      "Epoch 475/750\n",
      "9/9 [==============================] - 0s 3ms/step - loss: 1874359680.0000\n",
      "Epoch 476/750\n",
      "9/9 [==============================] - 0s 3ms/step - loss: 1796549529.6000\n",
      "Epoch 477/750\n",
      "9/9 [==============================] - 0s 3ms/step - loss: 1907849766.4000\n",
      "Epoch 478/750\n",
      "9/9 [==============================] - 0s 3ms/step - loss: 1622939136.0000\n",
      "Epoch 479/750\n",
      "9/9 [==============================] - 0s 3ms/step - loss: 1667860812.8000\n",
      "Epoch 480/750\n",
      "9/9 [==============================] - 0s 3ms/step - loss: 1668573900.8000\n",
      "Epoch 481/750\n",
      "9/9 [==============================] - 0s 3ms/step - loss: 1772867584.0000\n",
      "Epoch 482/750\n",
      "9/9 [==============================] - 0s 3ms/step - loss: 1704254233.6000\n",
      "Epoch 483/750\n",
      "9/9 [==============================] - 0s 3ms/step - loss: 1797611737.6000\n",
      "Epoch 484/750\n",
      "9/9 [==============================] - 0s 3ms/step - loss: 1698644134.4000\n",
      "Epoch 485/750\n",
      "9/9 [==============================] - 0s 3ms/step - loss: 1788735244.8000\n",
      "Epoch 486/750\n",
      "9/9 [==============================] - 0s 3ms/step - loss: 1747705996.8000\n",
      "Epoch 487/750\n",
      "9/9 [==============================] - 0s 3ms/step - loss: 1597935398.4000\n",
      "Epoch 488/750\n",
      "9/9 [==============================] - 0s 3ms/step - loss: 1750249971.2000\n",
      "Epoch 489/750\n",
      "9/9 [==============================] - 0s 3ms/step - loss: 1721356979.2000\n",
      "Epoch 490/750\n",
      "9/9 [==============================] - 0s 3ms/step - loss: 1756388851.2000\n",
      "Epoch 491/750\n",
      "9/9 [==============================] - 0s 3ms/step - loss: 1643143692.8000\n",
      "Epoch 492/750\n",
      "9/9 [==============================] - 0s 3ms/step - loss: 1812820800.0000\n",
      "Epoch 493/750\n",
      "9/9 [==============================] - 0s 3ms/step - loss: 1641801702.4000\n",
      "Epoch 494/750\n",
      "9/9 [==============================] - 0s 3ms/step - loss: 1650048371.2000\n",
      "Epoch 495/750\n",
      "9/9 [==============================] - 0s 3ms/step - loss: 1802182400.0000\n",
      "Epoch 496/750\n",
      "9/9 [==============================] - 0s 3ms/step - loss: 1646866086.4000\n",
      "Epoch 497/750\n",
      "9/9 [==============================] - 0s 3ms/step - loss: 1695722176.0000\n",
      "Epoch 498/750\n",
      "9/9 [==============================] - 0s 3ms/step - loss: 1780366707.2000\n",
      "Epoch 499/750\n",
      "9/9 [==============================] - 0s 3ms/step - loss: 1720366937.6000\n",
      "Epoch 500/750\n",
      "9/9 [==============================] - 0s 3ms/step - loss: 1552759078.4000\n",
      "Epoch 501/750\n",
      "9/9 [==============================] - 0s 3ms/step - loss: 1702916441.6000\n",
      "Epoch 502/750\n",
      "9/9 [==============================] - 0s 3ms/step - loss: 1598338240.0000\n",
      "Epoch 503/750\n",
      "9/9 [==============================] - 0s 3ms/step - loss: 1595377971.2000\n",
      "Epoch 504/750\n",
      "9/9 [==============================] - 0s 3ms/step - loss: 1594303283.2000\n",
      "Epoch 505/750\n",
      "9/9 [==============================] - 0s 3ms/step - loss: 1692971315.2000\n",
      "Epoch 506/750\n",
      "9/9 [==============================] - 0s 3ms/step - loss: 1760894732.8000\n",
      "Epoch 507/750\n",
      "9/9 [==============================] - 0s 3ms/step - loss: 1681879872.0000\n",
      "Epoch 508/750\n",
      "9/9 [==============================] - 0s 3ms/step - loss: 1733121305.6000\n",
      "Epoch 509/750\n",
      "9/9 [==============================] - 0s 3ms/step - loss: 1820532915.2000\n",
      "Epoch 510/750\n",
      "9/9 [==============================] - 0s 3ms/step - loss: 1666083097.6000\n",
      "Epoch 511/750\n",
      "9/9 [==============================] - 0s 3ms/step - loss: 1771626956.8000\n",
      "Epoch 512/750\n",
      "9/9 [==============================] - 0s 3ms/step - loss: 1734287910.4000\n",
      "Epoch 513/750\n",
      "9/9 [==============================] - 0s 3ms/step - loss: 1628853120.0000\n",
      "Epoch 514/750\n",
      "9/9 [==============================] - 0s 3ms/step - loss: 1725421606.4000\n",
      "Epoch 515/750\n",
      "9/9 [==============================] - 0s 3ms/step - loss: 1802472998.4000\n",
      "Epoch 516/750\n",
      "9/9 [==============================] - 0s 3ms/step - loss: 1594519244.8000\n",
      "Epoch 517/750\n",
      "9/9 [==============================] - 0s 3ms/step - loss: 1755319040.0000\n",
      "Epoch 518/750\n",
      "9/9 [==============================] - 0s 3ms/step - loss: 1726311155.2000\n",
      "Epoch 519/750\n",
      "9/9 [==============================] - 0s 3ms/step - loss: 1776132595.2000\n",
      "Epoch 520/750\n",
      "9/9 [==============================] - 0s 3ms/step - loss: 1646436121.6000\n",
      "Epoch 521/750\n",
      "9/9 [==============================] - 0s 3ms/step - loss: 1669917875.2000\n",
      "Epoch 522/750\n",
      "9/9 [==============================] - 0s 3ms/step - loss: 1522959052.8000\n",
      "Epoch 523/750\n",
      "9/9 [==============================] - 0s 3ms/step - loss: 1645065868.8000\n",
      "Epoch 524/750\n",
      "9/9 [==============================] - 0s 3ms/step - loss: 1753637171.2000\n",
      "Epoch 525/750\n",
      "9/9 [==============================] - 0s 3ms/step - loss: 1834962726.4000\n",
      "Epoch 526/750\n",
      "9/9 [==============================] - 0s 3ms/step - loss: 1764253939.2000\n",
      "Epoch 527/750\n",
      "9/9 [==============================] - 0s 3ms/step - loss: 1566494528.0000\n",
      "Epoch 528/750\n",
      "9/9 [==============================] - 0s 3ms/step - loss: 1609298790.4000\n",
      "Epoch 529/750\n",
      "9/9 [==============================] - 0s 3ms/step - loss: 1676894643.2000\n",
      "Epoch 530/750\n",
      "9/9 [==============================] - 0s 3ms/step - loss: 1608630156.8000\n",
      "Epoch 531/750\n",
      "9/9 [==============================] - 0s 3ms/step - loss: 1713182272.0000\n",
      "Epoch 532/750\n",
      "9/9 [==============================] - 0s 3ms/step - loss: 1667820569.6000\n",
      "Epoch 533/750\n",
      "9/9 [==============================] - 0s 3ms/step - loss: 1828387622.4000\n",
      "Epoch 534/750\n",
      "9/9 [==============================] - 0s 3ms/step - loss: 1971977766.4000\n",
      "Epoch 535/750\n",
      "9/9 [==============================] - 0s 3ms/step - loss: 1718435545.6000\n",
      "Epoch 536/750\n",
      "9/9 [==============================] - 0s 3ms/step - loss: 1637603852.8000\n",
      "Epoch 537/750\n",
      "9/9 [==============================] - 0s 3ms/step - loss: 1631575475.2000\n",
      "Epoch 538/750\n",
      "9/9 [==============================] - 0s 3ms/step - loss: 1763630092.8000\n",
      "Epoch 539/750\n",
      "9/9 [==============================] - 0s 3ms/step - loss: 1662441881.6000\n",
      "Epoch 540/750\n",
      "9/9 [==============================] - 0s 3ms/step - loss: 1730348582.4000\n",
      "Epoch 541/750\n",
      "9/9 [==============================] - 0s 3ms/step - loss: 1652264870.4000\n",
      "Epoch 542/750\n",
      "9/9 [==============================] - 0s 3ms/step - loss: 1733049625.6000\n",
      "Epoch 543/750\n",
      "9/9 [==============================] - 0s 3ms/step - loss: 1456841254.4000\n",
      "Epoch 544/750\n",
      "9/9 [==============================] - 0s 3ms/step - loss: 1522701299.2000\n",
      "Epoch 545/750\n",
      "9/9 [==============================] - 0s 3ms/step - loss: 1699465344.0000\n",
      "Epoch 546/750\n",
      "9/9 [==============================] - 0s 3ms/step - loss: 1723441152.0000\n",
      "Epoch 547/750\n",
      "9/9 [==============================] - 0s 3ms/step - loss: 1646281164.8000\n",
      "Epoch 548/750\n",
      "9/9 [==============================] - 0s 3ms/step - loss: 1690436006.4000\n",
      "Epoch 549/750\n",
      "9/9 [==============================] - 0s 3ms/step - loss: 1667460364.8000\n",
      "Epoch 550/750\n",
      "9/9 [==============================] - 0s 3ms/step - loss: 1910000512.0000\n",
      "Epoch 551/750\n",
      "9/9 [==============================] - 0s 3ms/step - loss: 1940716467.2000\n",
      "Epoch 552/750\n",
      "9/9 [==============================] - 0s 3ms/step - loss: 1639159859.2000\n",
      "Epoch 553/750\n",
      "9/9 [==============================] - 0s 3ms/step - loss: 1701348428.8000\n",
      "Epoch 554/750\n",
      "9/9 [==============================] - 0s 3ms/step - loss: 1509961484.8000\n",
      "Epoch 555/750\n",
      "9/9 [==============================] - 0s 3ms/step - loss: 1687707200.0000\n",
      "Epoch 556/750\n",
      "9/9 [==============================] - 0s 3ms/step - loss: 1787393740.8000\n",
      "Epoch 557/750\n",
      "9/9 [==============================] - 0s 3ms/step - loss: 1747308147.2000\n",
      "Epoch 558/750\n",
      "9/9 [==============================] - 0s 3ms/step - loss: 1548967808.0000\n",
      "Epoch 559/750\n",
      "9/9 [==============================] - 0s 3ms/step - loss: 1707131916.8000\n",
      "Epoch 560/750\n",
      "9/9 [==============================] - 0s 3ms/step - loss: 1556949760.0000\n",
      "Epoch 561/750\n",
      "9/9 [==============================] - 0s 3ms/step - loss: 1781939481.6000\n",
      "Epoch 562/750\n",
      "9/9 [==============================] - 0s 3ms/step - loss: 1627126028.8000\n",
      "Epoch 563/750\n",
      "9/9 [==============================] - 0s 3ms/step - loss: 1647882432.0000\n",
      "Epoch 564/750\n",
      "9/9 [==============================] - 0s 3ms/step - loss: 1644187545.6000\n",
      "Epoch 565/750\n",
      "9/9 [==============================] - 0s 3ms/step - loss: 1691272921.6000\n",
      "Epoch 566/750\n",
      "9/9 [==============================] - 0s 3ms/step - loss: 1623040857.6000\n",
      "Epoch 567/750\n",
      "9/9 [==============================] - 0s 3ms/step - loss: 1705766771.2000\n",
      "Epoch 568/750\n",
      "9/9 [==============================] - 0s 3ms/step - loss: 1695376217.6000\n",
      "Epoch 569/750\n",
      "9/9 [==============================] - 0s 3ms/step - loss: 1504639756.8000\n",
      "Epoch 570/750\n",
      "9/9 [==============================] - 0s 3ms/step - loss: 1692404505.6000\n",
      "Epoch 571/750\n",
      "9/9 [==============================] - 0s 3ms/step - loss: 1626930918.4000\n",
      "Epoch 572/750\n",
      "9/9 [==============================] - 0s 3ms/step - loss: 1711268966.4000\n",
      "Epoch 573/750\n",
      "9/9 [==============================] - 0s 3ms/step - loss: 1500264934.4000\n",
      "Epoch 574/750\n",
      "9/9 [==============================] - 0s 3ms/step - loss: 1610647987.2000\n",
      "Epoch 575/750\n",
      "9/9 [==============================] - 0s 3ms/step - loss: 1817519129.6000\n",
      "Epoch 576/750\n",
      "9/9 [==============================] - 0s 3ms/step - loss: 1565908569.6000\n",
      "Epoch 577/750\n",
      "9/9 [==============================] - 0s 3ms/step - loss: 1599569113.6000\n",
      "Epoch 578/750\n",
      "9/9 [==============================] - 0s 3ms/step - loss: 1525778918.4000\n",
      "Epoch 579/750\n",
      "9/9 [==============================] - 0s 3ms/step - loss: 1664371353.6000\n",
      "Epoch 580/750\n",
      "9/9 [==============================] - 0s 3ms/step - loss: 1726215142.4000\n",
      "Epoch 581/750\n",
      "9/9 [==============================] - 0s 3ms/step - loss: 1643831833.6000\n",
      "Epoch 582/750\n",
      "9/9 [==============================] - 0s 4ms/step - loss: 1672420044.8000\n",
      "Epoch 583/750\n",
      "9/9 [==============================] - 0s 3ms/step - loss: 1801221734.4000\n",
      "Epoch 584/750\n",
      "9/9 [==============================] - 0s 3ms/step - loss: 1526905689.6000\n",
      "Epoch 585/750\n",
      "9/9 [==============================] - 0s 3ms/step - loss: 1609610611.2000\n",
      "Epoch 586/750\n",
      "9/9 [==============================] - 0s 3ms/step - loss: 1675906969.6000\n",
      "Epoch 587/750\n",
      "9/9 [==============================] - 0s 3ms/step - loss: 1435391436.8000\n",
      "Epoch 588/750\n",
      "9/9 [==============================] - 0s 3ms/step - loss: 1782876608.0000\n",
      "Epoch 589/750\n",
      "9/9 [==============================] - 0s 3ms/step - loss: 1640181734.4000\n",
      "Epoch 590/750\n",
      "9/9 [==============================] - 0s 3ms/step - loss: 1664168691.2000\n",
      "Epoch 591/750\n",
      "9/9 [==============================] - 0s 3ms/step - loss: 1759647936.0000\n",
      "Epoch 592/750\n",
      "9/9 [==============================] - 0s 3ms/step - loss: 1683367270.4000\n",
      "Epoch 593/750\n",
      "9/9 [==============================] - 0s 3ms/step - loss: 1901724339.2000\n",
      "Epoch 594/750\n",
      "9/9 [==============================] - 0s 3ms/step - loss: 1684934681.6000\n",
      "Epoch 595/750\n",
      "9/9 [==============================] - 0s 3ms/step - loss: 1494918988.8000\n",
      "Epoch 596/750\n",
      "9/9 [==============================] - 0s 3ms/step - loss: 1453164966.4000\n",
      "Epoch 597/750\n",
      "9/9 [==============================] - 0s 3ms/step - loss: 1510361024.0000\n",
      "Epoch 598/750\n",
      "9/9 [==============================] - 0s 3ms/step - loss: 1526148147.2000\n",
      "Epoch 599/750\n",
      "9/9 [==============================] - 0s 3ms/step - loss: 1525210982.4000\n",
      "Epoch 600/750\n",
      "9/9 [==============================] - 0s 3ms/step - loss: 1725626982.4000\n",
      "Epoch 601/750\n",
      "9/9 [==============================] - 0s 3ms/step - loss: 1536130636.8000\n",
      "Epoch 602/750\n",
      "9/9 [==============================] - 0s 3ms/step - loss: 1513534323.2000\n",
      "Epoch 603/750\n",
      "9/9 [==============================] - 0s 3ms/step - loss: 1562394931.2000\n",
      "Epoch 604/750\n",
      "9/9 [==============================] - 0s 3ms/step - loss: 1581038208.0000\n",
      "Epoch 605/750\n",
      "9/9 [==============================] - 0s 3ms/step - loss: 1589229785.6000\n",
      "Epoch 606/750\n",
      "9/9 [==============================] - 0s 3ms/step - loss: 1587465344.0000\n",
      "Epoch 607/750\n",
      "9/9 [==============================] - 0s 3ms/step - loss: 1681008934.4000\n",
      "Epoch 608/750\n",
      "9/9 [==============================] - 0s 3ms/step - loss: 1684753446.4000\n",
      "Epoch 609/750\n",
      "9/9 [==============================] - 0s 3ms/step - loss: 1580287628.8000\n",
      "Epoch 610/750\n",
      "9/9 [==============================] - 0s 3ms/step - loss: 1574396288.0000\n",
      "Epoch 611/750\n",
      "9/9 [==============================] - 0s 3ms/step - loss: 1582823641.6000\n",
      "Epoch 612/750\n",
      "9/9 [==============================] - 0s 3ms/step - loss: 1523000320.0000\n",
      "Epoch 613/750\n",
      "9/9 [==============================] - 0s 3ms/step - loss: 1603897856.0000\n",
      "Epoch 614/750\n",
      "9/9 [==============================] - 0s 3ms/step - loss: 1495200550.4000\n",
      "Epoch 615/750\n",
      "9/9 [==============================] - 0s 3ms/step - loss: 1632185753.6000\n",
      "Epoch 616/750\n",
      "9/9 [==============================] - 0s 3ms/step - loss: 1743359104.0000\n",
      "Epoch 617/750\n",
      "9/9 [==============================] - 0s 4ms/step - loss: 1556324684.8000\n",
      "Epoch 618/750\n",
      "9/9 [==============================] - 0s 4ms/step - loss: 1550076825.6000\n",
      "Epoch 619/750\n",
      "9/9 [==============================] - 0s 4ms/step - loss: 1748566246.4000\n",
      "Epoch 620/750\n",
      "9/9 [==============================] - 0s 4ms/step - loss: 1553149849.6000\n",
      "Epoch 621/750\n",
      "9/9 [==============================] - 0s 3ms/step - loss: 1735867673.6000\n",
      "Epoch 622/750\n",
      "9/9 [==============================] - 0s 3ms/step - loss: 1760297433.6000\n",
      "Epoch 623/750\n",
      "9/9 [==============================] - 0s 3ms/step - loss: 1636876236.8000\n",
      "Epoch 624/750\n",
      "9/9 [==============================] - 0s 3ms/step - loss: 1762528243.2000\n",
      "Epoch 625/750\n",
      "9/9 [==============================] - 0s 3ms/step - loss: 1430535910.4000\n",
      "Epoch 626/750\n",
      "9/9 [==============================] - 0s 3ms/step - loss: 1617274508.8000\n",
      "Epoch 627/750\n",
      "9/9 [==============================] - 0s 3ms/step - loss: 1772032768.0000\n",
      "Epoch 628/750\n",
      "9/9 [==============================] - 0s 3ms/step - loss: 1559275980.8000\n",
      "Epoch 629/750\n",
      "9/9 [==============================] - 0s 3ms/step - loss: 1481588108.8000\n",
      "Epoch 630/750\n",
      "9/9 [==============================] - 0s 3ms/step - loss: 1618130880.0000\n",
      "Epoch 631/750\n",
      "9/9 [==============================] - 0s 3ms/step - loss: 1586759756.8000\n",
      "Epoch 632/750\n",
      "9/9 [==============================] - 0s 3ms/step - loss: 1391485094.4000\n",
      "Epoch 633/750\n",
      "9/9 [==============================] - 0s 3ms/step - loss: 1708792960.0000\n",
      "Epoch 634/750\n",
      "9/9 [==============================] - 0s 3ms/step - loss: 1582643814.4000\n",
      "Epoch 635/750\n",
      "9/9 [==============================] - 0s 3ms/step - loss: 1576813440.0000\n",
      "Epoch 636/750\n",
      "9/9 [==============================] - 0s 3ms/step - loss: 1659445696.0000\n",
      "Epoch 637/750\n",
      "9/9 [==============================] - 0s 3ms/step - loss: 1588557491.2000\n",
      "Epoch 638/750\n",
      "9/9 [==============================] - 0s 3ms/step - loss: 1426720102.4000\n",
      "Epoch 639/750\n",
      "9/9 [==============================] - 0s 3ms/step - loss: 1594179148.8000\n",
      "Epoch 640/750\n",
      "9/9 [==============================] - 0s 3ms/step - loss: 1610309324.8000\n",
      "Epoch 641/750\n",
      "9/9 [==============================] - 0s 3ms/step - loss: 1656728256.0000\n",
      "Epoch 642/750\n",
      "9/9 [==============================] - 0s 3ms/step - loss: 1559747609.6000\n",
      "Epoch 643/750\n",
      "9/9 [==============================] - 0s 3ms/step - loss: 1608233164.8000\n",
      "Epoch 644/750\n",
      "9/9 [==============================] - 0s 3ms/step - loss: 1629839180.8000\n",
      "Epoch 645/750\n",
      "9/9 [==============================] - 0s 3ms/step - loss: 1602974732.8000\n",
      "Epoch 646/750\n",
      "9/9 [==============================] - 0s 3ms/step - loss: 1570183321.6000\n",
      "Epoch 647/750\n",
      "9/9 [==============================] - 0s 3ms/step - loss: 1567537920.0000\n",
      "Epoch 648/750\n",
      "9/9 [==============================] - 0s 3ms/step - loss: 1591818214.4000\n",
      "Epoch 649/750\n",
      "9/9 [==============================] - 0s 3ms/step - loss: 1599030272.0000\n",
      "Epoch 650/750\n",
      "9/9 [==============================] - 0s 3ms/step - loss: 1658227123.2000\n",
      "Epoch 651/750\n",
      "9/9 [==============================] - 0s 3ms/step - loss: 1523389593.6000\n",
      "Epoch 652/750\n",
      "9/9 [==============================] - 0s 3ms/step - loss: 1693837235.2000\n",
      "Epoch 653/750\n",
      "9/9 [==============================] - 0s 3ms/step - loss: 1537039449.6000\n",
      "Epoch 654/750\n",
      "9/9 [==============================] - 0s 3ms/step - loss: 1621835827.2000\n",
      "Epoch 655/750\n",
      "9/9 [==============================] - 0s 3ms/step - loss: 1581681331.2000\n",
      "Epoch 656/750\n",
      "9/9 [==============================] - 0s 3ms/step - loss: 1490735347.2000\n",
      "Epoch 657/750\n",
      "9/9 [==============================] - 0s 3ms/step - loss: 1540569561.6000\n",
      "Epoch 658/750\n",
      "9/9 [==============================] - 0s 3ms/step - loss: 1412548057.6000\n",
      "Epoch 659/750\n",
      "9/9 [==============================] - 0s 3ms/step - loss: 1592094361.6000\n",
      "Epoch 660/750\n",
      "9/9 [==============================] - 0s 3ms/step - loss: 1713675353.6000\n",
      "Epoch 661/750\n",
      "9/9 [==============================] - 0s 3ms/step - loss: 1457424998.4000\n",
      "Epoch 662/750\n",
      "9/9 [==============================] - 0s 3ms/step - loss: 1510324953.6000\n",
      "Epoch 663/750\n",
      "9/9 [==============================] - 0s 3ms/step - loss: 1544948787.2000\n",
      "Epoch 664/750\n",
      "9/9 [==============================] - 0s 3ms/step - loss: 1513796236.8000\n",
      "Epoch 665/750\n",
      "9/9 [==============================] - 0s 3ms/step - loss: 1472248486.4000\n",
      "Epoch 666/750\n",
      "9/9 [==============================] - 0s 3ms/step - loss: 1496299776.0000\n",
      "Epoch 667/750\n",
      "9/9 [==============================] - 0s 3ms/step - loss: 1574392153.6000\n",
      "Epoch 668/750\n",
      "9/9 [==============================] - 0s 3ms/step - loss: 1542952115.2000\n",
      "Epoch 669/750\n",
      "9/9 [==============================] - 0s 3ms/step - loss: 1755632832.0000\n",
      "Epoch 670/750\n",
      "9/9 [==============================] - 0s 3ms/step - loss: 1678906316.8000\n",
      "Epoch 671/750\n",
      "9/9 [==============================] - 0s 3ms/step - loss: 1578944627.2000\n",
      "Epoch 672/750\n",
      "9/9 [==============================] - 0s 3ms/step - loss: 1547037516.8000\n",
      "Epoch 673/750\n",
      "9/9 [==============================] - 0s 3ms/step - loss: 1522995212.8000\n",
      "Epoch 674/750\n",
      "9/9 [==============================] - 0s 3ms/step - loss: 1611228633.6000\n",
      "Epoch 675/750\n",
      "9/9 [==============================] - 0s 3ms/step - loss: 1416518784.0000\n",
      "Epoch 676/750\n",
      "9/9 [==============================] - 0s 3ms/step - loss: 1529205094.4000\n",
      "Epoch 677/750\n",
      "9/9 [==============================] - 0s 3ms/step - loss: 1610164377.6000\n",
      "Epoch 678/750\n",
      "9/9 [==============================] - 0s 3ms/step - loss: 1725535974.4000\n",
      "Epoch 679/750\n",
      "9/9 [==============================] - 0s 3ms/step - loss: 1668343488.0000\n",
      "Epoch 680/750\n",
      "9/9 [==============================] - 0s 3ms/step - loss: 1559026764.8000\n",
      "Epoch 681/750\n",
      "9/9 [==============================] - 0s 3ms/step - loss: 1640310476.8000\n",
      "Epoch 682/750\n",
      "9/9 [==============================] - 0s 3ms/step - loss: 1666517708.8000\n",
      "Epoch 683/750\n",
      "9/9 [==============================] - 0s 3ms/step - loss: 1526633344.0000\n",
      "Epoch 684/750\n",
      "9/9 [==============================] - 0s 3ms/step - loss: 1677196428.8000\n",
      "Epoch 685/750\n",
      "9/9 [==============================] - 0s 3ms/step - loss: 1559160716.8000\n",
      "Epoch 686/750\n",
      "9/9 [==============================] - 0s 3ms/step - loss: 1511145049.6000\n",
      "Epoch 687/750\n",
      "9/9 [==============================] - 0s 3ms/step - loss: 1420932083.2000\n",
      "Epoch 688/750\n",
      "9/9 [==============================] - 0s 3ms/step - loss: 1481355776.0000\n",
      "Epoch 689/750\n",
      "9/9 [==============================] - 0s 3ms/step - loss: 1641170316.8000\n",
      "Epoch 690/750\n",
      "9/9 [==============================] - 0s 3ms/step - loss: 1585947238.4000\n",
      "Epoch 691/750\n",
      "9/9 [==============================] - 0s 3ms/step - loss: 1630408934.4000\n",
      "Epoch 692/750\n",
      "9/9 [==============================] - 0s 3ms/step - loss: 1474800486.4000\n",
      "Epoch 693/750\n",
      "9/9 [==============================] - 0s 3ms/step - loss: 1553359180.8000\n",
      "Epoch 694/750\n",
      "9/9 [==============================] - 0s 3ms/step - loss: 1556309888.0000\n",
      "Epoch 695/750\n",
      "9/9 [==============================] - 0s 3ms/step - loss: 1447514841.6000\n",
      "Epoch 696/750\n",
      "9/9 [==============================] - 0s 3ms/step - loss: 1573726579.2000\n",
      "Epoch 697/750\n",
      "9/9 [==============================] - 0s 3ms/step - loss: 1503541772.8000\n",
      "Epoch 698/750\n",
      "9/9 [==============================] - 0s 3ms/step - loss: 1461649843.2000\n",
      "Epoch 699/750\n",
      "9/9 [==============================] - 0s 4ms/step - loss: 1618978816.0000\n",
      "Epoch 700/750\n",
      "9/9 [==============================] - 0s 3ms/step - loss: 1431643686.4000\n",
      "Epoch 701/750\n",
      "9/9 [==============================] - 0s 3ms/step - loss: 1565873497.6000\n",
      "Epoch 702/750\n",
      "9/9 [==============================] - 0s 3ms/step - loss: 1451620736.0000\n",
      "Epoch 703/750\n",
      "9/9 [==============================] - 0s 3ms/step - loss: 1515126310.4000\n",
      "Epoch 704/750\n",
      "9/9 [==============================] - 0s 3ms/step - loss: 1584811904.0000\n",
      "Epoch 705/750\n",
      "9/9 [==============================] - 0s 3ms/step - loss: 1448812851.2000\n",
      "Epoch 706/750\n",
      "9/9 [==============================] - 0s 3ms/step - loss: 1600070822.4000\n",
      "Epoch 707/750\n",
      "9/9 [==============================] - 0s 3ms/step - loss: 1414879564.8000\n",
      "Epoch 708/750\n",
      "9/9 [==============================] - 0s 3ms/step - loss: 1597930969.6000\n",
      "Epoch 709/750\n",
      "9/9 [==============================] - 0s 3ms/step - loss: 1458300249.6000\n",
      "Epoch 710/750\n",
      "9/9 [==============================] - 0s 3ms/step - loss: 1546846528.0000\n",
      "Epoch 711/750\n",
      "9/9 [==============================] - 0s 3ms/step - loss: 1606950400.0000\n",
      "Epoch 712/750\n",
      "9/9 [==============================] - 0s 3ms/step - loss: 1497031513.6000\n",
      "Epoch 713/750\n",
      "9/9 [==============================] - 0s 3ms/step - loss: 1555834752.0000\n",
      "Epoch 714/750\n",
      "9/9 [==============================] - 0s 3ms/step - loss: 1596666240.0000\n",
      "Epoch 715/750\n",
      "9/9 [==============================] - 0s 3ms/step - loss: 1541459648.0000\n",
      "Epoch 716/750\n",
      "9/9 [==============================] - 0s 3ms/step - loss: 1534812134.4000\n",
      "Epoch 717/750\n",
      "9/9 [==============================] - 0s 3ms/step - loss: 1594537305.6000\n",
      "Epoch 718/750\n",
      "9/9 [==============================] - 0s 3ms/step - loss: 1531169574.4000\n",
      "Epoch 719/750\n",
      "9/9 [==============================] - 0s 3ms/step - loss: 1538633382.4000\n",
      "Epoch 720/750\n",
      "9/9 [==============================] - 0s 3ms/step - loss: 1506739174.4000\n",
      "Epoch 721/750\n",
      "9/9 [==============================] - 0s 3ms/step - loss: 1417355520.0000\n",
      "Epoch 722/750\n",
      "9/9 [==============================] - 0s 3ms/step - loss: 1652482393.6000\n",
      "Epoch 723/750\n",
      "9/9 [==============================] - 0s 3ms/step - loss: 1660169689.6000\n",
      "Epoch 724/750\n",
      "9/9 [==============================] - 0s 3ms/step - loss: 1609276326.4000\n",
      "Epoch 725/750\n",
      "9/9 [==============================] - 0s 3ms/step - loss: 1502944012.8000\n",
      "Epoch 726/750\n",
      "9/9 [==============================] - 0s 3ms/step - loss: 1348093094.4000\n",
      "Epoch 727/750\n",
      "9/9 [==============================] - 0s 3ms/step - loss: 1438773337.6000\n",
      "Epoch 728/750\n",
      "9/9 [==============================] - 0s 3ms/step - loss: 1558634611.2000\n",
      "Epoch 729/750\n",
      "9/9 [==============================] - 0s 3ms/step - loss: 1316709849.6000\n",
      "Epoch 730/750\n",
      "9/9 [==============================] - 0s 3ms/step - loss: 1341169228.8000\n",
      "Epoch 731/750\n",
      "9/9 [==============================] - 0s 3ms/step - loss: 1370980032.0000\n",
      "Epoch 732/750\n",
      "9/9 [==============================] - 0s 3ms/step - loss: 1621647744.0000\n",
      "Epoch 733/750\n",
      "9/9 [==============================] - 0s 3ms/step - loss: 1376090496.0000\n",
      "Epoch 734/750\n",
      "9/9 [==============================] - 0s 3ms/step - loss: 1498419379.2000\n",
      "Epoch 735/750\n",
      "9/9 [==============================] - 0s 3ms/step - loss: 1621535974.4000\n",
      "Epoch 736/750\n",
      "9/9 [==============================] - 0s 3ms/step - loss: 1580902643.2000\n",
      "Epoch 737/750\n",
      "9/9 [==============================] - 0s 3ms/step - loss: 1516756428.8000\n",
      "Epoch 738/750\n",
      "9/9 [==============================] - 0s 3ms/step - loss: 1555504448.0000\n",
      "Epoch 739/750\n",
      "9/9 [==============================] - 0s 3ms/step - loss: 1837140723.2000\n",
      "Epoch 740/750\n",
      "9/9 [==============================] - 0s 3ms/step - loss: 1514951667.2000\n",
      "Epoch 741/750\n",
      "9/9 [==============================] - 0s 3ms/step - loss: 1691820544.0000\n",
      "Epoch 742/750\n",
      "9/9 [==============================] - 0s 3ms/step - loss: 1639151961.6000\n",
      "Epoch 743/750\n",
      "9/9 [==============================] - 0s 3ms/step - loss: 1496410739.2000\n",
      "Epoch 744/750\n",
      "9/9 [==============================] - 0s 3ms/step - loss: 1489728243.2000\n",
      "Epoch 745/750\n",
      "9/9 [==============================] - 0s 3ms/step - loss: 1528318630.4000\n",
      "Epoch 746/750\n",
      "9/9 [==============================] - 0s 3ms/step - loss: 1600291750.4000\n",
      "Epoch 747/750\n",
      "9/9 [==============================] - 0s 3ms/step - loss: 1532326502.4000\n",
      "Epoch 748/750\n",
      "9/9 [==============================] - 0s 4ms/step - loss: 1415040371.2000\n",
      "Epoch 749/750\n",
      "9/9 [==============================] - 0s 3ms/step - loss: 1551478873.6000\n",
      "Epoch 750/750\n",
      "9/9 [==============================] - 0s 3ms/step - loss: 1583066035.2000\n"
     ]
    },
    {
     "data": {
      "text/plain": [
       "<tensorflow.python.keras.callbacks.History at 0x7fcb207cf250>"
      ]
     },
     "execution_count": 60,
     "metadata": {},
     "output_type": "execute_result"
    }
   ],
   "source": [
    "model = Sequential()\n",
    "\n",
    "model.add(Dense(190, activation='relu'))\n",
    "model.add(Dropout(0.5))\n",
    "model.add(Dense(90, activation='relu'))\n",
    "model.add(Dropout(0.5))\n",
    "model.add(Dense(1))\n",
    "\n",
    "model.compile(optimizer='adam', loss='mse')\n",
    "\n",
    "model.fit(x=x_train, y=y_train, batch_size=180, epochs=750)"
   ]
  },
  {
   "cell_type": "markdown",
   "id": "63932b68",
   "metadata": {
    "papermill": {
     "duration": 0.558513,
     "end_time": "2021-07-13T07:48:43.293690",
     "exception": false,
     "start_time": "2021-07-13T07:48:42.735177",
     "status": "completed"
    },
    "tags": []
   },
   "source": [
    "**See Loss history**"
   ]
  },
  {
   "cell_type": "code",
   "execution_count": 61,
   "id": "ef23cb88",
   "metadata": {
    "execution": {
     "iopub.execute_input": "2021-07-13T07:48:44.409246Z",
     "iopub.status.busy": "2021-07-13T07:48:44.408283Z",
     "iopub.status.idle": "2021-07-13T07:48:44.703114Z",
     "shell.execute_reply": "2021-07-13T07:48:44.703610Z",
     "shell.execute_reply.started": "2021-07-13T06:56:46.813034Z"
    },
    "papermill": {
     "duration": 0.855065,
     "end_time": "2021-07-13T07:48:44.703819",
     "exception": false,
     "start_time": "2021-07-13T07:48:43.848754",
     "status": "completed"
    },
    "tags": []
   },
   "outputs": [
    {
     "data": {
      "text/plain": [
       "<AxesSubplot:>"
      ]
     },
     "execution_count": 61,
     "metadata": {},
     "output_type": "execute_result"
    },
    {
     "data": {
      "image/png": "[encoded data removed]",
      "text/plain": [
       "<Figure size 432x288 with 1 Axes>"
      ]
     },
     "metadata": {},
     "output_type": "display_data"
    }
   ],
   "source": [
    "model_loss = pd.DataFrame(model.history.history)\n",
    "model_loss.plot()"
   ]
  },
  {
   "cell_type": "markdown",
   "id": "58427e4b",
   "metadata": {
    "papermill": {
     "duration": 0.553693,
     "end_time": "2021-07-13T07:48:45.816973",
     "exception": false,
     "start_time": "2021-07-13T07:48:45.263280",
     "status": "completed"
    },
    "tags": []
   },
   "source": [
    "# **Predictions**"
   ]
  },
  {
   "cell_type": "code",
   "execution_count": 62,
   "id": "8b7eaf17",
   "metadata": {
    "execution": {
     "iopub.execute_input": "2021-07-13T07:48:46.939690Z",
     "iopub.status.busy": "2021-07-13T07:48:46.938794Z",
     "iopub.status.idle": "2021-07-13T07:48:47.098662Z",
     "shell.execute_reply": "2021-07-13T07:48:47.098114Z",
     "shell.execute_reply.started": "2021-07-13T06:56:51.042718Z"
    },
    "papermill": {
     "duration": 0.722706,
     "end_time": "2021-07-13T07:48:47.098894",
     "exception": false,
     "start_time": "2021-07-13T07:48:46.376188",
     "status": "completed"
    },
    "tags": []
   },
   "outputs": [],
   "source": [
    "predictions = model.predict(x_test)"
   ]
  },
  {
   "cell_type": "code",
   "execution_count": 63,
   "id": "6b59115a",
   "metadata": {
    "execution": {
     "iopub.execute_input": "2021-07-13T07:48:48.224535Z",
     "iopub.status.busy": "2021-07-13T07:48:48.223797Z",
     "iopub.status.idle": "2021-07-13T07:48:48.225717Z",
     "shell.execute_reply": "2021-07-13T07:48:48.226202Z",
     "shell.execute_reply.started": "2021-07-13T06:56:54.374013Z"
    },
    "papermill": {
     "duration": 0.5668,
     "end_time": "2021-07-13T07:48:48.226400",
     "exception": false,
     "start_time": "2021-07-13T07:48:47.659600",
     "status": "completed"
    },
    "tags": []
   },
   "outputs": [],
   "source": [
    "Predictions = predictions.flatten()"
   ]
  },
  {
   "cell_type": "code",
   "execution_count": 64,
   "id": "dce639ea",
   "metadata": {
    "execution": {
     "iopub.execute_input": "2021-07-13T07:48:49.434658Z",
     "iopub.status.busy": "2021-07-13T07:48:49.434001Z",
     "iopub.status.idle": "2021-07-13T07:48:49.438607Z",
     "shell.execute_reply": "2021-07-13T07:48:49.439139Z",
     "shell.execute_reply.started": "2021-07-13T06:56:55.754572Z"
    },
    "papermill": {
     "duration": 0.653986,
     "end_time": "2021-07-13T07:48:49.439329",
     "exception": false,
     "start_time": "2021-07-13T07:48:48.785343",
     "status": "completed"
    },
    "tags": []
   },
   "outputs": [],
   "source": [
    "Predictions = pd.Series(Predictions)"
   ]
  },
  {
   "cell_type": "code",
   "execution_count": 65,
   "id": "c9912a3d",
   "metadata": {
    "execution": {
     "iopub.execute_input": "2021-07-13T07:48:50.567908Z",
     "iopub.status.busy": "2021-07-13T07:48:50.567247Z",
     "iopub.status.idle": "2021-07-13T07:48:50.574990Z",
     "shell.execute_reply": "2021-07-13T07:48:50.574425Z",
     "shell.execute_reply.started": "2021-07-13T06:56:58.108123Z"
    },
    "papermill": {
     "duration": 0.572466,
     "end_time": "2021-07-13T07:48:50.575139",
     "exception": false,
     "start_time": "2021-07-13T07:48:50.002673",
     "status": "completed"
    },
    "tags": []
   },
   "outputs": [
    {
     "data": {
      "text/plain": [
       "0       104522.304688\n",
       "1       158820.062500\n",
       "2       172248.828125\n",
       "3       194757.546875\n",
       "4       185591.218750\n",
       "            ...      \n",
       "1454     67087.351562\n",
       "1455     72234.601562\n",
       "1456    163667.203125\n",
       "1457    110860.875000\n",
       "1458    186977.046875\n",
       "Length: 1459, dtype: float32"
      ]
     },
     "execution_count": 65,
     "metadata": {},
     "output_type": "execute_result"
    }
   ],
   "source": [
    "Predictions"
   ]
  },
  {
   "cell_type": "code",
   "execution_count": 66,
   "id": "e9e592c6",
   "metadata": {
    "execution": {
     "iopub.execute_input": "2021-07-13T07:48:51.747069Z",
     "iopub.status.busy": "2021-07-13T07:48:51.746396Z",
     "iopub.status.idle": "2021-07-13T07:48:51.749322Z",
     "shell.execute_reply": "2021-07-13T07:48:51.748691Z",
     "shell.execute_reply.started": "2021-07-13T07:00:10.962552Z"
    },
    "papermill": {
     "duration": 0.564369,
     "end_time": "2021-07-13T07:48:51.749465",
     "exception": false,
     "start_time": "2021-07-13T07:48:51.185096",
     "status": "completed"
    },
    "tags": []
   },
   "outputs": [],
   "source": [
    "Test_Id = pd.Series(test_id)"
   ]
  },
  {
   "cell_type": "code",
   "execution_count": 67,
   "id": "ecf66cdb",
   "metadata": {
    "execution": {
     "iopub.execute_input": "2021-07-13T07:48:52.872484Z",
     "iopub.status.busy": "2021-07-13T07:48:52.871812Z",
     "iopub.status.idle": "2021-07-13T07:48:52.874486Z",
     "shell.execute_reply": "2021-07-13T07:48:52.873983Z",
     "shell.execute_reply.started": "2021-07-13T07:47:07.776381Z"
    },
    "papermill": {
     "duration": 0.562031,
     "end_time": "2021-07-13T07:48:52.874632",
     "exception": false,
     "start_time": "2021-07-13T07:48:52.312601",
     "status": "completed"
    },
    "tags": []
   },
   "outputs": [],
   "source": [
    "submission = pd.DataFrame({'Id': Test_Id, 'SalePrice': Predictions})"
   ]
  },
  {
   "cell_type": "code",
   "execution_count": 68,
   "id": "dbd2f503",
   "metadata": {
    "execution": {
     "iopub.execute_input": "2021-07-13T07:48:53.997867Z",
     "iopub.status.busy": "2021-07-13T07:48:53.997161Z",
     "iopub.status.idle": "2021-07-13T07:48:54.000374Z",
     "shell.execute_reply": "2021-07-13T07:48:54.000970Z",
     "shell.execute_reply.started": "2021-07-13T07:47:10.014700Z"
    },
    "papermill": {
     "duration": 0.571444,
     "end_time": "2021-07-13T07:48:54.001153",
     "exception": false,
     "start_time": "2021-07-13T07:48:53.429709",
     "status": "completed"
    },
    "tags": []
   },
   "outputs": [
    {
     "data": {
      "text/html": [
       "<div>\n",
       "<style scoped>\n",
       "    .dataframe tbody tr th:only-of-type {\n",
       "        vertical-align: middle;\n",
       "    }\n",
       "\n",
       "    .dataframe tbody tr th {\n",
       "        vertical-align: top;\n",
       "    }\n",
       "\n",
       "    .dataframe thead th {\n",
       "        text-align: right;\n",
       "    }\n",
       "</style>\n",
       "<table border=\"1\" class=\"dataframe\">\n",
       "  <thead>\n",
       "    <tr style=\"text-align: right;\">\n",
       "      <th></th>\n",
       "      <th>Id</th>\n",
       "      <th>SalePrice</th>\n",
       "    </tr>\n",
       "  </thead>\n",
       "  <tbody>\n",
       "    <tr>\n",
       "      <th>1439</th>\n",
       "      <td>2900</td>\n",
       "      <td>149518.890625</td>\n",
       "    </tr>\n",
       "    <tr>\n",
       "      <th>1440</th>\n",
       "      <td>2901</td>\n",
       "      <td>207772.296875</td>\n",
       "    </tr>\n",
       "    <tr>\n",
       "      <th>1441</th>\n",
       "      <td>2902</td>\n",
       "      <td>196904.453125</td>\n",
       "    </tr>\n",
       "    <tr>\n",
       "      <th>1442</th>\n",
       "      <td>2903</td>\n",
       "      <td>314386.812500</td>\n",
       "    </tr>\n",
       "    <tr>\n",
       "      <th>1443</th>\n",
       "      <td>2904</td>\n",
       "      <td>337217.218750</td>\n",
       "    </tr>\n",
       "    <tr>\n",
       "      <th>1444</th>\n",
       "      <td>2905</td>\n",
       "      <td>59780.421875</td>\n",
       "    </tr>\n",
       "    <tr>\n",
       "      <th>1445</th>\n",
       "      <td>2906</td>\n",
       "      <td>200553.781250</td>\n",
       "    </tr>\n",
       "    <tr>\n",
       "      <th>1446</th>\n",
       "      <td>2907</td>\n",
       "      <td>104973.351562</td>\n",
       "    </tr>\n",
       "    <tr>\n",
       "      <th>1447</th>\n",
       "      <td>2908</td>\n",
       "      <td>112313.898438</td>\n",
       "    </tr>\n",
       "    <tr>\n",
       "      <th>1448</th>\n",
       "      <td>2909</td>\n",
       "      <td>142368.515625</td>\n",
       "    </tr>\n",
       "    <tr>\n",
       "      <th>1449</th>\n",
       "      <td>2910</td>\n",
       "      <td>68577.914062</td>\n",
       "    </tr>\n",
       "    <tr>\n",
       "      <th>1450</th>\n",
       "      <td>2911</td>\n",
       "      <td>74733.773438</td>\n",
       "    </tr>\n",
       "    <tr>\n",
       "      <th>1451</th>\n",
       "      <td>2912</td>\n",
       "      <td>144844.109375</td>\n",
       "    </tr>\n",
       "    <tr>\n",
       "      <th>1452</th>\n",
       "      <td>2913</td>\n",
       "      <td>73669.890625</td>\n",
       "    </tr>\n",
       "    <tr>\n",
       "      <th>1453</th>\n",
       "      <td>2914</td>\n",
       "      <td>67320.585938</td>\n",
       "    </tr>\n",
       "    <tr>\n",
       "      <th>1454</th>\n",
       "      <td>2915</td>\n",
       "      <td>67087.351562</td>\n",
       "    </tr>\n",
       "    <tr>\n",
       "      <th>1455</th>\n",
       "      <td>2916</td>\n",
       "      <td>72234.601562</td>\n",
       "    </tr>\n",
       "    <tr>\n",
       "      <th>1456</th>\n",
       "      <td>2917</td>\n",
       "      <td>163667.203125</td>\n",
       "    </tr>\n",
       "    <tr>\n",
       "      <th>1457</th>\n",
       "      <td>2918</td>\n",
       "      <td>110860.875000</td>\n",
       "    </tr>\n",
       "    <tr>\n",
       "      <th>1458</th>\n",
       "      <td>2919</td>\n",
       "      <td>186977.046875</td>\n",
       "    </tr>\n",
       "  </tbody>\n",
       "</table>\n",
       "</div>"
      ],
      "text/plain": [
       "        Id      SalePrice\n",
       "1439  2900  149518.890625\n",
       "1440  2901  207772.296875\n",
       "1441  2902  196904.453125\n",
       "1442  2903  314386.812500\n",
       "1443  2904  337217.218750\n",
       "1444  2905   59780.421875\n",
       "1445  2906  200553.781250\n",
       "1446  2907  104973.351562\n",
       "1447  2908  112313.898438\n",
       "1448  2909  142368.515625\n",
       "1449  2910   68577.914062\n",
       "1450  2911   74733.773438\n",
       "1451  2912  144844.109375\n",
       "1452  2913   73669.890625\n",
       "1453  2914   67320.585938\n",
       "1454  2915   67087.351562\n",
       "1455  2916   72234.601562\n",
       "1456  2917  163667.203125\n",
       "1457  2918  110860.875000\n",
       "1458  2919  186977.046875"
      ]
     },
     "execution_count": 68,
     "metadata": {},
     "output_type": "execute_result"
    }
   ],
   "source": [
    "submission.tail(20)"
   ]
  },
  {
   "cell_type": "code",
   "execution_count": 69,
   "id": "f89a081d",
   "metadata": {
    "execution": {
     "iopub.execute_input": "2021-07-13T07:48:55.122550Z",
     "iopub.status.busy": "2021-07-13T07:48:55.121898Z",
     "iopub.status.idle": "2021-07-13T07:48:55.127829Z",
     "shell.execute_reply": "2021-07-13T07:48:55.127149Z",
     "shell.execute_reply.started": "2021-07-13T07:47:19.909041Z"
    },
    "papermill": {
     "duration": 0.565838,
     "end_time": "2021-07-13T07:48:55.127971",
     "exception": false,
     "start_time": "2021-07-13T07:48:54.562133",
     "status": "completed"
    },
    "tags": []
   },
   "outputs": [],
   "source": [
    "submission = submission.fillna(value=submission['SalePrice'].mean())"
   ]
  },
  {
   "cell_type": "markdown",
   "id": "62a851a0",
   "metadata": {
    "papermill": {
     "duration": 0.558179,
     "end_time": "2021-07-13T07:48:56.246141",
     "exception": false,
     "start_time": "2021-07-13T07:48:55.687962",
     "status": "completed"
    },
    "tags": []
   },
   "source": [
    "**Save Submission File**"
   ]
  },
  {
   "cell_type": "code",
   "execution_count": 70,
   "id": "37c9721d",
   "metadata": {
    "execution": {
     "iopub.execute_input": "2021-07-13T07:48:57.368039Z",
     "iopub.status.busy": "2021-07-13T07:48:57.367387Z",
     "iopub.status.idle": "2021-07-13T07:48:57.379700Z",
     "shell.execute_reply": "2021-07-13T07:48:57.380302Z",
     "shell.execute_reply.started": "2021-07-13T07:47:30.838146Z"
    },
    "papermill": {
     "duration": 0.575111,
     "end_time": "2021-07-13T07:48:57.380497",
     "exception": false,
     "start_time": "2021-07-13T07:48:56.805386",
     "status": "completed"
    },
    "tags": []
   },
   "outputs": [],
   "source": [
    "submission.to_csv('HPPredictSubmission.csv', index=False)"
   ]
  }
 ],
 "metadata": {
  "kernelspec": {
   "display_name": "Python 3",
   "language": "python",
   "name": "python3"
  },
  "language_info": {
   "codemirror_mode": {
    "name": "ipython",
    "version": 3
   },
   "file_extension": ".py",
   "mimetype": "text/x-python",
   "name": "python",
   "nbconvert_exporter": "python",
   "pygments_lexer": "ipython3",
   "version": "3.7.10"
  },
  "papermill": {
   "default_parameters": {},
   "duration": 75.181682,
   "end_time": "2021-07-13T07:49:00.359877",
   "environment_variables": {},
   "exception": null,
   "input_path": "__notebook__.ipynb",
   "output_path": "__notebook__.ipynb",
   "parameters": {},
   "start_time": "2021-07-13T07:47:45.178195",
   "version": "2.3.3"
  }
 },
 "nbformat": 4,
 "nbformat_minor": 5
}
