{
 "cells": [
  {
   "cell_type": "code",
   "execution_count": 33,
   "id": "e74a931f",
   "metadata": {},
   "outputs": [],
   "source": [
    "import pandas as pd\n",
    "import numpy as np\n",
    "import seaborn as sns\n",
    "import matplotlib.pyplot as plt\n",
    "from datetime import datetime"
   ]
  },
  {
   "cell_type": "code",
   "execution_count": 34,
   "id": "22d7f513",
   "metadata": {},
   "outputs": [],
   "source": [
    "df = pd.read_csv(\"/Users/unun/Desktop/Sony Project/End of Year Albums 2016-2020.csv\")"
   ]
  },
  {
   "cell_type": "code",
   "execution_count": 91,
   "id": "10814893",
   "metadata": {},
   "outputs": [
    {
     "data": {
      "text/html": [
       "<div>\n",
       "<style scoped>\n",
       "    .dataframe tbody tr th:only-of-type {\n",
       "        vertical-align: middle;\n",
       "    }\n",
       "\n",
       "    .dataframe tbody tr th {\n",
       "        vertical-align: top;\n",
       "    }\n",
       "\n",
       "    .dataframe thead th {\n",
       "        text-align: right;\n",
       "    }\n",
       "</style>\n",
       "<table border=\"1\" class=\"dataframe\">\n",
       "  <thead>\n",
       "    <tr style=\"text-align: right;\">\n",
       "      <th></th>\n",
       "      <th>TitleArtist1</th>\n",
       "      <th>TitleArtist3</th>\n",
       "      <th>TitleArtist4</th>\n",
       "      <th>Year</th>\n",
       "      <th>Rank</th>\n",
       "      <th>in_sony</th>\n",
       "      <th>in_warner</th>\n",
       "    </tr>\n",
       "  </thead>\n",
       "  <tbody>\n",
       "    <tr>\n",
       "      <th>0</th>\n",
       "      <td>ELLIPSIS</td>\n",
       "      <td>BIFFY CLYRO</td>\n",
       "      <td>14TH FLOOR</td>\n",
       "      <td>2016</td>\n",
       "      <td>59</td>\n",
       "      <td>NO</td>\n",
       "      <td>NO</td>\n",
       "    </tr>\n",
       "    <tr>\n",
       "      <th>283</th>\n",
       "      <td>1000 FORMS OF FEAR</td>\n",
       "      <td>SIA</td>\n",
       "      <td>MONKEY PUZZLE/RCA</td>\n",
       "      <td>2016</td>\n",
       "      <td>89</td>\n",
       "      <td>NO</td>\n",
       "      <td>NO</td>\n",
       "    </tr>\n",
       "    <tr>\n",
       "      <th>286</th>\n",
       "      <td>BEST OF BOWIE</td>\n",
       "      <td>DAVID BOWIE</td>\n",
       "      <td>PARLOPHONE</td>\n",
       "      <td>2016</td>\n",
       "      <td>10</td>\n",
       "      <td>NO</td>\n",
       "      <td>NO</td>\n",
       "    </tr>\n",
       "    <tr>\n",
       "      <th>287</th>\n",
       "      <td>A HEAD FULL OF DREAMS</td>\n",
       "      <td>COLDPLAY</td>\n",
       "      <td>PARLOPHONE</td>\n",
       "      <td>2016</td>\n",
       "      <td>2</td>\n",
       "      <td>NO</td>\n",
       "      <td>NO</td>\n",
       "    </tr>\n",
       "    <tr>\n",
       "      <th>288</th>\n",
       "      <td>LEGACY</td>\n",
       "      <td>DAVID BOWIE</td>\n",
       "      <td>PARLOPHONE</td>\n",
       "      <td>2016</td>\n",
       "      <td>60</td>\n",
       "      <td>NO</td>\n",
       "      <td>NO</td>\n",
       "    </tr>\n",
       "    <tr>\n",
       "      <th>...</th>\n",
       "      <td>...</td>\n",
       "      <td>...</td>\n",
       "      <td>...</td>\n",
       "      <td>...</td>\n",
       "      <td>...</td>\n",
       "      <td>...</td>\n",
       "      <td>...</td>\n",
       "    </tr>\n",
       "    <tr>\n",
       "      <th>235</th>\n",
       "      <td>MUSIC TO BE MURDERED BY</td>\n",
       "      <td>EMINEM</td>\n",
       "      <td>INTERSCOPE</td>\n",
       "      <td>2020</td>\n",
       "      <td>11</td>\n",
       "      <td>NO</td>\n",
       "      <td>NO</td>\n",
       "    </tr>\n",
       "    <tr>\n",
       "      <th>368</th>\n",
       "      <td>CHRISTMAS</td>\n",
       "      <td>MICHAEL BUBLE</td>\n",
       "      <td>REPRISE</td>\n",
       "      <td>2020</td>\n",
       "      <td>57</td>\n",
       "      <td>NO</td>\n",
       "      <td>NO</td>\n",
       "    </tr>\n",
       "    <tr>\n",
       "      <th>369</th>\n",
       "      <td>GREATEST HITS - GOD'S FAVORITE BAND</td>\n",
       "      <td>GREEN DAY</td>\n",
       "      <td>REPRISE</td>\n",
       "      <td>2020</td>\n",
       "      <td>85</td>\n",
       "      <td>NO</td>\n",
       "      <td>NO</td>\n",
       "    </tr>\n",
       "    <tr>\n",
       "      <th>354</th>\n",
       "      <td>CONFETTI</td>\n",
       "      <td>LITTLE MIX</td>\n",
       "      <td>RCA</td>\n",
       "      <td>2020</td>\n",
       "      <td>29</td>\n",
       "      <td>NO</td>\n",
       "      <td>NO</td>\n",
       "    </tr>\n",
       "    <tr>\n",
       "      <th>385</th>\n",
       "      <td>POSITIONS</td>\n",
       "      <td>ARIANA GRANDE</td>\n",
       "      <td>REPUBLIC RECORDS</td>\n",
       "      <td>2020</td>\n",
       "      <td>58</td>\n",
       "      <td>NO</td>\n",
       "      <td>NO</td>\n",
       "    </tr>\n",
       "  </tbody>\n",
       "</table>\n",
       "<p>500 rows × 7 columns</p>\n",
       "</div>"
      ],
      "text/plain": [
       "                            TitleArtist1   TitleArtist3       TitleArtist4  \\\n",
       "0                               ELLIPSIS    BIFFY CLYRO         14TH FLOOR   \n",
       "283                   1000 FORMS OF FEAR            SIA  MONKEY PUZZLE/RCA   \n",
       "286                        BEST OF BOWIE    DAVID BOWIE         PARLOPHONE   \n",
       "287                A HEAD FULL OF DREAMS       COLDPLAY         PARLOPHONE   \n",
       "288                               LEGACY    DAVID BOWIE         PARLOPHONE   \n",
       "..                                   ...            ...                ...   \n",
       "235              MUSIC TO BE MURDERED BY         EMINEM         INTERSCOPE   \n",
       "368                            CHRISTMAS  MICHAEL BUBLE            REPRISE   \n",
       "369  GREATEST HITS - GOD'S FAVORITE BAND      GREEN DAY            REPRISE   \n",
       "354                             CONFETTI     LITTLE MIX                RCA   \n",
       "385                            POSITIONS  ARIANA GRANDE   REPUBLIC RECORDS   \n",
       "\n",
       "     Year  Rank in_sony in_warner  \n",
       "0    2016    59      NO        NO  \n",
       "283  2016    89      NO        NO  \n",
       "286  2016    10      NO        NO  \n",
       "287  2016     2      NO        NO  \n",
       "288  2016    60      NO        NO  \n",
       "..    ...   ...     ...       ...  \n",
       "235  2020    11      NO        NO  \n",
       "368  2020    57      NO        NO  \n",
       "369  2020    85      NO        NO  \n",
       "354  2020    29      NO        NO  \n",
       "385  2020    58      NO        NO  \n",
       "\n",
       "[500 rows x 7 columns]"
      ]
     },
     "execution_count": 91,
     "metadata": {},
     "output_type": "execute_result"
    }
   ],
   "source": [
    "df"
   ]
  },
  {
   "cell_type": "code",
   "execution_count": 73,
   "id": "b0af25de",
   "metadata": {},
   "outputs": [
    {
     "data": {
      "text/plain": [
       "TitleArtist1    object\n",
       "TitleArtist3    object\n",
       "TitleArtist4    object\n",
       "Year             int64\n",
       "Rank             int64\n",
       "dtype: object"
      ]
     },
     "execution_count": 73,
     "metadata": {},
     "output_type": "execute_result"
    }
   ],
   "source": [
    "df.dtypes"
   ]
  },
  {
   "cell_type": "code",
   "execution_count": 37,
   "id": "25863dfe",
   "metadata": {},
   "outputs": [],
   "source": [
    "df['Pos'] = df['Pos'].astype('str')"
   ]
  },
  {
   "cell_type": "code",
   "execution_count": 38,
   "id": "891c1d5f",
   "metadata": {},
   "outputs": [],
   "source": [
    "df['Pos_new'] = df['Pos'].str.split('-')"
   ]
  },
  {
   "cell_type": "code",
   "execution_count": 46,
   "id": "c5373650",
   "metadata": {},
   "outputs": [],
   "source": [
    "df['Pos_new_no'] = df['Pos'][-3:-1]"
   ]
  },
  {
   "cell_type": "code",
   "execution_count": 68,
   "id": "fd212815",
   "metadata": {},
   "outputs": [],
   "source": [
    "df.drop('Pos', axis=1, inplace=True)\n",
    "df.drop('Pos_new', axis=1, inplace=True)\n",
    "df.drop('Pos_new_no', axis=1, inplace=True)"
   ]
  },
  {
   "cell_type": "code",
   "execution_count": null,
   "id": "8bf5ead5",
   "metadata": {},
   "outputs": [],
   "source": [
    "#Split Year and ranking"
   ]
  },
  {
   "cell_type": "code",
   "execution_count": 54,
   "id": "856b9fa5",
   "metadata": {},
   "outputs": [],
   "source": [
    "my_Pos = df['Pos']"
   ]
  },
  {
   "cell_type": "code",
   "execution_count": 55,
   "id": "0838b27e",
   "metadata": {},
   "outputs": [],
   "source": [
    "my_Pos = list(map(lambda x: x.split('-')[0], my_Pos))"
   ]
  },
  {
   "cell_type": "code",
   "execution_count": 62,
   "id": "dabb92ea",
   "metadata": {},
   "outputs": [],
   "source": [
    "df['Year'] = my_Pos"
   ]
  },
  {
   "cell_type": "code",
   "execution_count": 63,
   "id": "9a6c5263",
   "metadata": {},
   "outputs": [],
   "source": [
    "my_rank = df['Pos']"
   ]
  },
  {
   "cell_type": "code",
   "execution_count": 64,
   "id": "61deb180",
   "metadata": {},
   "outputs": [],
   "source": [
    "my_rank = list(map(lambda x: x.split('-')[1], my_rank))"
   ]
  },
  {
   "cell_type": "code",
   "execution_count": 66,
   "id": "80a20591",
   "metadata": {},
   "outputs": [],
   "source": [
    "df['Rank'] = my_rank"
   ]
  },
  {
   "cell_type": "code",
   "execution_count": 72,
   "id": "5bc09adc",
   "metadata": {},
   "outputs": [],
   "source": [
    "df['Year'] = pd.to_numeric(df['Year'])\n",
    "df['Rank'] = pd.to_numeric(df['Rank'])\n",
    "df['TitleArtist1'] = df['TitleArtist1'].astype(str)\n",
    "df['TitleArtist3'] = df['TitleArtist3'].astype(str)\n",
    "df['TitleArtist4'] = df['TitleArtist4'].astype(str)"
   ]
  },
  {
   "cell_type": "code",
   "execution_count": 76,
   "id": "cf0e18df",
   "metadata": {},
   "outputs": [],
   "source": [
    "df.sort_values('Year', inplace=True)"
   ]
  },
  {
   "cell_type": "code",
   "execution_count": 83,
   "id": "e823a70b",
   "metadata": {},
   "outputs": [
    {
     "data": {
      "text/plain": [
       "POLYDOR                   32\n",
       "INTERSCOPE                29\n",
       "ISLAND                    22\n",
       "EMI                       22\n",
       "COLUMBIA                  21\n",
       "                          ..\n",
       "YOUNG TURKS RECORDINGS     1\n",
       "FISH PEOPLE                1\n",
       "HELIUM 3/WARNER BROS       1\n",
       "14TH FLOOR                 1\n",
       "COLUMBIA/ITNO              1\n",
       "Name: TitleArtist4, Length: 91, dtype: int64"
      ]
     },
     "execution_count": 83,
     "metadata": {},
     "output_type": "execute_result"
    }
   ],
   "source": [
    "df['TitleArtist4'].value_counts()"
   ]
  },
  {
   "cell_type": "code",
   "execution_count": 117,
   "id": "ac6e34bc",
   "metadata": {},
   "outputs": [],
   "source": [
    "df['in_sony']= df['TitleArtist4'].apply(lambda x: 'YES' if (x == 'ARISTA' or x == \"BLACK BUTTER\" or x == \"BMG\" or x == \"COLUMBIA\" or x == \"DISRUPTOR\" or x == \"EPIC\" or x == \"MINISTRY OF SOUND\" or x == \"RCA\" or x == \"RELENTLESS\" or x == \"SONY MUSIC C6\" or x == \"SYCO MUSIC\") else 'NO') "
   ]
  },
  {
   "cell_type": "code",
   "execution_count": 120,
   "id": "5f3deee9",
   "metadata": {},
   "outputs": [],
   "source": [
    "df['in_warner']= df['TitleArtist4'].apply(lambda x: 'YES' if (x == \"14TH FLOOR\" or x == \"AJ TRACEY\" or x == \"ASYLM\" or x == \"ATLANTIC\" or x == \"EAST WEST\" or x == \"INTERSCOPE\" or x == \"MERKY\" or x == \"PARLOPHONE\" or x == \"REPRISE\" or x == \"RHINO\" or x == \"WARNER BROS\" or x == \"WARNER RECORDS\") else 'NO') "
   ]
  },
  {
   "cell_type": "code",
   "execution_count": 121,
   "id": "0a45590d",
   "metadata": {},
   "outputs": [],
   "source": [
    "df['in_universal']= df['TitleArtist4'].apply(lambda x: 'YES' if (x == 'APPLE CORPS' or x == 'CAPITOL' or x == 'CASH MONEY' or x == 'DECCA' or x == 'DEF JAM' or x == 'ISLAND' or x == 'MERCURY' or x == 'POLYDOR' or x == 'REPUBLIC' or x == 'REPUBLIC RECORDS' or x == 'UMG') else 'NO') "
   ]
  },
  {
   "cell_type": "code",
   "execution_count": 118,
   "id": "fe7b7f65",
   "metadata": {},
   "outputs": [
    {
     "data": {
      "text/plain": [
       "NO     416\n",
       "YES     84\n",
       "Name: in_sony, dtype: int64"
      ]
     },
     "execution_count": 118,
     "metadata": {},
     "output_type": "execute_result"
    }
   ],
   "source": [
    "df['in_sony'].value_counts()"
   ]
  },
  {
   "cell_type": "code",
   "execution_count": 122,
   "id": "b5e64722",
   "metadata": {},
   "outputs": [
    {
     "data": {
      "text/plain": [
       "NO     390\n",
       "YES    110\n",
       "Name: in_warner, dtype: int64"
      ]
     },
     "execution_count": 122,
     "metadata": {},
     "output_type": "execute_result"
    }
   ],
   "source": [
    "df['in_warner'].value_counts()"
   ]
  },
  {
   "cell_type": "code",
   "execution_count": 123,
   "id": "cd97f6ea",
   "metadata": {},
   "outputs": [
    {
     "data": {
      "text/plain": [
       "NO     391\n",
       "YES    109\n",
       "Name: in_universal, dtype: int64"
      ]
     },
     "execution_count": 123,
     "metadata": {},
     "output_type": "execute_result"
    }
   ],
   "source": [
    "df['in_universal'].value_counts()"
   ]
  },
  {
   "cell_type": "code",
   "execution_count": 131,
   "id": "5b2db982",
   "metadata": {},
   "outputs": [
    {
     "data": {
      "text/plain": [
       "303"
      ]
     },
     "execution_count": 131,
     "metadata": {},
     "output_type": "execute_result"
    }
   ],
   "source": [
    "num_in_top3 = df['in_universal'].value_counts()['YES'] + df['in_sony'].value_counts()['YES'] + df['in_warner'].value_counts()['YES']\n",
    "num_in_top3"
   ]
  },
  {
   "cell_type": "code",
   "execution_count": 134,
   "id": "591edbf3",
   "metadata": {},
   "outputs": [
    {
     "data": {
      "text/plain": [
       "60.6"
      ]
     },
     "execution_count": 134,
     "metadata": {},
     "output_type": "execute_result"
    }
   ],
   "source": [
    "#% owned by top3 since 2016-2020\n",
    "(num_in_top3/df['TitleArtist4'].count())*100"
   ]
  },
  {
   "cell_type": "code",
   "execution_count": 136,
   "id": "42ec9d6c",
   "metadata": {},
   "outputs": [
    {
     "data": {
      "text/plain": [
       "Year  in_sony\n",
       "2016  NO         87\n",
       "      YES        13\n",
       "2017  NO         79\n",
       "      YES        21\n",
       "2018  NO         84\n",
       "      YES        16\n",
       "2019  NO         81\n",
       "      YES        19\n",
       "2020  NO         85\n",
       "      YES        15\n",
       "Name: in_sony, dtype: int64"
      ]
     },
     "execution_count": 136,
     "metadata": {},
     "output_type": "execute_result"
    }
   ],
   "source": [
    "df['in_sony'].groupby(df['Year']).value_counts()"
   ]
  },
  {
   "cell_type": "code",
   "execution_count": 151,
   "id": "a7971a90",
   "metadata": {},
   "outputs": [
    {
     "data": {
      "text/plain": [
       "<AxesSubplot:xlabel='in_sony', ylabel='count'>"
      ]
     },
     "execution_count": 151,
     "metadata": {},
     "output_type": "execute_result"
    },
    {
     "data": {
      "image/png": "[encoded data removed]",
      "text/plain": [
       "<Figure size 432x288 with 1 Axes>"
      ]
     },
     "metadata": {
      "needs_background": "light"
     },
     "output_type": "display_data"
    }
   ],
   "source": [
    "sns.countplot(x='in_sony', hue='Year', data=df, palette='Paired')"
   ]
  },
  {
   "cell_type": "code",
   "execution_count": 137,
   "id": "ea764e3d",
   "metadata": {},
   "outputs": [
    {
     "data": {
      "text/plain": [
       "Year  in_warner\n",
       "2016  NO           79\n",
       "      YES          21\n",
       "2017  NO           79\n",
       "      YES          21\n",
       "2018  NO           74\n",
       "      YES          26\n",
       "2019  NO           78\n",
       "      YES          22\n",
       "2020  NO           80\n",
       "      YES          20\n",
       "Name: in_warner, dtype: int64"
      ]
     },
     "execution_count": 137,
     "metadata": {},
     "output_type": "execute_result"
    }
   ],
   "source": [
    "df['in_warner'].groupby(df['Year']).value_counts()"
   ]
  },
  {
   "cell_type": "code",
   "execution_count": 147,
   "id": "1c83dfef",
   "metadata": {},
   "outputs": [
    {
     "data": {
      "text/plain": [
       "<AxesSubplot:xlabel='in_warner', ylabel='count'>"
      ]
     },
     "execution_count": 147,
     "metadata": {},
     "output_type": "execute_result"
    },
    {
     "data": {
      "image/png": "[encoded data removed]",
      "text/plain": [
       "<Figure size 432x288 with 1 Axes>"
      ]
     },
     "metadata": {
      "needs_background": "light"
     },
     "output_type": "display_data"
    }
   ],
   "source": [
    "sns.countplot(x='in_warner', hue='Year', data=df, palette='Paired')"
   ]
  },
  {
   "cell_type": "code",
   "execution_count": 138,
   "id": "fecc0add",
   "metadata": {},
   "outputs": [
    {
     "data": {
      "text/plain": [
       "Year  in_universal\n",
       "2016  NO              81\n",
       "      YES             19\n",
       "2017  NO              79\n",
       "      YES             21\n",
       "2018  NO              83\n",
       "      YES             17\n",
       "2019  NO              76\n",
       "      YES             24\n",
       "2020  NO              72\n",
       "      YES             28\n",
       "Name: in_universal, dtype: int64"
      ]
     },
     "execution_count": 138,
     "metadata": {},
     "output_type": "execute_result"
    }
   ],
   "source": [
    "df['in_universal'].groupby(df['Year']).value_counts()"
   ]
  },
  {
   "cell_type": "code",
   "execution_count": 148,
   "id": "961b25ce",
   "metadata": {},
   "outputs": [
    {
     "data": {
      "text/plain": [
       "<AxesSubplot:xlabel='in_universal', ylabel='count'>"
      ]
     },
     "execution_count": 148,
     "metadata": {},
     "output_type": "execute_result"
    },
    {
     "data": {
      "image/png": "[encoded data removed]",
      "text/plain": [
       "<Figure size 432x288 with 1 Axes>"
      ]
     },
     "metadata": {
      "needs_background": "light"
     },
     "output_type": "display_data"
    }
   ],
   "source": [
    "sns.countplot(x='in_universal', hue='Year', data=df, palette='Paired')"
   ]
  },
  {
   "cell_type": "code",
   "execution_count": 160,
   "id": "96d2b1ce",
   "metadata": {},
   "outputs": [],
   "source": [
    "artist_df = df['TitleArtist3'].groupby(df['Year']).value_counts()"
   ]
  },
  {
   "cell_type": "code",
   "execution_count": 171,
   "id": "449f49c7",
   "metadata": {},
   "outputs": [],
   "source": [
    "artists_df = pd.DataFrame(artist_df)"
   ]
  },
  {
   "cell_type": "code",
   "execution_count": 172,
   "id": "47e1f4f8",
   "metadata": {},
   "outputs": [
    {
     "data": {
      "text/html": [
       "<div>\n",
       "<style scoped>\n",
       "    .dataframe tbody tr th:only-of-type {\n",
       "        vertical-align: middle;\n",
       "    }\n",
       "\n",
       "    .dataframe tbody tr th {\n",
       "        vertical-align: top;\n",
       "    }\n",
       "\n",
       "    .dataframe thead th {\n",
       "        text-align: right;\n",
       "    }\n",
       "</style>\n",
       "<table border=\"1\" class=\"dataframe\">\n",
       "  <thead>\n",
       "    <tr style=\"text-align: right;\">\n",
       "      <th></th>\n",
       "      <th></th>\n",
       "      <th>TitleArtist3</th>\n",
       "    </tr>\n",
       "    <tr>\n",
       "      <th>Year</th>\n",
       "      <th>TitleArtist3</th>\n",
       "      <th></th>\n",
       "    </tr>\n",
       "  </thead>\n",
       "  <tbody>\n",
       "    <tr>\n",
       "      <th rowspan=\"5\" valign=\"top\">2016</th>\n",
       "      <th>DAVID BOWIE</th>\n",
       "      <td>6</td>\n",
       "    </tr>\n",
       "    <tr>\n",
       "      <th>1975</th>\n",
       "      <td>2</td>\n",
       "    </tr>\n",
       "    <tr>\n",
       "      <th>ADELE</th>\n",
       "      <td>2</td>\n",
       "    </tr>\n",
       "    <tr>\n",
       "      <th>CATFISH &amp; THE BOTTLEMEN</th>\n",
       "      <td>2</td>\n",
       "    </tr>\n",
       "    <tr>\n",
       "      <th>ELVIS PRESLEY</th>\n",
       "      <td>2</td>\n",
       "    </tr>\n",
       "    <tr>\n",
       "      <th>...</th>\n",
       "      <th>...</th>\n",
       "      <td>...</td>\n",
       "    </tr>\n",
       "    <tr>\n",
       "      <th rowspan=\"5\" valign=\"top\">2020</th>\n",
       "      <th>TOM WALKER</th>\n",
       "      <td>1</td>\n",
       "    </tr>\n",
       "    <tr>\n",
       "      <th>TRAVIS SCOTT</th>\n",
       "      <td>1</td>\n",
       "    </tr>\n",
       "    <tr>\n",
       "      <th>WEEKND</th>\n",
       "      <td>1</td>\n",
       "    </tr>\n",
       "    <tr>\n",
       "      <th>WHITNEY HOUSTON</th>\n",
       "      <td>1</td>\n",
       "    </tr>\n",
       "    <tr>\n",
       "      <th>XXXTENTACION</th>\n",
       "      <td>1</td>\n",
       "    </tr>\n",
       "  </tbody>\n",
       "</table>\n",
       "<p>390 rows × 1 columns</p>\n",
       "</div>"
      ],
      "text/plain": [
       "                              TitleArtist3\n",
       "Year TitleArtist3                         \n",
       "2016 DAVID BOWIE                         6\n",
       "     1975                                2\n",
       "     ADELE                               2\n",
       "     CATFISH & THE BOTTLEMEN             2\n",
       "     ELVIS PRESLEY                       2\n",
       "...                                    ...\n",
       "2020 TOM WALKER                          1\n",
       "     TRAVIS SCOTT                        1\n",
       "     WEEKND                              1\n",
       "     WHITNEY HOUSTON                     1\n",
       "     XXXTENTACION                        1\n",
       "\n",
       "[390 rows x 1 columns]"
      ]
     },
     "execution_count": 172,
     "metadata": {},
     "output_type": "execute_result"
    }
   ],
   "source": [
    "artists_df"
   ]
  },
  {
   "cell_type": "code",
   "execution_count": 173,
   "id": "650f3690",
   "metadata": {},
   "outputs": [
    {
     "data": {
      "text/plain": [
       "ED SHEERAN                       15\n",
       "MOTION PICTURE CAST RECORDING    12\n",
       "OASIS                            12\n",
       "EMINEM                           10\n",
       "QUEEN                            10\n",
       "DAVID BOWIE                      10\n",
       "FLEETWOOD MAC                    10\n",
       "ARCTIC MONKEYS                    9\n",
       "ARIANA GRANDE                     9\n",
       "LITTLE MIX                        9\n",
       "POST MALONE                       8\n",
       "JESS GLYNNE                       8\n",
       "DRAKE                             8\n",
       "SAM SMITH                         8\n",
       "TAYLOR SWIFT                      7\n",
       "BEATLES                           7\n",
       "ADELE                             7\n",
       "MICHAEL BUBLE                     7\n",
       "GEORGE MICHAEL                    6\n",
       "AMY WINEHOUSE                     5\n",
       "Name: TitleArtist3, dtype: int64"
      ]
     },
     "execution_count": 173,
     "metadata": {},
     "output_type": "execute_result"
    }
   ],
   "source": [
    "df['TitleArtist3'].value_counts().head(20)"
   ]
  },
  {
   "cell_type": "code",
   "execution_count": null,
   "id": "b51ca843",
   "metadata": {},
   "outputs": [],
   "source": []
  }
 ],
 "metadata": {
  "kernelspec": {
   "display_name": "Python 3",
   "language": "python",
   "name": "python3"
  },
  "language_info": {
   "codemirror_mode": {
    "name": "ipython",
    "version": 3
   },
   "file_extension": ".py",
   "mimetype": "text/x-python",
   "name": "python",
   "nbconvert_exporter": "python",
   "pygments_lexer": "ipython3",
   "version": "3.8.8"
  }
 },
 "nbformat": 4,
 "nbformat_minor": 5
}
