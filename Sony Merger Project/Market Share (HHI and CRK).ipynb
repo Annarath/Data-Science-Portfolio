{
 "cells": [
  {
   "cell_type": "code",
   "execution_count": 123,
   "id": "9d0ff5ee",
   "metadata": {},
   "outputs": [],
   "source": [
    "import pandas as pd\n",
    "import numpy as np\n",
    "import seaborn as sns\n",
    "import matplotlib.pyplot as plt\n",
    "%matplotlib inline\n",
    "sns.set_style('whitegrid')"
   ]
  },
  {
   "cell_type": "code",
   "execution_count": 2,
   "id": "4dd3d035",
   "metadata": {},
   "outputs": [],
   "source": [
    "df = pd.read_csv(\"/Users/unun/Desktop/Sony Project/UK revenue 2015-2020.csv\")"
   ]
  },
  {
   "cell_type": "code",
   "execution_count": 181,
   "id": "bed10a63",
   "metadata": {},
   "outputs": [
    {
     "data": {
      "text/html": [
       "<div>\n",
       "<style scoped>\n",
       "    .dataframe tbody tr th:only-of-type {\n",
       "        vertical-align: middle;\n",
       "    }\n",
       "\n",
       "    .dataframe tbody tr th {\n",
       "        vertical-align: top;\n",
       "    }\n",
       "\n",
       "    .dataframe thead th {\n",
       "        text-align: right;\n",
       "    }\n",
       "</style>\n",
       "<table border=\"1\" class=\"dataframe\">\n",
       "  <thead>\n",
       "    <tr style=\"text-align: right;\">\n",
       "      <th></th>\n",
       "      <th>2015</th>\n",
       "      <th>2016</th>\n",
       "      <th>2017</th>\n",
       "      <th>2018</th>\n",
       "      <th>2019</th>\n",
       "      <th>2020</th>\n",
       "    </tr>\n",
       "    <tr>\n",
       "      <th>Company</th>\n",
       "      <th></th>\n",
       "      <th></th>\n",
       "      <th></th>\n",
       "      <th></th>\n",
       "      <th></th>\n",
       "      <th></th>\n",
       "    </tr>\n",
       "  </thead>\n",
       "  <tbody>\n",
       "    <tr>\n",
       "      <th>Sony</th>\n",
       "      <td>166115000</td>\n",
       "      <td>1.393360e+08</td>\n",
       "      <td>1.519540e+08</td>\n",
       "      <td>1.654590e+08</td>\n",
       "      <td>1.728560e+08</td>\n",
       "      <td>1.812900e+08</td>\n",
       "    </tr>\n",
       "    <tr>\n",
       "      <th>Universal</th>\n",
       "      <td>220790000</td>\n",
       "      <td>2.389880e+08</td>\n",
       "      <td>2.421020e+08</td>\n",
       "      <td>2.683550e+08</td>\n",
       "      <td>2.800070e+08</td>\n",
       "      <td>3.015910e+08</td>\n",
       "    </tr>\n",
       "    <tr>\n",
       "      <th>Warner</th>\n",
       "      <td>131221000</td>\n",
       "      <td>1.409600e+08</td>\n",
       "      <td>1.773580e+08</td>\n",
       "      <td>1.973730e+08</td>\n",
       "      <td>1.760680e+08</td>\n",
       "      <td>1.350170e+08</td>\n",
       "    </tr>\n",
       "    <tr>\n",
       "      <th>Kobalt</th>\n",
       "      <td>31573000</td>\n",
       "      <td>3.339500e+07</td>\n",
       "      <td>4.589400e+07</td>\n",
       "      <td>5.258700e+07</td>\n",
       "      <td>6.543700e+07</td>\n",
       "      <td>7.524700e+07</td>\n",
       "    </tr>\n",
       "    <tr>\n",
       "      <th>Kobalt Publishing</th>\n",
       "      <td>19418000</td>\n",
       "      <td>2.282640e+08</td>\n",
       "      <td>2.604570e+08</td>\n",
       "      <td>3.167990e+08</td>\n",
       "      <td>4.052900e+08</td>\n",
       "      <td>4.361100e+07</td>\n",
       "    </tr>\n",
       "    <tr>\n",
       "      <th>AWAL</th>\n",
       "      <td>2942800</td>\n",
       "      <td>1.914300e+07</td>\n",
       "      <td>3.964000e+07</td>\n",
       "      <td>5.919400e+07</td>\n",
       "      <td>1.115030e+08</td>\n",
       "      <td>1.494620e+08</td>\n",
       "    </tr>\n",
       "    <tr>\n",
       "      <th>NB Rights</th>\n",
       "      <td>1797000</td>\n",
       "      <td>2.000000e+06</td>\n",
       "      <td>6.715000e+06</td>\n",
       "      <td>8.331000e+06</td>\n",
       "      <td>6.217000e+06</td>\n",
       "      <td>7.495000e+06</td>\n",
       "    </tr>\n",
       "    <tr>\n",
       "      <th>AMRA</th>\n",
       "      <td>967000</td>\n",
       "      <td>2.164800e+07</td>\n",
       "      <td>3.459000e+07</td>\n",
       "      <td>4.482900e+07</td>\n",
       "      <td>6.560000e+07</td>\n",
       "      <td>7.829400e+07</td>\n",
       "    </tr>\n",
       "    <tr>\n",
       "      <th>BMG Rights Management</th>\n",
       "      <td>17414000</td>\n",
       "      <td>3.350100e+07</td>\n",
       "      <td>6.955900e+07</td>\n",
       "      <td>8.742800e+07</td>\n",
       "      <td>6.626700e+07</td>\n",
       "      <td>4.653800e+07</td>\n",
       "    </tr>\n",
       "    <tr>\n",
       "      <th>Beggars UK</th>\n",
       "      <td>8278195</td>\n",
       "      <td>1.213438e+07</td>\n",
       "      <td>9.500669e+06</td>\n",
       "      <td>9.888950e+06</td>\n",
       "      <td>9.890777e+06</td>\n",
       "      <td>1.018574e+07</td>\n",
       "    </tr>\n",
       "    <tr>\n",
       "      <th>Beggars Sales</th>\n",
       "      <td>20467661</td>\n",
       "      <td>2.743960e+07</td>\n",
       "      <td>3.194400e+07</td>\n",
       "      <td>3.413045e+07</td>\n",
       "      <td>3.124324e+07</td>\n",
       "      <td>2.962678e+07</td>\n",
       "    </tr>\n",
       "    <tr>\n",
       "      <th>Beggars Mg</th>\n",
       "      <td>5583239</td>\n",
       "      <td>5.799122e+06</td>\n",
       "      <td>6.501469e+06</td>\n",
       "      <td>6.455282e+06</td>\n",
       "      <td>6.459476e+06</td>\n",
       "      <td>6.632198e+06</td>\n",
       "    </tr>\n",
       "    <tr>\n",
       "      <th>Total Industry</th>\n",
       "      <td>4100000000</td>\n",
       "      <td>4.400000e+09</td>\n",
       "      <td>4.500000e+09</td>\n",
       "      <td>5.200000e+09</td>\n",
       "      <td>5.800000e+09</td>\n",
       "      <td>3.100000e+09</td>\n",
       "    </tr>\n",
       "    <tr>\n",
       "      <th>Industry Total</th>\n",
       "      <td>990000000</td>\n",
       "      <td>7.590000e+08</td>\n",
       "      <td>8.395000e+08</td>\n",
       "      <td>9.970000e+08</td>\n",
       "      <td>1.077000e+09</td>\n",
       "      <td>1.118000e+09</td>\n",
       "    </tr>\n",
       "    <tr>\n",
       "      <th>Beggars</th>\n",
       "      <td>8278000</td>\n",
       "      <td>1.213400e+07</td>\n",
       "      <td>9.500000e+06</td>\n",
       "      <td>9.888000e+06</td>\n",
       "      <td>9.891000e+06</td>\n",
       "      <td>1.018600e+07</td>\n",
       "    </tr>\n",
       "    <tr>\n",
       "      <th>Domino</th>\n",
       "      <td>3094670</td>\n",
       "      <td>3.306390e+06</td>\n",
       "      <td>2.999670e+06</td>\n",
       "      <td>6.301950e+06</td>\n",
       "      <td>4.028000e+06</td>\n",
       "      <td>4.221000e+06</td>\n",
       "    </tr>\n",
       "    <tr>\n",
       "      <th>Ninja Tune</th>\n",
       "      <td>0</td>\n",
       "      <td>0.000000e+00</td>\n",
       "      <td>2.546200e+06</td>\n",
       "      <td>3.140160e+06</td>\n",
       "      <td>4.015130e+06</td>\n",
       "      <td>4.358400e+06</td>\n",
       "    </tr>\n",
       "    <tr>\n",
       "      <th>Other Firms</th>\n",
       "      <td>0</td>\n",
       "      <td>1.908802e+08</td>\n",
       "      <td>2.071455e+08</td>\n",
       "      <td>2.938949e+08</td>\n",
       "      <td>3.646981e+08</td>\n",
       "      <td>4.060899e+08</td>\n",
       "    </tr>\n",
       "    <tr>\n",
       "      <th>Sony MS</th>\n",
       "      <td>0</td>\n",
       "      <td>1.835784e+01</td>\n",
       "      <td>1.810054e+01</td>\n",
       "      <td>1.659569e+01</td>\n",
       "      <td>1.604977e+01</td>\n",
       "      <td>1.621556e+01</td>\n",
       "    </tr>\n",
       "  </tbody>\n",
       "</table>\n",
       "</div>"
      ],
      "text/plain": [
       "                             2015          2016          2017          2018  \\\n",
       "Company                                                                       \n",
       "Sony                    166115000  1.393360e+08  1.519540e+08  1.654590e+08   \n",
       "Universal               220790000  2.389880e+08  2.421020e+08  2.683550e+08   \n",
       "Warner                  131221000  1.409600e+08  1.773580e+08  1.973730e+08   \n",
       "Kobalt                   31573000  3.339500e+07  4.589400e+07  5.258700e+07   \n",
       "Kobalt Publishing        19418000  2.282640e+08  2.604570e+08  3.167990e+08   \n",
       "AWAL                      2942800  1.914300e+07  3.964000e+07  5.919400e+07   \n",
       "NB Rights                 1797000  2.000000e+06  6.715000e+06  8.331000e+06   \n",
       "AMRA                       967000  2.164800e+07  3.459000e+07  4.482900e+07   \n",
       "BMG Rights Management    17414000  3.350100e+07  6.955900e+07  8.742800e+07   \n",
       "Beggars UK                8278195  1.213438e+07  9.500669e+06  9.888950e+06   \n",
       "Beggars Sales            20467661  2.743960e+07  3.194400e+07  3.413045e+07   \n",
       "Beggars Mg                5583239  5.799122e+06  6.501469e+06  6.455282e+06   \n",
       "Total Industry         4100000000  4.400000e+09  4.500000e+09  5.200000e+09   \n",
       "Industry Total          990000000  7.590000e+08  8.395000e+08  9.970000e+08   \n",
       "Beggars                   8278000  1.213400e+07  9.500000e+06  9.888000e+06   \n",
       "Domino                    3094670  3.306390e+06  2.999670e+06  6.301950e+06   \n",
       "Ninja Tune                      0  0.000000e+00  2.546200e+06  3.140160e+06   \n",
       "Other Firms                     0  1.908802e+08  2.071455e+08  2.938949e+08   \n",
       "Sony MS                         0  1.835784e+01  1.810054e+01  1.659569e+01   \n",
       "\n",
       "                               2019          2020  \n",
       "Company                                            \n",
       "Sony                   1.728560e+08  1.812900e+08  \n",
       "Universal              2.800070e+08  3.015910e+08  \n",
       "Warner                 1.760680e+08  1.350170e+08  \n",
       "Kobalt                 6.543700e+07  7.524700e+07  \n",
       "Kobalt Publishing      4.052900e+08  4.361100e+07  \n",
       "AWAL                   1.115030e+08  1.494620e+08  \n",
       "NB Rights              6.217000e+06  7.495000e+06  \n",
       "AMRA                   6.560000e+07  7.829400e+07  \n",
       "BMG Rights Management  6.626700e+07  4.653800e+07  \n",
       "Beggars UK             9.890777e+06  1.018574e+07  \n",
       "Beggars Sales          3.124324e+07  2.962678e+07  \n",
       "Beggars Mg             6.459476e+06  6.632198e+06  \n",
       "Total Industry         5.800000e+09  3.100000e+09  \n",
       "Industry Total         1.077000e+09  1.118000e+09  \n",
       "Beggars                9.891000e+06  1.018600e+07  \n",
       "Domino                 4.028000e+06  4.221000e+06  \n",
       "Ninja Tune             4.015130e+06  4.358400e+06  \n",
       "Other Firms            3.646981e+08  4.060899e+08  \n",
       "Sony MS                1.604977e+01  1.621556e+01  "
      ]
     },
     "execution_count": 181,
     "metadata": {},
     "output_type": "execute_result"
    }
   ],
   "source": [
    "df.dropna(inplace=True)\n",
    "df"
   ]
  },
  {
   "cell_type": "code",
   "execution_count": 4,
   "id": "317e1ade",
   "metadata": {},
   "outputs": [],
   "source": [
    "df.rename(columns={ df.columns[0]: \"Companies\" }, inplace = True)"
   ]
  },
  {
   "cell_type": "code",
   "execution_count": 5,
   "id": "8b4825fc",
   "metadata": {},
   "outputs": [],
   "source": [
    "df['Company'] = ['Sony', 'Universal', 'Warner', 'Kobalt', 'Kobalt Publishing', 'AWAL', 'NB Rights', 'AMRA', 'BMG Rights Management', \n",
    "'Beggars UK', 'Beggars Sales', 'Beggars Mg', 'Total Industry']"
   ]
  },
  {
   "cell_type": "code",
   "execution_count": 6,
   "id": "ecab8099",
   "metadata": {},
   "outputs": [],
   "source": [
    "df.set_index('Company', inplace=True)"
   ]
  },
  {
   "cell_type": "code",
   "execution_count": 7,
   "id": "9cc82928",
   "metadata": {},
   "outputs": [],
   "source": [
    "df.drop('Companies', axis=1, inplace=True)"
   ]
  },
  {
   "cell_type": "code",
   "execution_count": null,
   "id": "dfed81e5",
   "metadata": {},
   "outputs": [],
   "source": [
    "#adjust dtypes"
   ]
  },
  {
   "cell_type": "code",
   "execution_count": 11,
   "id": "8746f751",
   "metadata": {},
   "outputs": [
    {
     "data": {
      "text/plain": [
       "(13, 6)"
      ]
     },
     "execution_count": 11,
     "metadata": {},
     "output_type": "execute_result"
    }
   ],
   "source": [
    "df.shape"
   ]
  },
  {
   "cell_type": "code",
   "execution_count": 12,
   "id": "0d72630b",
   "metadata": {},
   "outputs": [
    {
     "data": {
      "text/plain": [
       "2015    int64\n",
       "2016    int64\n",
       "2017    int64\n",
       "2018    int64\n",
       "2019    int64\n",
       "2020    int64\n",
       "dtype: object"
      ]
     },
     "execution_count": 12,
     "metadata": {},
     "output_type": "execute_result"
    }
   ],
   "source": [
    "df.dtypes"
   ]
  },
  {
   "cell_type": "code",
   "execution_count": 9,
   "id": "79763ddf",
   "metadata": {},
   "outputs": [],
   "source": [
    "df['2015'] = df['2015'].str.replace(',','')\n",
    "df['2016'] = df['2016'].str.replace(',','')\n",
    "df['2017'] = df['2017'].str.replace(',','')\n",
    "df['2018'] = df['2018'].str.replace(',','')\n",
    "df['2019'] = df['2019'].str.replace(',','')\n",
    "df['2020'] = df['2020'].str.replace(',','')"
   ]
  },
  {
   "cell_type": "code",
   "execution_count": 10,
   "id": "bd3dcf11",
   "metadata": {},
   "outputs": [],
   "source": [
    "df['2015'] = pd.to_numeric(df['2015'])\n",
    "df['2016'] = pd.to_numeric(df['2016'])\n",
    "df['2017'] = pd.to_numeric(df['2017'])\n",
    "df['2018'] = pd.to_numeric(df['2018'])\n",
    "df['2019'] = pd.to_numeric(df['2019'])\n",
    "df['2020'] = pd.to_numeric(df['2020'])"
   ]
  },
  {
   "cell_type": "code",
   "execution_count": null,
   "id": "fcf6f268",
   "metadata": {},
   "outputs": [],
   "source": [
    "#combine Kobalt as one and add in data for Beggars, Domino, and Ninja Tune"
   ]
  },
  {
   "cell_type": "code",
   "execution_count": 13,
   "id": "13adefb7",
   "metadata": {},
   "outputs": [],
   "source": [
    "df.loc['Industry Total'] = {'2015':990000000, '2016':759000000, '2017':839500000, '2018':997000000, '2019':1077000000, '2020':1118000000}"
   ]
  },
  {
   "cell_type": "code",
   "execution_count": 15,
   "id": "39060139",
   "metadata": {},
   "outputs": [],
   "source": [
    "df.loc['Domino'] = {'2015':3094670, '2016':3306390, '2017':2999670, '2018':6301950, '2019':4028000, '2020':4221000}\n",
    "df.loc['Ninja Tune'] = {'2015':0, '2016':0, '2017':2546200, '2018':3140160, '2019':4015130, '2020':4358400}"
   ]
  },
  {
   "cell_type": "code",
   "execution_count": 23,
   "id": "da9d880c",
   "metadata": {},
   "outputs": [],
   "source": [
    "df.loc['Other Firms'] = {'2015':0, '2016':190880225, '2017':207145461, '2018':293894940, '2019':364698093, '2020':406089863}"
   ]
  },
  {
   "cell_type": "code",
   "execution_count": null,
   "id": "f0c4af0d",
   "metadata": {},
   "outputs": [],
   "source": [
    "#HHI Calculation"
   ]
  },
  {
   "cell_type": "code",
   "execution_count": 24,
   "id": "19d877cb",
   "metadata": {},
   "outputs": [
    {
     "data": {
      "text/plain": [
       "711910137"
      ]
     },
     "execution_count": 24,
     "metadata": {},
     "output_type": "execute_result"
    }
   ],
   "source": [
    "((df['2020'][0])+(df['2020'][3])+(df['2020'][2])+(df['2020'][1])+(df['2020'][9])+(df['2020'][-3])+(df['2020'][-2]))"
   ]
  },
  {
   "cell_type": "code",
   "execution_count": 25,
   "id": "5bfd89b6",
   "metadata": {},
   "outputs": [
    {
     "data": {
      "text/plain": [
       "406089863"
      ]
     },
     "execution_count": 25,
     "metadata": {},
     "output_type": "execute_result"
    }
   ],
   "source": [
    "(df.loc['Industry Total'][-1]) - ((df['2020'][0])+(df['2020'][3])+(df['2020'][2])+(df['2020'][1])+(df['2020'][9])+(df['2020'][-3])+(df['2020'][-2]))"
   ]
  },
  {
   "cell_type": "code",
   "execution_count": 26,
   "id": "851f8625",
   "metadata": {},
   "outputs": [
    {
     "data": {
      "text/plain": [
       "364698093"
      ]
     },
     "execution_count": 26,
     "metadata": {},
     "output_type": "execute_result"
    }
   ],
   "source": [
    "(df.loc['Industry Total'][-2]) - ((df['2019'][0])+(df['2019'][3])+(df['2019'][2])+(df['2019'][1])+(df['2019'][9])+(df['2019'][-3])+(df['2019'][-2]))"
   ]
  },
  {
   "cell_type": "code",
   "execution_count": 27,
   "id": "5b70ae34",
   "metadata": {},
   "outputs": [
    {
     "data": {
      "text/plain": [
       "293894940"
      ]
     },
     "execution_count": 27,
     "metadata": {},
     "output_type": "execute_result"
    }
   ],
   "source": [
    "(df.loc['Industry Total'][-3]) - ((df['2018'][0])+(df['2018'][3])+(df['2018'][2])+(df['2018'][1])+(df['2018'][9])+(df['2018'][-3])+(df['2018'][-2]))"
   ]
  },
  {
   "cell_type": "code",
   "execution_count": 28,
   "id": "f01dc2a8",
   "metadata": {},
   "outputs": [
    {
     "data": {
      "text/plain": [
       "207145461"
      ]
     },
     "execution_count": 28,
     "metadata": {},
     "output_type": "execute_result"
    }
   ],
   "source": [
    "(df.loc['Industry Total'][-4]) - ((df['2017'][0])+(df['2017'][3])+(df['2017'][2])+(df['2017'][1])+(df['2017'][9])+(df['2017'][-3])+(df['2017'][-2]))"
   ]
  },
  {
   "cell_type": "code",
   "execution_count": 29,
   "id": "22c52a12",
   "metadata": {},
   "outputs": [
    {
     "data": {
      "text/plain": [
       "190880225"
      ]
     },
     "execution_count": 29,
     "metadata": {},
     "output_type": "execute_result"
    }
   ],
   "source": [
    "(df.loc['Industry Total'][-5]) - ((df['2016'][0])+(df['2016'][3])+(df['2016'][2])+(df['2016'][1])+(df['2016'][9])+(df['2016'][-3])+(df['2016'][-2]))"
   ]
  },
  {
   "cell_type": "code",
   "execution_count": null,
   "id": "41f5e1a2",
   "metadata": {},
   "outputs": [],
   "source": [
    "#Calculate HHI includes\n",
    "#Revenue for each companies.  \n",
    "#Number of firms: 7 firms (Sony, Kobalt (add all4 subsidiaries), Warner, UMG, Beggars, Domino, Ninja) \n",
    "#Number of years: 5 years (2015-2020)"
   ]
  },
  {
   "cell_type": "code",
   "execution_count": null,
   "id": "bf96c13e",
   "metadata": {},
   "outputs": [],
   "source": [
    "#before merger"
   ]
  },
  {
   "cell_type": "code",
   "execution_count": 31,
   "id": "017df80a",
   "metadata": {},
   "outputs": [
    {
     "name": "stdout",
     "output_type": "stream",
     "text": [
      "Sony_msb = 262.9444998255894 \n",
      "Kobalt_msb = 45.299642290251256 \n",
      "Warner_msb = 145.84558972385526 \n",
      "universal_msb = 727.7012944867046 \n",
      "Beggars_msb = 0.830044372563204 \n",
      "Domino_msb = 0.142543394638394 \n",
      "Ninja_msb = 0.15197444452622721 \n",
      "Other_msb = 1319.3520312543703\n"
     ]
    }
   ],
   "source": [
    "Sony_msb = (((df['2020'][0])/(df.loc['Industry Total'][-1])*100)**2)\n",
    "Kobalt_msb = (((df['2020'][3])/(df.loc['Industry Total'][-1])*100)**2)\n",
    "Warner_msb = (((df['2020'][2])/(df.loc['Industry Total'][-1])*100)**2)\n",
    "universal_msb = (((df['2020'][1])/(df.loc['Industry Total'][-1])*100)**2)\n",
    "Beggars_msb = (((df['2020'][9])/(df.loc['Industry Total'][-1])*100)**2)\n",
    "Domino_msb = (((df['2020'][-3])/(df.loc['Industry Total'][-1])*100)**2)\n",
    "Ninja_msb = (((df['2020'][-2])/(df.loc['Industry Total'][-1])*100)**2)\n",
    "Other_msb = (((df['2020'][-1])/(df.loc['Industry Total'][-1])*100)**2)\n",
    "\n",
    "print(f\"Sony_msb = {Sony_msb} \\nKobalt_msb = {Kobalt_msb} \\nWarner_msb = {Warner_msb} \\nuniversal_msb = {universal_msb} \\nBeggars_msb = {Beggars_msb} \\nDomino_msb = {Domino_msb} \\nNinja_msb = {Ninja_msb} \\nOther_msb = {Other_msb}\")"
   ]
  },
  {
   "cell_type": "code",
   "execution_count": 32,
   "id": "d5a1096c",
   "metadata": {},
   "outputs": [
    {
     "name": "stdout",
     "output_type": "stream",
     "text": [
      "HHI 2020 = 2502.2676197924984\n"
     ]
    }
   ],
   "source": [
    "HHI_2020 = Sony_msb + Kobalt_msb + Warner_msb + universal_msb + Beggars_msb + Domino_msb + Ninja_msb + Other_msb\n",
    "print(f\"HHI 2020 = {HHI_2020}\")"
   ]
  },
  {
   "cell_type": "code",
   "execution_count": 33,
   "id": "89fa74e7",
   "metadata": {},
   "outputs": [
    {
     "name": "stdout",
     "output_type": "stream",
     "text": [
      "Sony_msb = 257.59504880040066 \n",
      "Kobalt_msb = 36.916060974421704 \n",
      "Warner_msb = 267.2572254336256 \n",
      "universal_msb = 675.9372345117675 \n",
      "Beggars_msb = 0.8433918771211771 \n",
      "Domino_msb = 0.1398773890470882 \n",
      "Ninja_msb = 0.13898496301842617 \n",
      "Other_msb = 1146.6624167327195\n"
     ]
    }
   ],
   "source": [
    "Sony_msb1 = (((df['2019'][0])/(df.loc['Industry Total'][-2])*100)**2)\n",
    "Kobalt_msb1 = (((df['2019'][3])/(df.loc['Industry Total'][-2])*100)**2)\n",
    "Warner_msb1 = (((df['2019'][2])/(df.loc['Industry Total'][-2])*100)**2)\n",
    "universal_msb1 = (((df['2019'][1])/(df.loc['Industry Total'][-2])*100)**2)\n",
    "Beggars_msb1 = (((df['2019'][9])/(df.loc['Industry Total'][-2])*100)**2)\n",
    "Domino_msb1 = (((df['2019'][-3])/(df.loc['Industry Total'][-2])*100)**2)\n",
    "Ninja_msb1 = (((df['2019'][-2])/(df.loc['Industry Total'][-2])*100)**2)\n",
    "Other_msb1 = (((df['2019'][-1])/(df.loc['Industry Total'][-2])*100)**2)\n",
    "\n",
    "print(f\"Sony_msb = {Sony_msb1} \\nKobalt_msb = {Kobalt_msb1} \\nWarner_msb = {Warner_msb1} \\nuniversal_msb = {universal_msb1} \\nBeggars_msb = {Beggars_msb1} \\nDomino_msb = {Domino_msb1} \\nNinja_msb = {Ninja_msb1} \\nOther_msb = {Other_msb1}\")"
   ]
  },
  {
   "cell_type": "code",
   "execution_count": 34,
   "id": "91302bb3",
   "metadata": {},
   "outputs": [
    {
     "name": "stdout",
     "output_type": "stream",
     "text": [
      "HHI 2019 = 2385.4902406821216\n"
     ]
    }
   ],
   "source": [
    "HHI_2019 = Sony_msb1 + Kobalt_msb1 + Warner_msb1 + universal_msb1 + Beggars_msb1 + Domino_msb1 + Ninja_msb1 + Other_msb1\n",
    "print(f\"HHI 2019 = {HHI_2019}\")"
   ]
  },
  {
   "cell_type": "code",
   "execution_count": 35,
   "id": "4d25c152",
   "metadata": {},
   "outputs": [
    {
     "name": "stdout",
     "output_type": "stream",
     "text": [
      "Sony_msb = 275.4168290327351 \n",
      "Kobalt_msb = 27.820598897997908 \n",
      "Warner_msb = 391.90893773597617 \n",
      "universal_msb = 724.4844465693972 \n",
      "Beggars_msb = 0.983807310622942 \n",
      "Domino_msb = 0.39953937844124143 \n",
      "Ninja_msb = 0.09920035759837183 \n",
      "Other_msb = 868.9482264004008\n"
     ]
    }
   ],
   "source": [
    "Sony_msb2 = (((df['2018'][0])/(df.loc['Industry Total'][-3])*100)**2)\n",
    "Kobalt_msb2 = (((df['2018'][3])/(df.loc['Industry Total'][-3])*100)**2)\n",
    "Warner_msb2 = (((df['2018'][2])/(df.loc['Industry Total'][-3])*100)**2)\n",
    "universal_msb2 = (((df['2018'][1])/(df.loc['Industry Total'][-3])*100)**2)\n",
    "Beggars_msb2 = (((df['2018'][9])/(df.loc['Industry Total'][-3])*100)**2)\n",
    "Domino_msb2 = (((df['2018'][-3])/(df.loc['Industry Total'][-3])*100)**2)\n",
    "Ninja_msb2 = (((df['2018'][-2])/(df.loc['Industry Total'][-3])*100)**2)\n",
    "Other_msb2 = (((df['2018'][-1])/(df.loc['Industry Total'][-3])*100)**2)\n",
    "\n",
    "print(f\"Sony_msb = {Sony_msb2} \\nKobalt_msb = {Kobalt_msb2} \\nWarner_msb = {Warner_msb2} \\nuniversal_msb = {universal_msb2} \\nBeggars_msb = {Beggars_msb2} \\nDomino_msb = {Domino_msb2} \\nNinja_msb = {Ninja_msb2} \\nOther_msb = {Other_msb2}\")"
   ]
  },
  {
   "cell_type": "code",
   "execution_count": 36,
   "id": "0115fae7",
   "metadata": {},
   "outputs": [
    {
     "name": "stdout",
     "output_type": "stream",
     "text": [
      "HHI 2018 = 2290.06158568317\n"
     ]
    }
   ],
   "source": [
    "HHI_2018 = Sony_msb2 + Kobalt_msb2 + Warner_msb2 + universal_msb2 + Beggars_msb2 + Domino_msb2 + Ninja_msb2 + Other_msb2\n",
    "print(f\"HHI 2018 = {HHI_2018}\")"
   ]
  },
  {
   "cell_type": "code",
   "execution_count": 37,
   "id": "6226c2e9",
   "metadata": {},
   "outputs": [
    {
     "name": "stdout",
     "output_type": "stream",
     "text": [
      "Sony_msb = 327.6294046947171 \n",
      "Kobalt_msb = 29.886180953026223 \n",
      "Warner_msb = 446.33419895631187 \n",
      "universal_msb = 831.6782679499871 \n",
      "Beggars_msb = 1.2807576966430927 \n",
      "Domino_msb = 0.1276749094305475 \n",
      "Ninja_msb = 0.09199063709963778 \n",
      "Other_msb = 608.8487824462647\n"
     ]
    }
   ],
   "source": [
    "Sony_msb3 = (((df['2017'][0])/(df.loc['Industry Total'][-4])*100)**2)\n",
    "Kobalt_msb3 = (((df['2017'][3])/(df.loc['Industry Total'][-4])*100)**2)\n",
    "Warner_msb3 = (((df['2017'][2])/(df.loc['Industry Total'][-4])*100)**2)\n",
    "universal_msb3 = (((df['2017'][1])/(df.loc['Industry Total'][-4])*100)**2)\n",
    "Beggars_msb3 = (((df['2017'][9])/(df.loc['Industry Total'][-4])*100)**2)\n",
    "Domino_msb3 = (((df['2017'][-3])/(df.loc['Industry Total'][-4])*100)**2)\n",
    "Ninja_msb3 = (((df['2017'][-2])/(df.loc['Industry Total'][-4])*100)**2)\n",
    "Other_msb3 = (((df['2017'][-1])/(df.loc['Industry Total'][-4])*100)**2)\n",
    "\n",
    "print(f\"Sony_msb = {Sony_msb3} \\nKobalt_msb = {Kobalt_msb3} \\nWarner_msb = {Warner_msb3} \\nuniversal_msb = {universal_msb3} \\nBeggars_msb = {Beggars_msb3} \\nDomino_msb = {Domino_msb3} \\nNinja_msb = {Ninja_msb3} \\nOther_msb = {Other_msb3}\")"
   ]
  },
  {
   "cell_type": "code",
   "execution_count": 38,
   "id": "86a76ed0",
   "metadata": {},
   "outputs": [
    {
     "name": "stdout",
     "output_type": "stream",
     "text": [
      "HHI 2017 = 2245.8772582434804\n"
     ]
    }
   ],
   "source": [
    "HHI_2017 = Sony_msb3 + Kobalt_msb3 + Warner_msb3 + universal_msb3 + Beggars_msb3 + Domino_msb3 + Ninja_msb3 + Other_msb3\n",
    "print(f\"HHI 2017 = {HHI_2017}\")"
   ]
  },
  {
   "cell_type": "code",
   "execution_count": 39,
   "id": "f25313db",
   "metadata": {},
   "outputs": [
    {
     "name": "stdout",
     "output_type": "stream",
     "text": [
      "Sony_msb = 337.01026237629776 \n",
      "Kobalt_msb = 19.35884059706881 \n",
      "Warner_msb = 344.91194120271285 \n",
      "universal_msb = 991.4450249878055 \n",
      "Beggars_msb = 2.5559478498375228 \n",
      "Domino_msb = 0.18976871016575794 \n",
      "Ninja_msb = 0.0 \n",
      "Other_msb = 632.467661597078\n"
     ]
    }
   ],
   "source": [
    "Sony_msb4 = (((df['2016'][0])/(df.loc['Industry Total'][-5])*100)**2)\n",
    "Kobalt_msb4 = (((df['2016'][3])/(df.loc['Industry Total'][-5])*100)**2)\n",
    "Warner_msb4 = (((df['2016'][2])/(df.loc['Industry Total'][-5])*100)**2)\n",
    "universal_msb4 = (((df['2016'][1])/(df.loc['Industry Total'][-5])*100)**2)\n",
    "Beggars_msb4 = (((df['2016'][9])/(df.loc['Industry Total'][-5])*100)**2)\n",
    "Domino_msb4 = (((df['2016'][-3])/(df.loc['Industry Total'][-5])*100)**2)\n",
    "Ninja_msb4 = (((df['2016'][-2])/(df.loc['Industry Total'][-5])*100)**2)\n",
    "Other_msb4 = (((df['2016'][-1])/(df.loc['Industry Total'][-5])*100)**2)\n",
    "\n",
    "print(f\"Sony_msb = {Sony_msb4} \\nKobalt_msb = {Kobalt_msb4} \\nWarner_msb = {Warner_msb4} \\nuniversal_msb = {universal_msb4} \\nBeggars_msb = {Beggars_msb4} \\nDomino_msb = {Domino_msb4} \\nNinja_msb = {Ninja_msb4} \\nOther_msb = {Other_msb4}\")"
   ]
  },
  {
   "cell_type": "code",
   "execution_count": 40,
   "id": "9b32e9b6",
   "metadata": {},
   "outputs": [
    {
     "name": "stdout",
     "output_type": "stream",
     "text": [
      "HHI 2016 = 2327.939447320966\n"
     ]
    }
   ],
   "source": [
    "HHI_2016 = Sony_msb4 + Kobalt_msb4 + Warner_msb4 + universal_msb4 + Beggars_msb4 + Domino_msb4 + Ninja_msb4 + Other_msb4\n",
    "print(f\"HHI 2016 = {HHI_2016}\")"
   ]
  },
  {
   "cell_type": "code",
   "execution_count": 208,
   "id": "7c7a0173",
   "metadata": {},
   "outputs": [],
   "source": [
    "HHI_index = {'Year': ['2016', '2017', '2018', '2019', '2020']}\n",
    "HHI_df = pd.DataFrame(HHI_index)"
   ]
  },
  {
   "cell_type": "code",
   "execution_count": 209,
   "id": "98d207b9",
   "metadata": {},
   "outputs": [],
   "source": [
    "HHI_df['Value'] = [HHI_2016, HHI_2017, HHI_2018, HHI_2019, HHI_2020]"
   ]
  },
  {
   "cell_type": "code",
   "execution_count": 210,
   "id": "ef95c69f",
   "metadata": {},
   "outputs": [],
   "source": [
    "HHI_df.set_index('Year', inplace=True)"
   ]
  },
  {
   "cell_type": "code",
   "execution_count": 211,
   "id": "2452f1d0",
   "metadata": {},
   "outputs": [
    {
     "data": {
      "text/html": [
       "<div>\n",
       "<style scoped>\n",
       "    .dataframe tbody tr th:only-of-type {\n",
       "        vertical-align: middle;\n",
       "    }\n",
       "\n",
       "    .dataframe tbody tr th {\n",
       "        vertical-align: top;\n",
       "    }\n",
       "\n",
       "    .dataframe thead th {\n",
       "        text-align: right;\n",
       "    }\n",
       "</style>\n",
       "<table border=\"1\" class=\"dataframe\">\n",
       "  <thead>\n",
       "    <tr style=\"text-align: right;\">\n",
       "      <th></th>\n",
       "      <th>Value</th>\n",
       "    </tr>\n",
       "    <tr>\n",
       "      <th>Year</th>\n",
       "      <th></th>\n",
       "    </tr>\n",
       "  </thead>\n",
       "  <tbody>\n",
       "    <tr>\n",
       "      <th>2016</th>\n",
       "      <td>2327.939447</td>\n",
       "    </tr>\n",
       "    <tr>\n",
       "      <th>2017</th>\n",
       "      <td>2245.877258</td>\n",
       "    </tr>\n",
       "    <tr>\n",
       "      <th>2018</th>\n",
       "      <td>2290.061586</td>\n",
       "    </tr>\n",
       "    <tr>\n",
       "      <th>2019</th>\n",
       "      <td>2385.490241</td>\n",
       "    </tr>\n",
       "    <tr>\n",
       "      <th>2020</th>\n",
       "      <td>2502.267620</td>\n",
       "    </tr>\n",
       "  </tbody>\n",
       "</table>\n",
       "</div>"
      ],
      "text/plain": [
       "            Value\n",
       "Year             \n",
       "2016  2327.939447\n",
       "2017  2245.877258\n",
       "2018  2290.061586\n",
       "2019  2385.490241\n",
       "2020  2502.267620"
      ]
     },
     "execution_count": 211,
     "metadata": {},
     "output_type": "execute_result"
    }
   ],
   "source": [
    "HHI_df"
   ]
  },
  {
   "cell_type": "code",
   "execution_count": 224,
   "id": "2f14fe81",
   "metadata": {},
   "outputs": [],
   "source": [
    "ms_value = {'Year': ['2016', '2017', '2018', '2019', '2020'], 'Sony': [np.sqrt(Sony_msb4), np.sqrt(Sony_msb3), np.sqrt(Sony_msb2), np.sqrt(Sony_msb1), np.sqrt(Sony_msb)], 'Warner': [np.sqrt(Warner_msb4), np.sqrt(Warner_msb3), np.sqrt(Warner_msb2), np.sqrt(Warner_msb1), np.sqrt(Warner_msb)], 'Universal': [np.sqrt(universal_msb4), np.sqrt(universal_msb3), np.sqrt(universal_msb2), np.sqrt(universal_msb1), np.sqrt(universal_msb)], 'Beggars': [np.sqrt(Beggars_msb4), np.sqrt(Beggars_msb3), np.sqrt(Beggars_msb2), np.sqrt(Beggars_msb1), np.sqrt(Beggars_msb)],'Other': [np.sqrt(Other_msb4), np.sqrt(Other_msb3), np.sqrt(Other_msb2), np.sqrt(Other_msb1), np.sqrt(Other_msb)]}"
   ]
  },
  {
   "cell_type": "code",
   "execution_count": 225,
   "id": "462b987e",
   "metadata": {},
   "outputs": [],
   "source": [
    "ms_df = pd.DataFrame(ms_value)"
   ]
  },
  {
   "cell_type": "code",
   "execution_count": 226,
   "id": "f6d2da10",
   "metadata": {},
   "outputs": [
    {
     "data": {
      "text/html": [
       "<div>\n",
       "<style scoped>\n",
       "    .dataframe tbody tr th:only-of-type {\n",
       "        vertical-align: middle;\n",
       "    }\n",
       "\n",
       "    .dataframe tbody tr th {\n",
       "        vertical-align: top;\n",
       "    }\n",
       "\n",
       "    .dataframe thead th {\n",
       "        text-align: right;\n",
       "    }\n",
       "</style>\n",
       "<table border=\"1\" class=\"dataframe\">\n",
       "  <thead>\n",
       "    <tr style=\"text-align: right;\">\n",
       "      <th></th>\n",
       "      <th>Year</th>\n",
       "      <th>Sony</th>\n",
       "      <th>Warner</th>\n",
       "      <th>Universal</th>\n",
       "      <th>Beggars</th>\n",
       "      <th>Other</th>\n",
       "    </tr>\n",
       "  </thead>\n",
       "  <tbody>\n",
       "    <tr>\n",
       "      <th>0</th>\n",
       "      <td>2016</td>\n",
       "      <td>18.357839</td>\n",
       "      <td>18.571805</td>\n",
       "      <td>31.487220</td>\n",
       "      <td>1.598733</td>\n",
       "      <td>25.148910</td>\n",
       "    </tr>\n",
       "    <tr>\n",
       "      <th>1</th>\n",
       "      <td>2017</td>\n",
       "      <td>18.100536</td>\n",
       "      <td>21.126623</td>\n",
       "      <td>28.838833</td>\n",
       "      <td>1.131706</td>\n",
       "      <td>24.674861</td>\n",
       "    </tr>\n",
       "    <tr>\n",
       "      <th>2</th>\n",
       "      <td>2018</td>\n",
       "      <td>16.595687</td>\n",
       "      <td>19.796690</td>\n",
       "      <td>26.916249</td>\n",
       "      <td>0.991871</td>\n",
       "      <td>29.477928</td>\n",
       "    </tr>\n",
       "    <tr>\n",
       "      <th>3</th>\n",
       "      <td>2019</td>\n",
       "      <td>16.049768</td>\n",
       "      <td>16.348004</td>\n",
       "      <td>25.998793</td>\n",
       "      <td>0.918364</td>\n",
       "      <td>33.862404</td>\n",
       "    </tr>\n",
       "    <tr>\n",
       "      <th>4</th>\n",
       "      <td>2020</td>\n",
       "      <td>16.215564</td>\n",
       "      <td>12.076655</td>\n",
       "      <td>26.975939</td>\n",
       "      <td>0.911068</td>\n",
       "      <td>36.322886</td>\n",
       "    </tr>\n",
       "  </tbody>\n",
       "</table>\n",
       "</div>"
      ],
      "text/plain": [
       "   Year       Sony     Warner  Universal   Beggars      Other\n",
       "0  2016  18.357839  18.571805  31.487220  1.598733  25.148910\n",
       "1  2017  18.100536  21.126623  28.838833  1.131706  24.674861\n",
       "2  2018  16.595687  19.796690  26.916249  0.991871  29.477928\n",
       "3  2019  16.049768  16.348004  25.998793  0.918364  33.862404\n",
       "4  2020  16.215564  12.076655  26.975939  0.911068  36.322886"
      ]
     },
     "execution_count": 226,
     "metadata": {},
     "output_type": "execute_result"
    }
   ],
   "source": [
    "ms_df"
   ]
  },
  {
   "cell_type": "code",
   "execution_count": 180,
   "id": "b4abfb5f",
   "metadata": {},
   "outputs": [],
   "source": [
    "df.loc['Sony MS'] = {'2015': 0, '2016':np.sqrt(Sony_msb4), '2017':np.sqrt(Sony_msb3), '2018':np.sqrt(Sony_msb2), '2019':np.sqrt(Sony_msb1), '2020':np.sqrt(Sony_msb)}"
   ]
  },
  {
   "cell_type": "code",
   "execution_count": null,
   "id": "b0b34c2b",
   "metadata": {},
   "outputs": [],
   "source": [
    "#post merger"
   ]
  },
  {
   "cell_type": "code",
   "execution_count": null,
   "id": "bda3b0f9",
   "metadata": {},
   "outputs": [],
   "source": [
    "#plot"
   ]
  },
  {
   "cell_type": "code",
   "execution_count": 164,
   "id": "75b4faa8",
   "metadata": {},
   "outputs": [
    {
     "data": {
      "text/plain": [
       "Text(0.5, 1.0, 'Sony Market Share')"
      ]
     },
     "execution_count": 164,
     "metadata": {},
     "output_type": "execute_result"
    },
    {
     "data": {
      "image/png": "[encoded data removed]",
      "text/plain": [
       "<Figure size 900x500 with 2 Axes>"
      ]
     },
     "metadata": {},
     "output_type": "display_data"
    }
   ],
   "source": [
    "#Comparing Annual Revenue and Market Share of Sony from year 2016-2020\n",
    "\n",
    "x1 = df.loc['Sony']\n",
    "x2 = ms_df['Sony']\n",
    "\n",
    "fig = plt.figure(figsize=(9,5), dpi=100)\n",
    "axes1 = fig.add_axes([0.1,0.1,0.8,0.8])\n",
    "plt.xlabel('Year')\n",
    "plt.ylabel('Revenue (Billion GBP)')\n",
    "\n",
    "axes2 = fig.add_axes([0.2,0.5,0.3,0.3])\n",
    "plt.xlabel('Year')\n",
    "plt.ylabel('Share (%)')\n",
    "\n",
    "axes1.plot(x1, marker='*', markerfacecolor='red', markeredgecolor='red')\n",
    "axes2.plot(x2, marker='*', markerfacecolor='green', markeredgecolor='green')\n",
    "\n",
    "axes1.set_title('Sony Revenue')\n",
    "axes2.set_title('Sony Market Share')"
   ]
  },
  {
   "cell_type": "code",
   "execution_count": 134,
   "id": "b913e74a",
   "metadata": {},
   "outputs": [
    {
     "data": {
      "text/plain": [
       "Text(0.5, 1.0, 'Industry Total')"
      ]
     },
     "execution_count": 134,
     "metadata": {},
     "output_type": "execute_result"
    },
    {
     "data": {
      "image/png": "[encoded data removed]",
      "text/plain": [
       "<Figure size 900x500 with 2 Axes>"
      ]
     },
     "metadata": {},
     "output_type": "display_data"
    }
   ],
   "source": [
    "#Comparing Annual Revenue of Sony and Recorded Music Industry Total Revenue from year 2016-2020\n",
    "\n",
    "x1 = df.loc['Sony']\n",
    "x2 = df.loc['Industry Total']\n",
    "\n",
    "fig = plt.figure(figsize=(9,5), dpi=100)\n",
    "axes1 = fig.add_axes([0.1,0.1,0.8,0.8])\n",
    "plt.xlabel('Year')\n",
    "plt.ylabel('Revenue (Billion GBP)')\n",
    "\n",
    "axes2 = fig.add_axes([0.2,0.5,0.3,0.3])\n",
    "plt.xlabel('Year')\n",
    "plt.ylabel('Revenue (Billion GBP)')\n",
    "\n",
    "axes1.plot(x1, marker='*', markerfacecolor='green', markeredgecolor='green')\n",
    "axes2.plot(x2, marker='*', markerfacecolor='green', markeredgecolor='green')\n",
    "\n",
    "axes1.set_title('Sony Revenue')\n",
    "axes2.set_title('Industry Total')"
   ]
  },
  {
   "cell_type": "code",
   "execution_count": 171,
   "id": "5f010a84",
   "metadata": {},
   "outputs": [
    {
     "data": {
      "text/plain": [
       "Text(0.5, 1.0, 'Beggars')"
      ]
     },
     "execution_count": 171,
     "metadata": {},
     "output_type": "execute_result"
    },
    {
     "data": {
      "image/png": "[encoded data removed]",
      "text/plain": [
       "<Figure size 936x360 with 4 Axes>"
      ]
     },
     "metadata": {},
     "output_type": "display_data"
    }
   ],
   "source": [
    "#Comparing Annual Revenue (billion GBP) of Big 4 from year 2016-2020\n",
    "\n",
    "fig,axes = plt.subplots(nrows=1, ncols=4, figsize=(13,5))\n",
    "plt.tight_layout()\n",
    "\n",
    "plt.xlabel('Year')\n",
    "plt.ylabel('Revenue (Billion GBP)')\n",
    "\n",
    "axes[0].plot(df.loc['Sony'])\n",
    "axes[0].set_title('Sony')\n",
    "\n",
    "axes[1].plot(df.loc['Warner'])\n",
    "axes[1].set_title('Warner')\n",
    "\n",
    "axes[2].plot(df.loc['Universal'])\n",
    "axes[2].set_title('Universal')\n",
    "\n",
    "axes[3].plot(df.loc['Beggars'])\n",
    "axes[3].set_title('Beggars')"
   ]
  },
  {
   "cell_type": "code",
   "execution_count": 170,
   "id": "b13ab409",
   "metadata": {},
   "outputs": [
    {
     "data": {
      "text/plain": [
       "Text(659.704347826087, 0.5, 'Share (%)')"
      ]
     },
     "execution_count": 170,
     "metadata": {},
     "output_type": "execute_result"
    },
    {
     "data": {
      "image/png": "[encoded data removed]",
      "text/plain": [
       "<Figure size 936x360 with 4 Axes>"
      ]
     },
     "metadata": {},
     "output_type": "display_data"
    }
   ],
   "source": [
    "#Comparing Market Share of Big 4 from year 2016-2020\n",
    "fig,axes = plt.subplots(nrows=1, ncols=4, figsize=(13,5))\n",
    "plt.tight_layout()\n",
    "\n",
    "axes[0].plot(ms_df['Sony'])\n",
    "axes[0].set_title('Sony')\n",
    "\n",
    "axes[1].plot(ms_df['Warner'])\n",
    "axes[1].set_title('Warner')\n",
    "\n",
    "axes[2].plot(ms_df['Universal'])\n",
    "axes[2].set_title('Universal')\n",
    "\n",
    "axes[3].plot(ms_df['Beggars'])\n",
    "axes[3].set_title('Beggars')\n",
    "\n",
    "plt.xlabel('Year')\n",
    "plt.ylabel('Share (%)')\n"
   ]
  },
  {
   "cell_type": "code",
   "execution_count": 212,
   "id": "ce9d4f2b",
   "metadata": {},
   "outputs": [
    {
     "data": {
      "text/plain": [
       "<seaborn.axisgrid.JointGrid at 0x13c59d0d0>"
      ]
     },
     "execution_count": 212,
     "metadata": {},
     "output_type": "execute_result"
    },
    {
     "data": {
      "image/png": "[encoded data removed]",
      "text/plain": [
       "<Figure size 432x432 with 3 Axes>"
      ]
     },
     "metadata": {},
     "output_type": "display_data"
    }
   ],
   "source": [
    "sns.jointplot(x=df.loc['Sony'], y=HHI_df['Value'], kind='reg')\n",
    "#there are positive relationship between Sony's increase in revenue(indicating that its growing) and HHI value\n",
    "#This means, if Sony grows even larger after the merger HHI is expected to increase even more"
   ]
  },
  {
   "cell_type": "code",
   "execution_count": 215,
   "id": "91453684",
   "metadata": {},
   "outputs": [
    {
     "data": {
      "text/plain": [
       "<AxesSubplot:xlabel='Year'>"
      ]
     },
     "execution_count": 215,
     "metadata": {},
     "output_type": "execute_result"
    },
    {
     "data": {
      "image/png": "[encoded data removed]",
      "text/plain": [
       "<Figure size 432x288 with 1 Axes>"
      ]
     },
     "metadata": {},
     "output_type": "display_data"
    }
   ],
   "source": [
    "HHI_df['Value'].plot()"
   ]
  },
  {
   "cell_type": "code",
   "execution_count": 227,
   "id": "f707bc3c",
   "metadata": {},
   "outputs": [
    {
     "data": {
      "text/plain": [
       "<AxesSubplot:>"
      ]
     },
     "execution_count": 227,
     "metadata": {},
     "output_type": "execute_result"
    },
    {
     "data": {
      "image/png": "[encoded data removed]",
      "text/plain": [
       "<Figure size 432x288 with 1 Axes>"
      ]
     },
     "metadata": {},
     "output_type": "display_data"
    }
   ],
   "source": [
    "ms_df.plot.area(alpha=0.5, cmap='winter')\n",
    "#you can see that the 3 firms covers more than half of the whole market"
   ]
  },
  {
   "cell_type": "code",
   "execution_count": null,
   "id": "6de0c259",
   "metadata": {},
   "outputs": [],
   "source": [
    "#CR4 Calculation\n",
    "#Revenue for each companies.\n",
    "#Number of firms: 4 firms (those that have >5% marketshare) \n",
    "#Pre (Sony, Warner, UMG, Beggars) \n",
    "#Post (Sony(Plus AWAL and KNR), Warner, UMG, Beggars) \n",
    "#Number of years: 5 years (2015-2020) "
   ]
  },
  {
   "cell_type": "code",
   "execution_count": null,
   "id": "2efead0e",
   "metadata": {},
   "outputs": [],
   "source": [
    "#pre merger"
   ]
  },
  {
   "cell_type": "code",
   "execution_count": 45,
   "id": "08c482f8",
   "metadata": {},
   "outputs": [
    {
     "data": {
      "text/plain": [
       "56.179225134168156"
      ]
     },
     "execution_count": 45,
     "metadata": {},
     "output_type": "execute_result"
    }
   ],
   "source": [
    "CR4_20 = (((df['2020'][0])+(df['2020'][1])+(df['2020'][2])+(df['2020'][9]))/(df.loc['Industry Total'][-1]))*100\n",
    "CR4_20"
   ]
  },
  {
   "cell_type": "code",
   "execution_count": 46,
   "id": "6c2b9656",
   "metadata": {},
   "outputs": [
    {
     "data": {
      "text/plain": [
       "59.31492822655524"
      ]
     },
     "execution_count": 46,
     "metadata": {},
     "output_type": "execute_result"
    }
   ],
   "source": [
    "CR4_19 = (((df['2019'][0])+(df['2019'][1])+(df['2019'][2])+(df['2019'][9]))/(df.loc['Industry Total'][-2]))*100\n",
    "CR4_19"
   ]
  },
  {
   "cell_type": "code",
   "execution_count": 47,
   "id": "803acf48",
   "metadata": {},
   "outputs": [
    {
     "data": {
      "text/plain": [
       "64.3004964894684"
      ]
     },
     "execution_count": 47,
     "metadata": {},
     "output_type": "execute_result"
    }
   ],
   "source": [
    "CR4_18 = (((df['2018'][0])+(df['2018'][1])+(df['2018'][2])+(df['2018'][9]))/(df.loc['Industry Total'][-3]))*100\n",
    "CR4_18"
   ]
  },
  {
   "cell_type": "code",
   "execution_count": 48,
   "id": "4d37a147",
   "metadata": {},
   "outputs": [
    {
     "data": {
      "text/plain": [
       "69.19769731983322"
      ]
     },
     "execution_count": 48,
     "metadata": {},
     "output_type": "execute_result"
    }
   ],
   "source": [
    "CR4_17 = (((df['2017'][0])+(df['2017'][1])+(df['2017'][2])+(df['2017'][9]))/(df.loc['Industry Total'][-4]))*100\n",
    "CR4_17"
   ]
  },
  {
   "cell_type": "code",
   "execution_count": 49,
   "id": "89215af1",
   "metadata": {},
   "outputs": [
    {
     "data": {
      "text/plain": [
       "70.01559749670619"
      ]
     },
     "execution_count": 49,
     "metadata": {},
     "output_type": "execute_result"
    }
   ],
   "source": [
    "CR4_16 = (((df['2016'][0])+(df['2016'][1])+(df['2016'][2])+(df['2016'][9]))/(df.loc['Industry Total'][-5]))*100\n",
    "CR4_16"
   ]
  },
  {
   "cell_type": "code",
   "execution_count": 50,
   "id": "027114fb",
   "metadata": {},
   "outputs": [],
   "source": [
    "CR4_index = {'Year': ['2020', '2019', '2018', '2017', '2016'], 'Pre Value': [CR4_20, CR4_19, CR4_18, CR4_17, CR4_16], 'Post Value': [0,0,0,0,0]}\n",
    "CR4_df = pd.DataFrame(CR4_index)\n",
    "CR4_df.set_index('Year', inplace=True)"
   ]
  },
  {
   "cell_type": "code",
   "execution_count": 51,
   "id": "08aad99f",
   "metadata": {},
   "outputs": [
    {
     "data": {
      "text/html": [
       "<div>\n",
       "<style scoped>\n",
       "    .dataframe tbody tr th:only-of-type {\n",
       "        vertical-align: middle;\n",
       "    }\n",
       "\n",
       "    .dataframe tbody tr th {\n",
       "        vertical-align: top;\n",
       "    }\n",
       "\n",
       "    .dataframe thead th {\n",
       "        text-align: right;\n",
       "    }\n",
       "</style>\n",
       "<table border=\"1\" class=\"dataframe\">\n",
       "  <thead>\n",
       "    <tr style=\"text-align: right;\">\n",
       "      <th></th>\n",
       "      <th>Pre Value</th>\n",
       "      <th>Post Value</th>\n",
       "    </tr>\n",
       "    <tr>\n",
       "      <th>Year</th>\n",
       "      <th></th>\n",
       "      <th></th>\n",
       "    </tr>\n",
       "  </thead>\n",
       "  <tbody>\n",
       "    <tr>\n",
       "      <th>2020</th>\n",
       "      <td>56.179225</td>\n",
       "      <td>0</td>\n",
       "    </tr>\n",
       "    <tr>\n",
       "      <th>2019</th>\n",
       "      <td>59.314928</td>\n",
       "      <td>0</td>\n",
       "    </tr>\n",
       "    <tr>\n",
       "      <th>2018</th>\n",
       "      <td>64.300496</td>\n",
       "      <td>0</td>\n",
       "    </tr>\n",
       "    <tr>\n",
       "      <th>2017</th>\n",
       "      <td>69.197697</td>\n",
       "      <td>0</td>\n",
       "    </tr>\n",
       "    <tr>\n",
       "      <th>2016</th>\n",
       "      <td>70.015597</td>\n",
       "      <td>0</td>\n",
       "    </tr>\n",
       "  </tbody>\n",
       "</table>\n",
       "</div>"
      ],
      "text/plain": [
       "      Pre Value  Post Value\n",
       "Year                       \n",
       "2020  56.179225           0\n",
       "2019  59.314928           0\n",
       "2018  64.300496           0\n",
       "2017  69.197697           0\n",
       "2016  70.015597           0"
      ]
     },
     "execution_count": 51,
     "metadata": {},
     "output_type": "execute_result"
    }
   ],
   "source": [
    "CR4_df"
   ]
  },
  {
   "cell_type": "code",
   "execution_count": null,
   "id": "cae96f0c",
   "metadata": {},
   "outputs": [],
   "source": []
  }
 ],
 "metadata": {
  "kernelspec": {
   "display_name": "Python 3",
   "language": "python",
   "name": "python3"
  },
  "language_info": {
   "codemirror_mode": {
    "name": "ipython",
    "version": 3
   },
   "file_extension": ".py",
   "mimetype": "text/x-python",
   "name": "python",
   "nbconvert_exporter": "python",
   "pygments_lexer": "ipython3",
   "version": "3.8.8"
  }
 },
 "nbformat": 4,
 "nbformat_minor": 5
}
