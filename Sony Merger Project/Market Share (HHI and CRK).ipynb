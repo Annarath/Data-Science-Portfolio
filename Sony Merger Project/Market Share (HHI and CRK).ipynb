{
 "cells": [
  {
   "cell_type": "code",
   "execution_count": 86,
   "id": "9d0ff5ee",
   "metadata": {},
   "outputs": [],
   "source": [
    "import pandas as pd\n",
    "import numpy as np\n",
    "import seaborn as sns\n",
    "import matplotlib.pyplot as plt\n",
    "from numpy import polyfit, poly1d, linspace\n",
    "%matplotlib inline\n",
    "sns.set_style('whitegrid')"
   ]
  },
  {
   "cell_type": "code",
   "execution_count": 87,
   "id": "4dd3d035",
   "metadata": {},
   "outputs": [],
   "source": [
    "df = pd.read_csv(\"/Users/unun/Desktop/Sony Project/Data/UK revenue 2015-2020.csv\")"
   ]
  },
  {
   "cell_type": "code",
   "execution_count": 88,
   "id": "bed10a63",
   "metadata": {
    "scrolled": true
   },
   "outputs": [],
   "source": [
    "df.dropna(inplace=True)"
   ]
  },
  {
   "cell_type": "code",
   "execution_count": 173,
   "id": "85467f9f",
   "metadata": {},
   "outputs": [
    {
     "data": {
      "text/html": [
       "<div>\n",
       "<style scoped>\n",
       "    .dataframe tbody tr th:only-of-type {\n",
       "        vertical-align: middle;\n",
       "    }\n",
       "\n",
       "    .dataframe tbody tr th {\n",
       "        vertical-align: top;\n",
       "    }\n",
       "\n",
       "    .dataframe thead th {\n",
       "        text-align: right;\n",
       "    }\n",
       "</style>\n",
       "<table border=\"1\" class=\"dataframe\">\n",
       "  <thead>\n",
       "    <tr style=\"text-align: right;\">\n",
       "      <th></th>\n",
       "      <th>2016</th>\n",
       "      <th>2017</th>\n",
       "      <th>2018</th>\n",
       "      <th>2019</th>\n",
       "      <th>2020</th>\n",
       "      <th>Predicted 2021</th>\n",
       "    </tr>\n",
       "    <tr>\n",
       "      <th>Company</th>\n",
       "      <th></th>\n",
       "      <th></th>\n",
       "      <th></th>\n",
       "      <th></th>\n",
       "      <th></th>\n",
       "      <th></th>\n",
       "    </tr>\n",
       "  </thead>\n",
       "  <tbody>\n",
       "    <tr>\n",
       "      <th>Sony</th>\n",
       "      <td>139336000</td>\n",
       "      <td>151954000</td>\n",
       "      <td>165459000</td>\n",
       "      <td>172856000</td>\n",
       "      <td>181290000</td>\n",
       "      <td>193653978</td>\n",
       "    </tr>\n",
       "    <tr>\n",
       "      <th>Universal</th>\n",
       "      <td>238988000</td>\n",
       "      <td>242102000</td>\n",
       "      <td>268355000</td>\n",
       "      <td>280007000</td>\n",
       "      <td>301591000</td>\n",
       "      <td>319834843</td>\n",
       "    </tr>\n",
       "    <tr>\n",
       "      <th>Warner</th>\n",
       "      <td>140960000</td>\n",
       "      <td>177358000</td>\n",
       "      <td>197373000</td>\n",
       "      <td>176068000</td>\n",
       "      <td>135017000</td>\n",
       "      <td>136028547</td>\n",
       "    </tr>\n",
       "    <tr>\n",
       "      <th>Kobalt</th>\n",
       "      <td>33395000</td>\n",
       "      <td>45894000</td>\n",
       "      <td>52587000</td>\n",
       "      <td>65437000</td>\n",
       "      <td>75247000</td>\n",
       "      <td>92448163</td>\n",
       "    </tr>\n",
       "    <tr>\n",
       "      <th>Beggars UK</th>\n",
       "      <td>12134385</td>\n",
       "      <td>9500669</td>\n",
       "      <td>9888950</td>\n",
       "      <td>9890777</td>\n",
       "      <td>10185737</td>\n",
       "      <td>9813550</td>\n",
       "    </tr>\n",
       "    <tr>\n",
       "      <th>Industry Total</th>\n",
       "      <td>759000000</td>\n",
       "      <td>839500000</td>\n",
       "      <td>997000000</td>\n",
       "      <td>1077000000</td>\n",
       "      <td>1118000000</td>\n",
       "      <td>1233148410</td>\n",
       "    </tr>\n",
       "    <tr>\n",
       "      <th>Domino</th>\n",
       "      <td>3306390</td>\n",
       "      <td>2999670</td>\n",
       "      <td>6301950</td>\n",
       "      <td>4028000</td>\n",
       "      <td>4221000</td>\n",
       "      <td>4989365</td>\n",
       "    </tr>\n",
       "    <tr>\n",
       "      <th>Ninja Tune</th>\n",
       "      <td>0</td>\n",
       "      <td>2546200</td>\n",
       "      <td>3140160</td>\n",
       "      <td>4015130</td>\n",
       "      <td>4358400</td>\n",
       "      <td>5226157</td>\n",
       "    </tr>\n",
       "    <tr>\n",
       "      <th>AWAL</th>\n",
       "      <td>3187000</td>\n",
       "      <td>10657000</td>\n",
       "      <td>12533000</td>\n",
       "      <td>29127000</td>\n",
       "      <td>30687000</td>\n",
       "      <td>62470937</td>\n",
       "    </tr>\n",
       "    <tr>\n",
       "      <th>BMG</th>\n",
       "      <td>33501000</td>\n",
       "      <td>69559000</td>\n",
       "      <td>87428000</td>\n",
       "      <td>66267000</td>\n",
       "      <td>46538000</td>\n",
       "      <td>55769277</td>\n",
       "    </tr>\n",
       "    <tr>\n",
       "      <th>Other Firms</th>\n",
       "      <td>157379225</td>\n",
       "      <td>137586461</td>\n",
       "      <td>206466940</td>\n",
       "      <td>298431093</td>\n",
       "      <td>359551863</td>\n",
       "      <td>449439829</td>\n",
       "    </tr>\n",
       "  </tbody>\n",
       "</table>\n",
       "</div>"
      ],
      "text/plain": [
       "                     2016       2017       2018        2019        2020  \\\n",
       "Company                                                                   \n",
       "Sony            139336000  151954000  165459000   172856000   181290000   \n",
       "Universal       238988000  242102000  268355000   280007000   301591000   \n",
       "Warner          140960000  177358000  197373000   176068000   135017000   \n",
       "Kobalt           33395000   45894000   52587000    65437000    75247000   \n",
       "Beggars UK       12134385    9500669    9888950     9890777    10185737   \n",
       "Industry Total  759000000  839500000  997000000  1077000000  1118000000   \n",
       "Domino            3306390    2999670    6301950     4028000     4221000   \n",
       "Ninja Tune              0    2546200    3140160     4015130     4358400   \n",
       "AWAL              3187000   10657000   12533000    29127000    30687000   \n",
       "BMG              33501000   69559000   87428000    66267000    46538000   \n",
       "Other Firms     157379225  137586461  206466940   298431093   359551863   \n",
       "\n",
       "                Predicted 2021  \n",
       "Company                         \n",
       "Sony                 193653978  \n",
       "Universal            319834843  \n",
       "Warner               136028547  \n",
       "Kobalt                92448163  \n",
       "Beggars UK             9813550  \n",
       "Industry Total      1233148410  \n",
       "Domino                 4989365  \n",
       "Ninja Tune             5226157  \n",
       "AWAL                  62470937  \n",
       "BMG                   55769277  \n",
       "Other Firms          449439829  "
      ]
     },
     "execution_count": 173,
     "metadata": {},
     "output_type": "execute_result"
    }
   ],
   "source": [
    "df"
   ]
  },
  {
   "cell_type": "markdown",
   "id": "d3d3d057",
   "metadata": {},
   "source": [
    "# Manage Rows and Columns in the dataframe"
   ]
  },
  {
   "cell_type": "code",
   "execution_count": 90,
   "id": "317e1ade",
   "metadata": {},
   "outputs": [],
   "source": [
    "df.rename(columns={ df.columns[0]: \"Companies\" }, inplace = True)"
   ]
  },
  {
   "cell_type": "code",
   "execution_count": 91,
   "id": "7c884128",
   "metadata": {},
   "outputs": [],
   "source": [
    "df.set_index('Companies', inplace=True)"
   ]
  },
  {
   "cell_type": "code",
   "execution_count": 92,
   "id": "8b4825fc",
   "metadata": {},
   "outputs": [],
   "source": [
    "df['Company'] = ['Sony', 'Universal', 'Warner', 'Kobalt', 'Kobalt Publishing', 'AWAL', 'NB Rights', 'AMRA', 'BMG Rights Management', \n",
    "'Beggars UK', 'Beggars Sales', 'Beggars Mg', 'Total Industry']"
   ]
  },
  {
   "cell_type": "code",
   "execution_count": 93,
   "id": "ecab8099",
   "metadata": {},
   "outputs": [],
   "source": [
    "df.set_index('Company', inplace=True)"
   ]
  },
  {
   "cell_type": "code",
   "execution_count": 94,
   "id": "24e80c85",
   "metadata": {},
   "outputs": [],
   "source": [
    "df.drop('Total Industry', axis=0, inplace=True)"
   ]
  },
  {
   "cell_type": "code",
   "execution_count": 95,
   "id": "e4f911a5",
   "metadata": {},
   "outputs": [],
   "source": [
    "df.drop('Beggars Sales', axis=0, inplace=True)\n",
    "df.drop('Beggars Mg', axis=0, inplace=True)\n",
    "df.drop('AMRA', axis=0, inplace=True)\n",
    "df.drop('NB Rights', axis=0, inplace=True)\n",
    "df.drop('AWAL', axis=0, inplace=True)\n",
    "df.drop('Kobalt Publishing', axis=0, inplace=True)\n",
    "df.drop('BMG Rights Management', axis=0, inplace=True)"
   ]
  },
  {
   "cell_type": "markdown",
   "id": "0e334707",
   "metadata": {},
   "source": [
    "Adjust dtypes"
   ]
  },
  {
   "cell_type": "code",
   "execution_count": 96,
   "id": "79763ddf",
   "metadata": {},
   "outputs": [],
   "source": [
    "df['2015'] = df['2015'].str.replace(',','')\n",
    "df['2016'] = df['2016'].str.replace(',','')\n",
    "df['2017'] = df['2017'].str.replace(',','')\n",
    "df['2018'] = df['2018'].str.replace(',','')\n",
    "df['2019'] = df['2019'].str.replace(',','')\n",
    "df['2020'] = df['2020'].str.replace(',','')"
   ]
  },
  {
   "cell_type": "code",
   "execution_count": 97,
   "id": "bd3dcf11",
   "metadata": {},
   "outputs": [],
   "source": [
    "df['2015'] = pd.to_numeric(df['2015'])\n",
    "df['2016'] = pd.to_numeric(df['2016'])\n",
    "df['2017'] = pd.to_numeric(df['2017'])\n",
    "df['2018'] = pd.to_numeric(df['2018'])\n",
    "df['2019'] = pd.to_numeric(df['2019'])\n",
    "df['2020'] = pd.to_numeric(df['2020'])"
   ]
  },
  {
   "cell_type": "code",
   "execution_count": 98,
   "id": "8746f751",
   "metadata": {},
   "outputs": [
    {
     "data": {
      "text/plain": [
       "(5, 6)"
      ]
     },
     "execution_count": 98,
     "metadata": {},
     "output_type": "execute_result"
    }
   ],
   "source": [
    "df.shape"
   ]
  },
  {
   "cell_type": "code",
   "execution_count": 99,
   "id": "0d72630b",
   "metadata": {},
   "outputs": [
    {
     "data": {
      "text/plain": [
       "2015    int64\n",
       "2016    int64\n",
       "2017    int64\n",
       "2018    int64\n",
       "2019    int64\n",
       "2020    int64\n",
       "dtype: object"
      ]
     },
     "execution_count": 99,
     "metadata": {},
     "output_type": "execute_result"
    }
   ],
   "source": [
    "df.dtypes"
   ]
  },
  {
   "cell_type": "markdown",
   "id": "be063984",
   "metadata": {},
   "source": [
    "Combine Kobalt as one and add in data for Beggars, Domino, and Ninja Tune"
   ]
  },
  {
   "cell_type": "code",
   "execution_count": 100,
   "id": "faf899c5",
   "metadata": {},
   "outputs": [],
   "source": [
    "df.loc['Industry Total'] = {'2015':990000000, '2016':759000000, '2017':839500000, '2018':997000000, '2019':1077000000, '2020':1118000000}\n",
    "df.loc['Domino'] = {'2015':3094670, '2016':3306390, '2017':2999670, '2018':6301950, '2019':4028000, '2020':4221000}\n",
    "df.loc['Ninja Tune'] = {'2015':0, '2016':0, '2017':2546200, '2018':3140160, '2019':4015130, '2020':4358400}\n",
    "df.loc['AWAL'] = {'2015':0, '2016':3187000, '2017':10657000, '2018':12533000, '2019':29127000, '2020':30687000}\n",
    "df.loc['BMG'] = {'2015':17414000, '2016':33501000, '2017':69559000, '2018':87428000, '2019':66267000, '2020':46538000}"
   ]
  },
  {
   "cell_type": "markdown",
   "id": "c6eb8df2",
   "metadata": {},
   "source": [
    "Other Firms' Share (This includes all the small independent record labels)"
   ]
  },
  {
   "cell_type": "code",
   "execution_count": 101,
   "id": "5bfd89b6",
   "metadata": {},
   "outputs": [
    {
     "data": {
      "text/plain": [
       "359551863"
      ]
     },
     "execution_count": 101,
     "metadata": {},
     "output_type": "execute_result"
    }
   ],
   "source": [
    "(df.loc['Industry Total'][-1]) - ((df['2020'][0])+(df['2020'][3])+(df['2020'][2])+(df['2020'][1])+(df['2020'][4])+(df['2020'][-1])+(df['2020'][-3])+(df['2020'][-4]))"
   ]
  },
  {
   "cell_type": "code",
   "execution_count": 102,
   "id": "851f8625",
   "metadata": {},
   "outputs": [
    {
     "data": {
      "text/plain": [
       "298431093"
      ]
     },
     "execution_count": 102,
     "metadata": {},
     "output_type": "execute_result"
    }
   ],
   "source": [
    "(df.loc['Industry Total'][-2]) - ((df['2019'][0])+(df['2019'][3])+(df['2019'][2])+(df['2019'][1])+(df['2019'][4])+(df['2019'][-3])+(df['2019'][-1])+(df['2019'][-4]))"
   ]
  },
  {
   "cell_type": "code",
   "execution_count": 103,
   "id": "5b70ae34",
   "metadata": {},
   "outputs": [
    {
     "data": {
      "text/plain": [
       "206466940"
      ]
     },
     "execution_count": 103,
     "metadata": {},
     "output_type": "execute_result"
    }
   ],
   "source": [
    "(df.loc['Industry Total'][-3]) - ((df['2018'][0])+(df['2018'][3])+(df['2018'][2])+(df['2018'][1])+(df['2018'][4])+(df['2018'][-3])+(df['2018'][-1])+(df['2018'][-4]))"
   ]
  },
  {
   "cell_type": "code",
   "execution_count": 104,
   "id": "f01dc2a8",
   "metadata": {},
   "outputs": [
    {
     "data": {
      "text/plain": [
       "137586461"
      ]
     },
     "execution_count": 104,
     "metadata": {},
     "output_type": "execute_result"
    }
   ],
   "source": [
    "(df.loc['Industry Total'][-4]) - ((df['2017'][0])+(df['2017'][3])+(df['2017'][2])+(df['2017'][1])+(df['2017'][4])+(df['2017'][-3])+(df['2017'][-1])+(df['2017'][-4]))"
   ]
  },
  {
   "cell_type": "code",
   "execution_count": 105,
   "id": "22c52a12",
   "metadata": {},
   "outputs": [
    {
     "data": {
      "text/plain": [
       "157379225"
      ]
     },
     "execution_count": 105,
     "metadata": {},
     "output_type": "execute_result"
    }
   ],
   "source": [
    "(df.loc['Industry Total'][-5]) - ((df['2016'][0])+(df['2016'][3])+(df['2016'][2])+(df['2016'][1])+(df['2016'][4])+(df['2016'][-3])+(df['2016'][-1])+(df['2016'][-4]))"
   ]
  },
  {
   "cell_type": "code",
   "execution_count": 106,
   "id": "0f82ed6f",
   "metadata": {},
   "outputs": [],
   "source": [
    "df.loc['Other Firms'] = {'2015':0, '2016':157379225, '2017':137586461, '2018':206466940, '2019':298431093, '2020':359551863}"
   ]
  },
  {
   "cell_type": "markdown",
   "id": "2bbd4e71",
   "metadata": {},
   "source": [
    "# HHI Calculation"
   ]
  },
  {
   "cell_type": "markdown",
   "id": "6df760f3",
   "metadata": {},
   "source": [
    "Calculate HHI includes\n",
    "Revenue for each companies.  \n",
    "Number of firms: 7 firms + Other firms (Sony, Kobalt, Warner, UMG, Beggars, Domino, Ninja, Other firms) \n",
    "Number of years: 5 years (2015-2020)"
   ]
  },
  {
   "cell_type": "markdown",
   "id": "760c4981",
   "metadata": {},
   "source": [
    "Pre-Merger"
   ]
  },
  {
   "cell_type": "code",
   "execution_count": 107,
   "id": "017df80a",
   "metadata": {},
   "outputs": [
    {
     "name": "stdout",
     "output_type": "stream",
     "text": [
      "Sony_msb = 262.9444998255894 \n",
      "Kobalt_msb = 45.299642290251256 \n",
      "Warner_msb = 145.84558972385526 \n",
      "universal_msb = 727.7012944867046 \n",
      "Beggars_msb = 0.830044372563204 \n",
      "Domino_msb = 0.142543394638394 \n",
      "Ninja_msb = 0.15197444452622721 \n",
      "BMG_msb = 17.32733705409289 \n",
      "Other_msb = 1034.2832219140587\n"
     ]
    }
   ],
   "source": [
    "Sony_msb = (((df['2020'][0])/(df.loc['Industry Total'][-1])*100)**2)\n",
    "Kobalt_msb = (((df['2020'][3])/(df.loc['Industry Total'][-1])*100)**2)\n",
    "Warner_msb = (((df['2020'][2])/(df.loc['Industry Total'][-1])*100)**2)\n",
    "universal_msb = (((df['2020'][1])/(df.loc['Industry Total'][-1])*100)**2)\n",
    "Beggars_msb = (((df['2020'][4])/(df.loc['Industry Total'][-1])*100)**2)\n",
    "Domino_msb = (((df['2020'][-5])/(df.loc['Industry Total'][-1])*100)**2)\n",
    "Ninja_msb = (((df['2020'][-4])/(df.loc['Industry Total'][-1])*100)**2)\n",
    "BMG_msb = (((df['2020'][-2])/(df.loc['Industry Total'][-1])*100)**2)\n",
    "Other_msb = (((df['2020'][-1])/(df.loc['Industry Total'][-1])*100)**2)\n",
    "\n",
    "print(f\"Sony_msb = {Sony_msb} \\nKobalt_msb = {Kobalt_msb} \\nWarner_msb = {Warner_msb} \\nuniversal_msb = {universal_msb} \\nBeggars_msb = {Beggars_msb} \\nDomino_msb = {Domino_msb} \\nNinja_msb = {Ninja_msb} \\nBMG_msb = {BMG_msb} \\nOther_msb = {Other_msb}\")"
   ]
  },
  {
   "cell_type": "code",
   "execution_count": 108,
   "id": "d5a1096c",
   "metadata": {},
   "outputs": [
    {
     "name": "stdout",
     "output_type": "stream",
     "text": [
      "HHI 2020 = 2234.52614750628\n"
     ]
    }
   ],
   "source": [
    "HHI_2020 = Sony_msb + Kobalt_msb + Warner_msb + universal_msb + Beggars_msb + Domino_msb + Ninja_msb + BMG_msb + Other_msb\n",
    "print(f\"HHI 2020 = {HHI_2020}\")"
   ]
  },
  {
   "cell_type": "code",
   "execution_count": 109,
   "id": "89fa74e7",
   "metadata": {},
   "outputs": [
    {
     "name": "stdout",
     "output_type": "stream",
     "text": [
      "Sony_msb = 257.59504880040066 \n",
      "Kobalt_msb = 36.916060974421704 \n",
      "Warner_msb = 267.2572254336256 \n",
      "universal_msb = 675.9372345117675 \n",
      "Beggars_msb = 0.8433918771211771 \n",
      "Domino_msb = 0.1398773890470882 \n",
      "Ninja_msb = 0.13898496301842617 \n",
      "BMG_msb = 37.858483484765024 \n",
      "Other_msb = 767.8152479089207\n"
     ]
    }
   ],
   "source": [
    "Sony_msb1 = (((df['2019'][0])/(df.loc['Industry Total'][-2])*100)**2)\n",
    "Kobalt_msb1 = (((df['2019'][3])/(df.loc['Industry Total'][-2])*100)**2)\n",
    "Warner_msb1 = (((df['2019'][2])/(df.loc['Industry Total'][-2])*100)**2)\n",
    "universal_msb1 = (((df['2019'][1])/(df.loc['Industry Total'][-2])*100)**2)\n",
    "Beggars_msb1 = (((df['2019'][4])/(df.loc['Industry Total'][-2])*100)**2)\n",
    "Domino_msb1 = (((df['2019'][-5])/(df.loc['Industry Total'][-2])*100)**2)\n",
    "Ninja_msb1 = (((df['2019'][-4])/(df.loc['Industry Total'][-2])*100)**2)\n",
    "BMG_msb1 = (((df['2019'][-2])/(df.loc['Industry Total'][-2])*100)**2)\n",
    "Other_msb1 = (((df['2019'][-1])/(df.loc['Industry Total'][-2])*100)**2)\n",
    "\n",
    "print(f\"Sony_msb = {Sony_msb1} \\nKobalt_msb = {Kobalt_msb1} \\nWarner_msb = {Warner_msb1} \\nuniversal_msb = {universal_msb1} \\nBeggars_msb = {Beggars_msb1} \\nDomino_msb = {Domino_msb1} \\nNinja_msb = {Ninja_msb1} \\nBMG_msb = {BMG_msb1} \\nOther_msb = {Other_msb1}\")"
   ]
  },
  {
   "cell_type": "code",
   "execution_count": 110,
   "id": "91302bb3",
   "metadata": {},
   "outputs": [
    {
     "name": "stdout",
     "output_type": "stream",
     "text": [
      "HHI 2019 = 2044.5015553430876\n"
     ]
    }
   ],
   "source": [
    "HHI_2019 = Sony_msb1 + Kobalt_msb1 + Warner_msb1 + universal_msb1 + Beggars_msb1 + Domino_msb1 + Ninja_msb1 + BMG_msb1 + Other_msb1\n",
    "print(f\"HHI 2019 = {HHI_2019}\")"
   ]
  },
  {
   "cell_type": "code",
   "execution_count": 111,
   "id": "4d25c152",
   "metadata": {},
   "outputs": [
    {
     "name": "stdout",
     "output_type": "stream",
     "text": [
      "Sony_msb = 275.4168290327351 \n",
      "Kobalt_msb = 27.820598897997908 \n",
      "Warner_msb = 391.90893773597617 \n",
      "universal_msb = 724.4844465693972 \n",
      "Beggars_msb = 0.983807310622942 \n",
      "Domino_msb = 0.39953937844124143 \n",
      "Ninja_msb = 0.09920035759837183 \n",
      "BMG_msb = 76.89724322415591 \n",
      "Other_msb = 428.855244901843\n"
     ]
    }
   ],
   "source": [
    "Sony_msb2 = (((df['2018'][0])/(df.loc['Industry Total'][-3])*100)**2)\n",
    "Kobalt_msb2 = (((df['2018'][3])/(df.loc['Industry Total'][-3])*100)**2)\n",
    "Warner_msb2 = (((df['2018'][2])/(df.loc['Industry Total'][-3])*100)**2)\n",
    "universal_msb2 = (((df['2018'][1])/(df.loc['Industry Total'][-3])*100)**2)\n",
    "Beggars_msb2 = (((df['2018'][4])/(df.loc['Industry Total'][-3])*100)**2)\n",
    "Domino_msb2 = (((df['2018'][-5])/(df.loc['Industry Total'][-3])*100)**2)\n",
    "Ninja_msb2 = (((df['2018'][-4])/(df.loc['Industry Total'][-3])*100)**2)\n",
    "BMG_msb2 = (((df['2018'][-2])/(df.loc['Industry Total'][-3])*100)**2)\n",
    "Other_msb2 = (((df['2018'][-1])/(df.loc['Industry Total'][-3])*100)**2)\n",
    "\n",
    "print(f\"Sony_msb = {Sony_msb2} \\nKobalt_msb = {Kobalt_msb2} \\nWarner_msb = {Warner_msb2} \\nuniversal_msb = {universal_msb2} \\nBeggars_msb = {Beggars_msb2} \\nDomino_msb = {Domino_msb2} \\nNinja_msb = {Ninja_msb2} \\nBMG_msb = {BMG_msb2} \\nOther_msb = {Other_msb2}\")"
   ]
  },
  {
   "cell_type": "code",
   "execution_count": 112,
   "id": "0115fae7",
   "metadata": {},
   "outputs": [
    {
     "name": "stdout",
     "output_type": "stream",
     "text": [
      "HHI 2018 = 1926.865847408768\n"
     ]
    }
   ],
   "source": [
    "HHI_2018 = Sony_msb2 + Kobalt_msb2 + Warner_msb2 + universal_msb2 + Beggars_msb2 + Domino_msb2 + Ninja_msb2 + BMG_msb2 + Other_msb2\n",
    "print(f\"HHI 2018 = {HHI_2018}\")"
   ]
  },
  {
   "cell_type": "code",
   "execution_count": 113,
   "id": "6226c2e9",
   "metadata": {},
   "outputs": [
    {
     "name": "stdout",
     "output_type": "stream",
     "text": [
      "Sony_msb = 327.6294046947171 \n",
      "Kobalt_msb = 29.886180953026223 \n",
      "Warner_msb = 446.33419895631187 \n",
      "universal_msb = 831.6782679499871 \n",
      "Beggars_msb = 1.2807576966430927 \n",
      "Domino_msb = 0.1276749094305475 \n",
      "Ninja_msb = 0.09199063709963778 \n",
      "BMG_msb = 68.65390721170782 \n",
      "Other_msb = 268.60246800957515\n"
     ]
    }
   ],
   "source": [
    "Sony_msb3 = (((df['2017'][0])/(df.loc['Industry Total'][-4])*100)**2)\n",
    "Kobalt_msb3 = (((df['2017'][3])/(df.loc['Industry Total'][-4])*100)**2)\n",
    "Warner_msb3 = (((df['2017'][2])/(df.loc['Industry Total'][-4])*100)**2)\n",
    "universal_msb3 = (((df['2017'][1])/(df.loc['Industry Total'][-4])*100)**2)\n",
    "Beggars_msb3 = (((df['2017'][4])/(df.loc['Industry Total'][-4])*100)**2)\n",
    "Domino_msb3 = (((df['2017'][-5])/(df.loc['Industry Total'][-4])*100)**2)\n",
    "Ninja_msb3 = (((df['2017'][-4])/(df.loc['Industry Total'][-4])*100)**2)\n",
    "BMG_msb3 = (((df['2017'][-2])/(df.loc['Industry Total'][-4])*100)**2)\n",
    "Other_msb3 = (((df['2017'][-1])/(df.loc['Industry Total'][-4])*100)**2)\n",
    "\n",
    "print(f\"Sony_msb = {Sony_msb3} \\nKobalt_msb = {Kobalt_msb3} \\nWarner_msb = {Warner_msb3} \\nuniversal_msb = {universal_msb3} \\nBeggars_msb = {Beggars_msb3} \\nDomino_msb = {Domino_msb3} \\nNinja_msb = {Ninja_msb3} \\nBMG_msb = {BMG_msb3} \\nOther_msb = {Other_msb3}\")"
   ]
  },
  {
   "cell_type": "code",
   "execution_count": 114,
   "id": "86a76ed0",
   "metadata": {},
   "outputs": [
    {
     "name": "stdout",
     "output_type": "stream",
     "text": [
      "HHI 2017 = 1974.2848510184988\n"
     ]
    }
   ],
   "source": [
    "HHI_2017 = Sony_msb3 + Kobalt_msb3 + Warner_msb3 + universal_msb3 + Beggars_msb3 + Domino_msb3 + Ninja_msb3 + BMG_msb3 + Other_msb3\n",
    "print(f\"HHI 2017 = {HHI_2017}\")"
   ]
  },
  {
   "cell_type": "code",
   "execution_count": 115,
   "id": "f25313db",
   "metadata": {},
   "outputs": [
    {
     "name": "stdout",
     "output_type": "stream",
     "text": [
      "Sony_msb = 337.01026237629776 \n",
      "Kobalt_msb = 19.35884059706881 \n",
      "Warner_msb = 344.91194120271285 \n",
      "universal_msb = 991.4450249878055 \n",
      "Beggars_msb = 2.5559478498375228 \n",
      "Domino_msb = 0.18976871016575794 \n",
      "Ninja_msb = 0.0 \n",
      "BMG_msb = 19.481930509772063 \n",
      "Other_msb = 429.94336667240583\n"
     ]
    }
   ],
   "source": [
    "Sony_msb4 = (((df['2016'][0])/(df.loc['Industry Total'][-5])*100)**2)\n",
    "Kobalt_msb4 = (((df['2016'][3])/(df.loc['Industry Total'][-5])*100)**2)\n",
    "Warner_msb4 = (((df['2016'][2])/(df.loc['Industry Total'][-5])*100)**2)\n",
    "universal_msb4 = (((df['2016'][1])/(df.loc['Industry Total'][-5])*100)**2)\n",
    "Beggars_msb4 = (((df['2016'][4])/(df.loc['Industry Total'][-5])*100)**2)\n",
    "Domino_msb4 = (((df['2016'][-5])/(df.loc['Industry Total'][-5])*100)**2)\n",
    "Ninja_msb4 = (((df['2016'][-4])/(df.loc['Industry Total'][-5])*100)**2)\n",
    "BMG_msb4 = (((df['2016'][-2])/(df.loc['Industry Total'][-5])*100)**2)\n",
    "Other_msb4 = (((df['2016'][-1])/(df.loc['Industry Total'][-5])*100)**2)\n",
    "\n",
    "print(f\"Sony_msb = {Sony_msb4} \\nKobalt_msb = {Kobalt_msb4} \\nWarner_msb = {Warner_msb4} \\nuniversal_msb = {universal_msb4} \\nBeggars_msb = {Beggars_msb4} \\nDomino_msb = {Domino_msb4} \\nNinja_msb = {Ninja_msb4} \\nBMG_msb = {BMG_msb4} \\nOther_msb = {Other_msb4}\")"
   ]
  },
  {
   "cell_type": "code",
   "execution_count": 116,
   "id": "9b32e9b6",
   "metadata": {},
   "outputs": [
    {
     "name": "stdout",
     "output_type": "stream",
     "text": [
      "HHI 2016 = 2144.8970829060663\n"
     ]
    }
   ],
   "source": [
    "HHI_2016 = Sony_msb4 + Kobalt_msb4 + Warner_msb4 + universal_msb4 + Beggars_msb4 + Domino_msb4 + Ninja_msb4 + BMG_msb4 + Other_msb4\n",
    "print(f\"HHI 2016 = {HHI_2016}\")"
   ]
  },
  {
   "cell_type": "markdown",
   "id": "c67bddd9",
   "metadata": {},
   "source": [
    "Post-Merger"
   ]
  },
  {
   "cell_type": "code",
   "execution_count": 117,
   "id": "2c31c743",
   "metadata": {},
   "outputs": [],
   "source": [
    "df.drop('2015', axis=1, inplace=True)"
   ]
  },
  {
   "cell_type": "code",
   "execution_count": 118,
   "id": "68835e11",
   "metadata": {},
   "outputs": [],
   "source": [
    "sony_rr = df.loc['Sony']\n",
    "warner_rr = df.loc['Warner']\n",
    "universal_rr = df.loc['Universal']\n",
    "kobalt_rr = df.loc['Kobalt']\n",
    "beggars_rr = df.loc['Beggars UK']\n",
    "BMG_rr = df.loc['BMG']\n",
    "domino_rr = df.loc['Domino']\n",
    "ninja_rr = df.loc['Ninja Tune']\n",
    "ins_rr = df.loc['Industry Total']\n",
    "awal_rr = df.loc['AWAL']"
   ]
  },
  {
   "cell_type": "code",
   "execution_count": 119,
   "id": "7100beaf",
   "metadata": {},
   "outputs": [],
   "source": [
    "index = {'Year': ['2016', '2017', '2018', '2019', '2020'], 'Sony': sony_rr, 'Warner': warner_rr, 'Universal': universal_rr, 'Kobalt': kobalt_rr, 'Beggars': beggars_rr, 'BMG': BMG_rr, 'Domino': domino_rr, 'Ninja Tune': ninja_rr, 'AWAL': awal_rr, 'Indus Rev': ins_rr, 'Other firm': df.loc['Other Firms']}\n",
    "Revdf = pd.DataFrame(index)"
   ]
  },
  {
   "cell_type": "code",
   "execution_count": 120,
   "id": "1b2f383a",
   "metadata": {},
   "outputs": [
    {
     "data": {
      "text/html": [
       "<div>\n",
       "<style scoped>\n",
       "    .dataframe tbody tr th:only-of-type {\n",
       "        vertical-align: middle;\n",
       "    }\n",
       "\n",
       "    .dataframe tbody tr th {\n",
       "        vertical-align: top;\n",
       "    }\n",
       "\n",
       "    .dataframe thead th {\n",
       "        text-align: right;\n",
       "    }\n",
       "</style>\n",
       "<table border=\"1\" class=\"dataframe\">\n",
       "  <thead>\n",
       "    <tr style=\"text-align: right;\">\n",
       "      <th></th>\n",
       "      <th>Year</th>\n",
       "      <th>Sony</th>\n",
       "      <th>Warner</th>\n",
       "      <th>Universal</th>\n",
       "      <th>Kobalt</th>\n",
       "      <th>Beggars</th>\n",
       "      <th>BMG</th>\n",
       "      <th>Domino</th>\n",
       "      <th>Ninja Tune</th>\n",
       "      <th>AWAL</th>\n",
       "      <th>Indus Rev</th>\n",
       "      <th>Other firm</th>\n",
       "    </tr>\n",
       "  </thead>\n",
       "  <tbody>\n",
       "    <tr>\n",
       "      <th>2016</th>\n",
       "      <td>2016</td>\n",
       "      <td>139336000</td>\n",
       "      <td>140960000</td>\n",
       "      <td>238988000</td>\n",
       "      <td>33395000</td>\n",
       "      <td>12134385</td>\n",
       "      <td>33501000</td>\n",
       "      <td>3306390</td>\n",
       "      <td>0</td>\n",
       "      <td>3187000</td>\n",
       "      <td>759000000</td>\n",
       "      <td>157379225</td>\n",
       "    </tr>\n",
       "    <tr>\n",
       "      <th>2017</th>\n",
       "      <td>2017</td>\n",
       "      <td>151954000</td>\n",
       "      <td>177358000</td>\n",
       "      <td>242102000</td>\n",
       "      <td>45894000</td>\n",
       "      <td>9500669</td>\n",
       "      <td>69559000</td>\n",
       "      <td>2999670</td>\n",
       "      <td>2546200</td>\n",
       "      <td>10657000</td>\n",
       "      <td>839500000</td>\n",
       "      <td>137586461</td>\n",
       "    </tr>\n",
       "    <tr>\n",
       "      <th>2018</th>\n",
       "      <td>2018</td>\n",
       "      <td>165459000</td>\n",
       "      <td>197373000</td>\n",
       "      <td>268355000</td>\n",
       "      <td>52587000</td>\n",
       "      <td>9888950</td>\n",
       "      <td>87428000</td>\n",
       "      <td>6301950</td>\n",
       "      <td>3140160</td>\n",
       "      <td>12533000</td>\n",
       "      <td>997000000</td>\n",
       "      <td>206466940</td>\n",
       "    </tr>\n",
       "    <tr>\n",
       "      <th>2019</th>\n",
       "      <td>2019</td>\n",
       "      <td>172856000</td>\n",
       "      <td>176068000</td>\n",
       "      <td>280007000</td>\n",
       "      <td>65437000</td>\n",
       "      <td>9890777</td>\n",
       "      <td>66267000</td>\n",
       "      <td>4028000</td>\n",
       "      <td>4015130</td>\n",
       "      <td>29127000</td>\n",
       "      <td>1077000000</td>\n",
       "      <td>298431093</td>\n",
       "    </tr>\n",
       "    <tr>\n",
       "      <th>2020</th>\n",
       "      <td>2020</td>\n",
       "      <td>181290000</td>\n",
       "      <td>135017000</td>\n",
       "      <td>301591000</td>\n",
       "      <td>75247000</td>\n",
       "      <td>10185737</td>\n",
       "      <td>46538000</td>\n",
       "      <td>4221000</td>\n",
       "      <td>4358400</td>\n",
       "      <td>30687000</td>\n",
       "      <td>1118000000</td>\n",
       "      <td>359551863</td>\n",
       "    </tr>\n",
       "  </tbody>\n",
       "</table>\n",
       "</div>"
      ],
      "text/plain": [
       "      Year       Sony     Warner  Universal    Kobalt   Beggars       BMG  \\\n",
       "2016  2016  139336000  140960000  238988000  33395000  12134385  33501000   \n",
       "2017  2017  151954000  177358000  242102000  45894000   9500669  69559000   \n",
       "2018  2018  165459000  197373000  268355000  52587000   9888950  87428000   \n",
       "2019  2019  172856000  176068000  280007000  65437000   9890777  66267000   \n",
       "2020  2020  181290000  135017000  301591000  75247000  10185737  46538000   \n",
       "\n",
       "       Domino  Ninja Tune      AWAL   Indus Rev  Other firm  \n",
       "2016  3306390           0   3187000   759000000   157379225  \n",
       "2017  2999670     2546200  10657000   839500000   137586461  \n",
       "2018  6301950     3140160  12533000   997000000   206466940  \n",
       "2019  4028000     4015130  29127000  1077000000   298431093  \n",
       "2020  4221000     4358400  30687000  1118000000   359551863  "
      ]
     },
     "execution_count": 120,
     "metadata": {},
     "output_type": "execute_result"
    }
   ],
   "source": [
    "Revdf"
   ]
  },
  {
   "cell_type": "code",
   "execution_count": 121,
   "id": "34017505",
   "metadata": {},
   "outputs": [],
   "source": [
    "Revdf['Year'] = pd.to_numeric(Revdf['Year'])"
   ]
  },
  {
   "cell_type": "code",
   "execution_count": 122,
   "id": "4787e64c",
   "metadata": {
    "scrolled": true
   },
   "outputs": [
    {
     "data": {
      "text/plain": [
       "Year          int64\n",
       "Sony          int64\n",
       "Warner        int64\n",
       "Universal     int64\n",
       "Kobalt        int64\n",
       "Beggars       int64\n",
       "BMG           int64\n",
       "Domino        int64\n",
       "Ninja Tune    int64\n",
       "AWAL          int64\n",
       "Indus Rev     int64\n",
       "Other firm    int64\n",
       "dtype: object"
      ]
     },
     "execution_count": 122,
     "metadata": {},
     "output_type": "execute_result"
    }
   ],
   "source": [
    "Revdf.dtypes"
   ]
  },
  {
   "cell_type": "code",
   "execution_count": 123,
   "id": "3335c2f9",
   "metadata": {},
   "outputs": [],
   "source": [
    "perc_chang = Revdf.pct_change(axis=0)\n",
    "perc_df = pd.DataFrame(perc_chang)"
   ]
  },
  {
   "cell_type": "code",
   "execution_count": 124,
   "id": "46ecaa4b",
   "metadata": {},
   "outputs": [
    {
     "data": {
      "text/html": [
       "<div>\n",
       "<style scoped>\n",
       "    .dataframe tbody tr th:only-of-type {\n",
       "        vertical-align: middle;\n",
       "    }\n",
       "\n",
       "    .dataframe tbody tr th {\n",
       "        vertical-align: top;\n",
       "    }\n",
       "\n",
       "    .dataframe thead th {\n",
       "        text-align: right;\n",
       "    }\n",
       "</style>\n",
       "<table border=\"1\" class=\"dataframe\">\n",
       "  <thead>\n",
       "    <tr style=\"text-align: right;\">\n",
       "      <th></th>\n",
       "      <th>Year</th>\n",
       "      <th>Sony</th>\n",
       "      <th>Warner</th>\n",
       "      <th>Universal</th>\n",
       "      <th>Kobalt</th>\n",
       "      <th>Beggars</th>\n",
       "      <th>BMG</th>\n",
       "      <th>Domino</th>\n",
       "      <th>Ninja Tune</th>\n",
       "      <th>AWAL</th>\n",
       "      <th>Indus Rev</th>\n",
       "      <th>Other firm</th>\n",
       "    </tr>\n",
       "  </thead>\n",
       "  <tbody>\n",
       "    <tr>\n",
       "      <th>2016</th>\n",
       "      <td>NaN</td>\n",
       "      <td>NaN</td>\n",
       "      <td>NaN</td>\n",
       "      <td>NaN</td>\n",
       "      <td>NaN</td>\n",
       "      <td>NaN</td>\n",
       "      <td>NaN</td>\n",
       "      <td>NaN</td>\n",
       "      <td>NaN</td>\n",
       "      <td>NaN</td>\n",
       "      <td>NaN</td>\n",
       "      <td>NaN</td>\n",
       "    </tr>\n",
       "    <tr>\n",
       "      <th>2017</th>\n",
       "      <td>0.000496</td>\n",
       "      <td>0.090558</td>\n",
       "      <td>0.258215</td>\n",
       "      <td>0.013030</td>\n",
       "      <td>0.374278</td>\n",
       "      <td>-0.217046</td>\n",
       "      <td>1.076326</td>\n",
       "      <td>-0.092766</td>\n",
       "      <td>inf</td>\n",
       "      <td>2.343897</td>\n",
       "      <td>0.106061</td>\n",
       "      <td>-0.125765</td>\n",
       "    </tr>\n",
       "    <tr>\n",
       "      <th>2018</th>\n",
       "      <td>0.000496</td>\n",
       "      <td>0.088876</td>\n",
       "      <td>0.112851</td>\n",
       "      <td>0.108438</td>\n",
       "      <td>0.145836</td>\n",
       "      <td>0.040869</td>\n",
       "      <td>0.256890</td>\n",
       "      <td>1.100881</td>\n",
       "      <td>0.233273</td>\n",
       "      <td>0.176035</td>\n",
       "      <td>0.187612</td>\n",
       "      <td>0.500634</td>\n",
       "    </tr>\n",
       "    <tr>\n",
       "      <th>2019</th>\n",
       "      <td>0.000496</td>\n",
       "      <td>0.044706</td>\n",
       "      <td>-0.107943</td>\n",
       "      <td>0.043420</td>\n",
       "      <td>0.244357</td>\n",
       "      <td>0.000185</td>\n",
       "      <td>-0.242039</td>\n",
       "      <td>-0.360833</td>\n",
       "      <td>0.278639</td>\n",
       "      <td>1.324025</td>\n",
       "      <td>0.080241</td>\n",
       "      <td>0.445418</td>\n",
       "    </tr>\n",
       "    <tr>\n",
       "      <th>2020</th>\n",
       "      <td>0.000495</td>\n",
       "      <td>0.048792</td>\n",
       "      <td>-0.233154</td>\n",
       "      <td>0.077084</td>\n",
       "      <td>0.149915</td>\n",
       "      <td>0.029822</td>\n",
       "      <td>-0.297720</td>\n",
       "      <td>0.047915</td>\n",
       "      <td>0.085494</td>\n",
       "      <td>0.053559</td>\n",
       "      <td>0.038069</td>\n",
       "      <td>0.204807</td>\n",
       "    </tr>\n",
       "  </tbody>\n",
       "</table>\n",
       "</div>"
      ],
      "text/plain": [
       "          Year      Sony    Warner  Universal    Kobalt   Beggars       BMG  \\\n",
       "2016       NaN       NaN       NaN        NaN       NaN       NaN       NaN   \n",
       "2017  0.000496  0.090558  0.258215   0.013030  0.374278 -0.217046  1.076326   \n",
       "2018  0.000496  0.088876  0.112851   0.108438  0.145836  0.040869  0.256890   \n",
       "2019  0.000496  0.044706 -0.107943   0.043420  0.244357  0.000185 -0.242039   \n",
       "2020  0.000495  0.048792 -0.233154   0.077084  0.149915  0.029822 -0.297720   \n",
       "\n",
       "        Domino  Ninja Tune      AWAL  Indus Rev  Other firm  \n",
       "2016       NaN         NaN       NaN        NaN         NaN  \n",
       "2017 -0.092766         inf  2.343897   0.106061   -0.125765  \n",
       "2018  1.100881    0.233273  0.176035   0.187612    0.500634  \n",
       "2019 -0.360833    0.278639  1.324025   0.080241    0.445418  \n",
       "2020  0.047915    0.085494  0.053559   0.038069    0.204807  "
      ]
     },
     "execution_count": 124,
     "metadata": {},
     "output_type": "execute_result"
    }
   ],
   "source": [
    "perc_df\n",
    "#Average percentage change of each company:\n",
    "#Sony: 6.823%\n",
    "#Warnewr: 0.7492%\n",
    "#Universal: 6.049%\n",
    "#Kobalt: 22.8596%\n",
    "#Beggars: -3.654%\n",
    "#BMG: 19.836%\n",
    "#Domino: 17.3799%\n",
    "#Ninja Tune: 19.91%\n",
    "#AWAL: 103.5746%"
   ]
  },
  {
   "cell_type": "code",
   "execution_count": 129,
   "id": "33c3b694",
   "metadata": {},
   "outputs": [
    {
     "name": "stdout",
     "output_type": "stream",
     "text": [
      "a=6.823291339410203 \n",
      "b=0.7492218903420444 \n",
      "c=6.04928981328271 \n",
      "d=22.85964498545516 \n",
      "e=-3.654260330870587 \n",
      "f=19.836423007741566 \n",
      "g=17.379927761211157 \n",
      "h=inf \n",
      "i=97.43786855574768 \n",
      "j=10.299542780506354\n"
     ]
    }
   ],
   "source": [
    "a=(perc_df['Sony'].mean())*100\n",
    "b=(perc_df['Warner'].mean())*100\n",
    "c=(perc_df['Universal'].mean())*100\n",
    "d=(perc_df['Kobalt'].mean())*100\n",
    "e=(perc_df['Beggars'].mean())*100\n",
    "f=(perc_df['BMG'].mean())*100\n",
    "g=(perc_df['Domino'].mean())*100\n",
    "h=(perc_df['Ninja Tune'].mean())*100 #19.91%\n",
    "i=(perc_df['AWAL'].mean())*100 #dont include 2016 103.5746\n",
    "j=(perc_df['Indus Rev'].mean())*100\n",
    "\n",
    "print(f\"a={a} \\nb={b} \\nc={c} \\nd={d} \\ne={e} \\nf={f} \\ng={g} \\nh={h} \\ni={i} \\nj={j}\")"
   ]
  },
  {
   "cell_type": "code",
   "execution_count": 130,
   "id": "5a769db4",
   "metadata": {},
   "outputs": [
    {
     "data": {
      "text/plain": [
       "1233148410"
      ]
     },
     "execution_count": 130,
     "metadata": {},
     "output_type": "execute_result"
    }
   ],
   "source": [
    "#Industry total\n",
    "193653978 + 319834843 + 136028547 + 92448163 + 9813550 + 4989365 + 5226157 + 55769277 + 62470937 + 352913593"
   ]
  },
  {
   "cell_type": "code",
   "execution_count": 131,
   "id": "9e0e7596",
   "metadata": {},
   "outputs": [],
   "source": [
    "df['Predicted 2021'] = [193653978, 319834843, 136028547, 92448163, 9813550, 1233148410, 4989365, 5226157, 62470937, 55769277, 449439829]"
   ]
  },
  {
   "cell_type": "code",
   "execution_count": 133,
   "id": "b4ba7d65",
   "metadata": {},
   "outputs": [
    {
     "name": "stdout",
     "output_type": "stream",
     "text": [
      "Sony_msb = 431.3928671324417 \n",
      "Kobalt_msb = 56.20382556183674 \n",
      "Warner_msb = 121.68286419813955 \n",
      "universal_msb = 672.6991113948349 \n",
      "Beggars_msb = 0.6333176396602227 \n",
      "Domino_msb = 0.1637042135491249 \n",
      "Ninja_msb = 0.17961152903947086 \n",
      "BMG_msb = 20.453109054206816 \n",
      "Other_msb = 1328.3496897544358\n"
     ]
    }
   ],
   "source": [
    "Sony_msb5 = ((((df['Predicted 2021'][0]) + (df['Predicted 2021'][-3]))/(df.loc['Industry Total'][-1])*100)**2)\n",
    "Kobalt_msb5 = (((df['Predicted 2021'][3])/(df.loc['Industry Total'][-1])*100)**2)\n",
    "Warner_msb5 = (((df['Predicted 2021'][2])/(df.loc['Industry Total'][-1])*100)**2)\n",
    "universal_msb5 = (((df['Predicted 2021'][1])/(df.loc['Industry Total'][-1])*100)**2)\n",
    "Beggars_msb5 = (((df['Predicted 2021'][4])/(df.loc['Industry Total'][-1])*100)**2)\n",
    "Domino_msb5 = (((df['Predicted 2021'][-5])/(df.loc['Industry Total'][-1])*100)**2)\n",
    "Ninja_msb5 = (((df['Predicted 2021'][-4])/(df.loc['Industry Total'][-1])*100)**2)\n",
    "BMG_msb5 = (((df['Predicted 2021'][-2])/(df.loc['Industry Total'][-1])*100)**2)\n",
    "Other_msb5 = (((df['Predicted 2021'][-1])/(df.loc['Industry Total'][-1])*100)**2)\n",
    "\n",
    "print(f\"Sony_msb = {Sony_msb5} \\nKobalt_msb = {Kobalt_msb5} \\nWarner_msb = {Warner_msb5} \\nuniversal_msb = {universal_msb5} \\nBeggars_msb = {Beggars_msb5} \\nDomino_msb = {Domino_msb5} \\nNinja_msb = {Ninja_msb5} \\nBMG_msb = {BMG_msb5} \\nOther_msb = {Other_msb5}\")"
   ]
  },
  {
   "cell_type": "code",
   "execution_count": 134,
   "id": "1fbead42",
   "metadata": {},
   "outputs": [
    {
     "name": "stdout",
     "output_type": "stream",
     "text": [
      "HHI 2021 = 2631.758100478144\n"
     ]
    }
   ],
   "source": [
    "HHI_2021 = Sony_msb5 + Kobalt_msb5 + Warner_msb5 + universal_msb5 + Beggars_msb5 + Domino_msb5 + Ninja_msb5 + BMG_msb5 + Other_msb5\n",
    "print(f\"HHI 2021 = {HHI_2021}\")"
   ]
  },
  {
   "cell_type": "code",
   "execution_count": 135,
   "id": "7c7a0173",
   "metadata": {},
   "outputs": [],
   "source": [
    "HHI_index = {'Year': ['2016', '2017', '2018', '2019', '2020', '2021']}\n",
    "HHI_df = pd.DataFrame(HHI_index)"
   ]
  },
  {
   "cell_type": "code",
   "execution_count": 136,
   "id": "98d207b9",
   "metadata": {},
   "outputs": [],
   "source": [
    "HHI_df['Value'] = [HHI_2016, HHI_2017, HHI_2018, HHI_2019, HHI_2020, HHI_2021]"
   ]
  },
  {
   "cell_type": "code",
   "execution_count": 137,
   "id": "ef95c69f",
   "metadata": {},
   "outputs": [],
   "source": [
    "HHI_df.set_index('Year', inplace=True)"
   ]
  },
  {
   "cell_type": "code",
   "execution_count": 138,
   "id": "2452f1d0",
   "metadata": {},
   "outputs": [
    {
     "data": {
      "text/html": [
       "<div>\n",
       "<style scoped>\n",
       "    .dataframe tbody tr th:only-of-type {\n",
       "        vertical-align: middle;\n",
       "    }\n",
       "\n",
       "    .dataframe tbody tr th {\n",
       "        vertical-align: top;\n",
       "    }\n",
       "\n",
       "    .dataframe thead th {\n",
       "        text-align: right;\n",
       "    }\n",
       "</style>\n",
       "<table border=\"1\" class=\"dataframe\">\n",
       "  <thead>\n",
       "    <tr style=\"text-align: right;\">\n",
       "      <th></th>\n",
       "      <th>Value</th>\n",
       "    </tr>\n",
       "    <tr>\n",
       "      <th>Year</th>\n",
       "      <th></th>\n",
       "    </tr>\n",
       "  </thead>\n",
       "  <tbody>\n",
       "    <tr>\n",
       "      <th>2016</th>\n",
       "      <td>2144.897083</td>\n",
       "    </tr>\n",
       "    <tr>\n",
       "      <th>2017</th>\n",
       "      <td>1974.284851</td>\n",
       "    </tr>\n",
       "    <tr>\n",
       "      <th>2018</th>\n",
       "      <td>1926.865847</td>\n",
       "    </tr>\n",
       "    <tr>\n",
       "      <th>2019</th>\n",
       "      <td>2044.501555</td>\n",
       "    </tr>\n",
       "    <tr>\n",
       "      <th>2020</th>\n",
       "      <td>2234.526148</td>\n",
       "    </tr>\n",
       "    <tr>\n",
       "      <th>2021</th>\n",
       "      <td>2631.758100</td>\n",
       "    </tr>\n",
       "  </tbody>\n",
       "</table>\n",
       "</div>"
      ],
      "text/plain": [
       "            Value\n",
       "Year             \n",
       "2016  2144.897083\n",
       "2017  1974.284851\n",
       "2018  1926.865847\n",
       "2019  2044.501555\n",
       "2020  2234.526148\n",
       "2021  2631.758100"
      ]
     },
     "execution_count": 138,
     "metadata": {},
     "output_type": "execute_result"
    }
   ],
   "source": [
    "HHI_df"
   ]
  },
  {
   "cell_type": "code",
   "execution_count": 139,
   "id": "91453684",
   "metadata": {},
   "outputs": [
    {
     "data": {
      "text/plain": [
       "<AxesSubplot:xlabel='Year'>"
      ]
     },
     "execution_count": 139,
     "metadata": {},
     "output_type": "execute_result"
    },
    {
     "data": {
      "image/png": "[encoded data removed]",
      "text/plain": [
       "<Figure size 432x288 with 1 Axes>"
      ]
     },
     "metadata": {},
     "output_type": "display_data"
    }
   ],
   "source": [
    "HHI_df['Value'].plot()"
   ]
  },
  {
   "cell_type": "markdown",
   "id": "c05e4ed2",
   "metadata": {},
   "source": [
    "# Market Share"
   ]
  },
  {
   "cell_type": "code",
   "execution_count": 143,
   "id": "706befed",
   "metadata": {},
   "outputs": [],
   "source": [
    "ms_value = {'Year': ['2016', '2017', '2018', '2019', '2020', '2021'], 'Sony': [np.sqrt(Sony_msb4), np.sqrt(Sony_msb3), np.sqrt(Sony_msb2), np.sqrt(Sony_msb1), np.sqrt(Sony_msb), np.sqrt(Sony_msb5)], 'Warner': [np.sqrt(Warner_msb4), np.sqrt(Warner_msb3), np.sqrt(Warner_msb2), np.sqrt(Warner_msb1), np.sqrt(Warner_msb), np.sqrt(Warner_msb5)], 'Universal': [np.sqrt(universal_msb4), np.sqrt(universal_msb3), np.sqrt(universal_msb2), np.sqrt(universal_msb1), np.sqrt(universal_msb), np.sqrt(universal_msb5)], 'Beggars': [np.sqrt(Beggars_msb4), np.sqrt(Beggars_msb3), np.sqrt(Beggars_msb2), np.sqrt(Beggars_msb1), np.sqrt(Beggars_msb), np.sqrt(Beggars_msb5)],'BMG': [np.sqrt(BMG_msb4), np.sqrt(BMG_msb3), np.sqrt(BMG_msb2), np.sqrt(BMG_msb1), np.sqrt(BMG_msb), np.sqrt(BMG_msb5)], 'Other': [np.sqrt(Other_msb4), np.sqrt(Other_msb3), np.sqrt(Other_msb2), np.sqrt(Other_msb1), np.sqrt(Other_msb), np.sqrt(Other_msb5)]}"
   ]
  },
  {
   "cell_type": "code",
   "execution_count": 144,
   "id": "462b987e",
   "metadata": {},
   "outputs": [],
   "source": [
    "ms_df = pd.DataFrame(ms_value)"
   ]
  },
  {
   "cell_type": "code",
   "execution_count": 147,
   "id": "f6d2da10",
   "metadata": {},
   "outputs": [
    {
     "data": {
      "text/html": [
       "<div>\n",
       "<style scoped>\n",
       "    .dataframe tbody tr th:only-of-type {\n",
       "        vertical-align: middle;\n",
       "    }\n",
       "\n",
       "    .dataframe tbody tr th {\n",
       "        vertical-align: top;\n",
       "    }\n",
       "\n",
       "    .dataframe thead th {\n",
       "        text-align: right;\n",
       "    }\n",
       "</style>\n",
       "<table border=\"1\" class=\"dataframe\">\n",
       "  <thead>\n",
       "    <tr style=\"text-align: right;\">\n",
       "      <th></th>\n",
       "      <th>Sony</th>\n",
       "      <th>Warner</th>\n",
       "      <th>Universal</th>\n",
       "      <th>Beggars</th>\n",
       "      <th>BMG</th>\n",
       "      <th>Other</th>\n",
       "    </tr>\n",
       "    <tr>\n",
       "      <th>Year</th>\n",
       "      <th></th>\n",
       "      <th></th>\n",
       "      <th></th>\n",
       "      <th></th>\n",
       "      <th></th>\n",
       "      <th></th>\n",
       "    </tr>\n",
       "  </thead>\n",
       "  <tbody>\n",
       "    <tr>\n",
       "      <th>2016</th>\n",
       "      <td>18.357839</td>\n",
       "      <td>18.571805</td>\n",
       "      <td>31.487220</td>\n",
       "      <td>1.598733</td>\n",
       "      <td>4.413834</td>\n",
       "      <td>20.735076</td>\n",
       "    </tr>\n",
       "    <tr>\n",
       "      <th>2017</th>\n",
       "      <td>18.100536</td>\n",
       "      <td>21.126623</td>\n",
       "      <td>28.838833</td>\n",
       "      <td>1.131706</td>\n",
       "      <td>8.285765</td>\n",
       "      <td>16.389096</td>\n",
       "    </tr>\n",
       "    <tr>\n",
       "      <th>2018</th>\n",
       "      <td>16.595687</td>\n",
       "      <td>19.796690</td>\n",
       "      <td>26.916249</td>\n",
       "      <td>0.991871</td>\n",
       "      <td>8.769107</td>\n",
       "      <td>20.708820</td>\n",
       "    </tr>\n",
       "    <tr>\n",
       "      <th>2019</th>\n",
       "      <td>16.049768</td>\n",
       "      <td>16.348004</td>\n",
       "      <td>25.998793</td>\n",
       "      <td>0.918364</td>\n",
       "      <td>6.152925</td>\n",
       "      <td>27.709479</td>\n",
       "    </tr>\n",
       "    <tr>\n",
       "      <th>2020</th>\n",
       "      <td>16.215564</td>\n",
       "      <td>12.076655</td>\n",
       "      <td>26.975939</td>\n",
       "      <td>0.911068</td>\n",
       "      <td>4.162612</td>\n",
       "      <td>32.160274</td>\n",
       "    </tr>\n",
       "    <tr>\n",
       "      <th>2021</th>\n",
       "      <td>20.769999</td>\n",
       "      <td>11.030996</td>\n",
       "      <td>25.936444</td>\n",
       "      <td>0.795813</td>\n",
       "      <td>4.522511</td>\n",
       "      <td>36.446532</td>\n",
       "    </tr>\n",
       "  </tbody>\n",
       "</table>\n",
       "</div>"
      ],
      "text/plain": [
       "           Sony     Warner  Universal   Beggars       BMG      Other\n",
       "Year                                                                \n",
       "2016  18.357839  18.571805  31.487220  1.598733  4.413834  20.735076\n",
       "2017  18.100536  21.126623  28.838833  1.131706  8.285765  16.389096\n",
       "2018  16.595687  19.796690  26.916249  0.991871  8.769107  20.708820\n",
       "2019  16.049768  16.348004  25.998793  0.918364  6.152925  27.709479\n",
       "2020  16.215564  12.076655  26.975939  0.911068  4.162612  32.160274\n",
       "2021  20.769999  11.030996  25.936444  0.795813  4.522511  36.446532"
      ]
     },
     "execution_count": 147,
     "metadata": {},
     "output_type": "execute_result"
    }
   ],
   "source": [
    "ms_df"
   ]
  },
  {
   "cell_type": "code",
   "execution_count": 146,
   "id": "0f842570",
   "metadata": {},
   "outputs": [],
   "source": [
    "ms_df.set_index('Year', inplace=True)"
   ]
  },
  {
   "cell_type": "code",
   "execution_count": 149,
   "id": "f707bc3c",
   "metadata": {},
   "outputs": [
    {
     "data": {
      "text/plain": [
       "<AxesSubplot:xlabel='Year'>"
      ]
     },
     "execution_count": 149,
     "metadata": {},
     "output_type": "execute_result"
    },
    {
     "data": {
      "image/png": "[encoded data removed]",
      "text/plain": [
       "<Figure size 432x288 with 1 Axes>"
      ]
     },
     "metadata": {},
     "output_type": "display_data"
    }
   ],
   "source": [
    "ms_df.plot.area(alpha=0.7, cmap='winter')\n",
    "#you can see that the 3 firms covers more than half of the whole market"
   ]
  },
  {
   "cell_type": "code",
   "execution_count": 151,
   "id": "a2c76e65",
   "metadata": {},
   "outputs": [
    {
     "data": {
      "text/plain": [
       "0.5855969970557849"
      ]
     },
     "execution_count": 151,
     "metadata": {},
     "output_type": "execute_result"
    }
   ],
   "source": [
    "#Stops at Beggars cuz Domino has 58.56% lower revenue than Beggars in 2020\n",
    "#what they do doesnt have effect on market or the big3\n",
    "(df.loc['Beggars UK'][-2] - df.loc['Domino'][-2])/ df.loc['Beggars UK'][-2]"
   ]
  },
  {
   "cell_type": "markdown",
   "id": "765f036a",
   "metadata": {},
   "source": [
    "# CRK"
   ]
  },
  {
   "cell_type": "markdown",
   "id": "f9597ae4",
   "metadata": {},
   "source": [
    "CR5 Calculation\n",
    "Revenue for each companies.\n",
    "Number of firms: 5 firms (those that have >5% marketshare) \n",
    "Pre (Sony, Warner, UMG, BMG, Beggars) \n",
    "Post (Sony(Plus AWAL), Warner, UMG, BMG, Beggars) \n",
    "Number of years: 5 years (2015-2020)"
   ]
  },
  {
   "cell_type": "code",
   "execution_count": 156,
   "id": "08c482f8",
   "metadata": {},
   "outputs": [],
   "source": [
    "CR5_20 = (((df['2020'][0])+(df['2020'][1])+(df['2020'][2])+(df['2020'][4])+(df['2020'][-2]))/(df.loc['Industry Total'][-2]))*100\n",
    "CR5_19 = (((df['2019'][0])+(df['2019'][1])+(df['2019'][2])+(df['2019'][4])+(df['2019'][-2]))/(df.loc['Industry Total'][-3]))*100\n",
    "CR5_18 = (((df['2018'][0])+(df['2018'][1])+(df['2018'][2])+(df['2018'][4])+(df['2018'][-2]))/(df.loc['Industry Total'][-4]))*100\n",
    "CR5_17 = (((df['2017'][0])+(df['2017'][1])+(df['2017'][2])+(df['2017'][4])+(df['2017'][-2]))/(df.loc['Industry Total'][-5]))*100\n",
    "CR5_16 = (((df['2016'][0])+(df['2016'][1])+(df['2016'][2])+(df['2016'][4])+(df['2016'][-2]))/(df.loc['Industry Total'][-6]))*100\n",
    "CR5_21 = (((df['Predicted 2021'][0])+(df['Predicted 2021'][-3])+(df['Predicted 2021'][1])+(df['Predicted 2021'][2])+(df['Predicted 2021'][4])+(df['Predicted 2021'][-2]))/(df.loc['Industry Total'][-1]))*100"
   ]
  },
  {
   "cell_type": "code",
   "execution_count": 165,
   "id": "cae96f0c",
   "metadata": {},
   "outputs": [
    {
     "data": {
      "text/plain": [
       "<AxesSubplot:xlabel='Year'>"
      ]
     },
     "execution_count": 165,
     "metadata": {},
     "output_type": "execute_result"
    },
    {
     "data": {
      "image/png": "[encoded data removed]",
      "text/plain": [
       "<Figure size 432x288 with 1 Axes>"
      ]
     },
     "metadata": {},
     "output_type": "display_data"
    }
   ],
   "source": [
    "CRK_df['CR5 Value'].plot()"
   ]
  },
  {
   "cell_type": "markdown",
   "id": "c768e12f",
   "metadata": {},
   "source": [
    "CR3 Calculation\n",
    "Revenue for each companies.\n",
    "Number of firms: 3 firms \n",
    "Pre (Sony, Warner, UMG) \n",
    "Post (Sony(Plus AWAL), Warner, UMG) \n",
    "Number of years: 5 years (2015-2020)"
   ]
  },
  {
   "cell_type": "code",
   "execution_count": 162,
   "id": "0b9e7101",
   "metadata": {},
   "outputs": [],
   "source": [
    "CR3_20 = (((df['2020'][0])+(df['2020'][1])+(df['2020'][2]))/(df.loc['Industry Total'][-2]))*100\n",
    "CR3_19 = (((df['2019'][0])+(df['2019'][1])+(df['2019'][2]))/(df.loc['Industry Total'][-3]))*100\n",
    "CR3_18 = (((df['2018'][0])+(df['2018'][1])+(df['2018'][2]))/(df.loc['Industry Total'][-4]))*100\n",
    "CR3_17 = (((df['2017'][0])+(df['2017'][1])+(df['2017'][2]))/(df.loc['Industry Total'][-5]))*100\n",
    "CR3_16 = (((df['2016'][0])+(df['2016'][1])+(df['2016'][2]))/(df.loc['Industry Total'][-6]))*100\n",
    "CR3_21 = (((df['Predicted 2021'][0])+(df['Predicted 2021'][-3])+(df['Predicted 2021'][1])+(df['Predicted 2021'][2]))/(df.loc['Industry Total'][-1]))*100"
   ]
  },
  {
   "cell_type": "code",
   "execution_count": 166,
   "id": "1467b043",
   "metadata": {},
   "outputs": [
    {
     "data": {
      "text/plain": [
       "<AxesSubplot:xlabel='Year'>"
      ]
     },
     "execution_count": 166,
     "metadata": {},
     "output_type": "execute_result"
    },
    {
     "data": {
      "image/png": "[encoded data removed]",
      "text/plain": [
       "<Figure size 432x288 with 1 Axes>"
      ]
     },
     "metadata": {},
     "output_type": "display_data"
    }
   ],
   "source": [
    "CRK_df['CR3 Value'].plot()"
   ]
  },
  {
   "cell_type": "code",
   "execution_count": 163,
   "id": "027114fb",
   "metadata": {},
   "outputs": [],
   "source": [
    "CRK_index = {'Year': ['2016', '2017', '2018', '2019', '2020', '2021'], 'CR5 Value': [CR5_16, CR5_17, CR5_18, CR5_19, CR5_20, CR5_21], 'CR3 Value': [CR3_16, CR3_17, CR3_18, CR3_19, CR3_20, CR3_21]}\n",
    "CRK_df = pd.DataFrame(CRK_index)\n",
    "CRK_df.set_index('Year', inplace=True)"
   ]
  },
  {
   "cell_type": "code",
   "execution_count": 164,
   "id": "08aad99f",
   "metadata": {},
   "outputs": [
    {
     "data": {
      "text/html": [
       "<div>\n",
       "<style scoped>\n",
       "    .dataframe tbody tr th:only-of-type {\n",
       "        vertical-align: middle;\n",
       "    }\n",
       "\n",
       "    .dataframe tbody tr th {\n",
       "        vertical-align: top;\n",
       "    }\n",
       "\n",
       "    .dataframe thead th {\n",
       "        text-align: right;\n",
       "    }\n",
       "</style>\n",
       "<table border=\"1\" class=\"dataframe\">\n",
       "  <thead>\n",
       "    <tr style=\"text-align: right;\">\n",
       "      <th></th>\n",
       "      <th>CR5 Value</th>\n",
       "      <th>CR3 Value</th>\n",
       "    </tr>\n",
       "    <tr>\n",
       "      <th>Year</th>\n",
       "      <th></th>\n",
       "      <th></th>\n",
       "    </tr>\n",
       "  </thead>\n",
       "  <tbody>\n",
       "    <tr>\n",
       "      <th>2016</th>\n",
       "      <td>74.429431</td>\n",
       "      <td>68.416864</td>\n",
       "    </tr>\n",
       "    <tr>\n",
       "      <th>2017</th>\n",
       "      <td>77.483463</td>\n",
       "      <td>68.065992</td>\n",
       "    </tr>\n",
       "    <tr>\n",
       "      <th>2018</th>\n",
       "      <td>73.069604</td>\n",
       "      <td>63.308626</td>\n",
       "    </tr>\n",
       "    <tr>\n",
       "      <th>2019</th>\n",
       "      <td>65.467853</td>\n",
       "      <td>58.396565</td>\n",
       "    </tr>\n",
       "    <tr>\n",
       "      <th>2020</th>\n",
       "      <td>60.341837</td>\n",
       "      <td>55.268157</td>\n",
       "    </tr>\n",
       "    <tr>\n",
       "      <th>2021</th>\n",
       "      <td>63.055762</td>\n",
       "      <td>57.737439</td>\n",
       "    </tr>\n",
       "  </tbody>\n",
       "</table>\n",
       "</div>"
      ],
      "text/plain": [
       "      CR5 Value  CR3 Value\n",
       "Year                      \n",
       "2016  74.429431  68.416864\n",
       "2017  77.483463  68.065992\n",
       "2018  73.069604  63.308626\n",
       "2019  65.467853  58.396565\n",
       "2020  60.341837  55.268157\n",
       "2021  63.055762  57.737439"
      ]
     },
     "execution_count": 164,
     "metadata": {},
     "output_type": "execute_result"
    }
   ],
   "source": [
    "CRK_df"
   ]
  },
  {
   "cell_type": "code",
   "execution_count": 168,
   "id": "950c3484",
   "metadata": {},
   "outputs": [
    {
     "data": {
      "text/plain": [
       "Text(0, 0.5, 'Values')"
      ]
     },
     "execution_count": 168,
     "metadata": {},
     "output_type": "execute_result"
    },
    {
     "data": {
      "image/png": "[encoded data removed]",
      "text/plain": [
       "<Figure size 700x500 with 1 Axes>"
      ]
     },
     "metadata": {},
     "output_type": "display_data"
    }
   ],
   "source": [
    "x1 = CRK_df['CR3 Value']\n",
    "x2 = CRK_df['CR5 Value']\n",
    "fig = plt.figure(figsize=(7,5), dpi=100)\n",
    "\n",
    "ax=fig.add_axes([0,0,1,1])\n",
    "ax.set_title('CR3 VS CR5')\n",
    "ax.plot(x1, label='CR3')\n",
    "ax.plot(x2, label='CR5')\n",
    "ax.legend(loc=0)\n",
    "plt.xlabel('Year')\n",
    "plt.ylabel('Values')"
   ]
  },
  {
   "cell_type": "markdown",
   "id": "c8624dd4",
   "metadata": {},
   "source": [
    "# Plots"
   ]
  },
  {
   "cell_type": "code",
   "execution_count": 185,
   "id": "75b4faa8",
   "metadata": {},
   "outputs": [
    {
     "data": {
      "text/plain": [
       "Text(0.5, 1.0, 'Sony Market Share')"
      ]
     },
     "execution_count": 185,
     "metadata": {},
     "output_type": "execute_result"
    },
    {
     "data": {
      "image/png": "[encoded data removed]",
      "text/plain": [
       "<Figure size 900x500 with 2 Axes>"
      ]
     },
     "metadata": {},
     "output_type": "display_data"
    }
   ],
   "source": [
    "#Comparing Annual Revenue and Market Share of Sony from year 2016-2020\n",
    "\n",
    "x1 = df.loc['Sony']\n",
    "x2 = ms_df['Sony']\n",
    "\n",
    "fig = plt.figure(figsize=(9,5), dpi=100)\n",
    "axes1 = fig.add_axes([0.1,0.1,0.8,0.8])\n",
    "plt.xlabel('Year')\n",
    "plt.ylabel('Revenue (Billion GBP)')\n",
    "\n",
    "axes2 = fig.add_axes([0.2,0.5,0.3,0.3])\n",
    "plt.xlabel('Year')\n",
    "plt.ylabel('Share (%)')\n",
    "\n",
    "axes1.plot(x1, marker='*', markerfacecolor='red', markeredgecolor='red')\n",
    "axes2.plot(x2, marker='*', markerfacecolor='green', markeredgecolor='green')\n",
    "\n",
    "axes1.set_title('Sony Revenue')\n",
    "axes2.set_title('Sony Market Share')"
   ]
  },
  {
   "cell_type": "code",
   "execution_count": 186,
   "id": "b913e74a",
   "metadata": {},
   "outputs": [
    {
     "data": {
      "text/plain": [
       "Text(0.5, 1.0, 'Industry Total')"
      ]
     },
     "execution_count": 186,
     "metadata": {},
     "output_type": "execute_result"
    },
    {
     "data": {
      "image/png": "[encoded data removed]",
      "text/plain": [
       "<Figure size 900x500 with 2 Axes>"
      ]
     },
     "metadata": {},
     "output_type": "display_data"
    }
   ],
   "source": [
    "#Comparing Annual Revenue of Sony and Recorded Music Industry Total Revenue from year 2016-2020\n",
    "\n",
    "x1 = df.loc['Sony']\n",
    "x2 = df.loc['Industry Total']\n",
    "\n",
    "fig = plt.figure(figsize=(9,5), dpi=100)\n",
    "axes1 = fig.add_axes([0.1,0.1,0.8,0.8])\n",
    "plt.xlabel('Year')\n",
    "plt.ylabel('Revenue (Billion GBP)')\n",
    "\n",
    "axes2 = fig.add_axes([0.2,0.5,0.3,0.3])\n",
    "plt.xlabel('Year')\n",
    "plt.ylabel('Revenue (Billion GBP)')\n",
    "\n",
    "axes1.plot(x1, marker='*', markerfacecolor='green', markeredgecolor='green')\n",
    "axes2.plot(x2, marker='*', markerfacecolor='green', markeredgecolor='green')\n",
    "\n",
    "axes1.set_title('Sony Revenue')\n",
    "axes2.set_title('Industry Total')"
   ]
  },
  {
   "cell_type": "code",
   "execution_count": 187,
   "id": "5f010a84",
   "metadata": {},
   "outputs": [
    {
     "data": {
      "text/plain": [
       "Text(0.5, 1.0, 'Beggars UK')"
      ]
     },
     "execution_count": 187,
     "metadata": {},
     "output_type": "execute_result"
    },
    {
     "data": {
      "image/png": "[encoded data removed]",
      "text/plain": [
       "<Figure size 936x360 with 5 Axes>"
      ]
     },
     "metadata": {},
     "output_type": "display_data"
    }
   ],
   "source": [
    "#Comparing Annual Revenue (billion GBP) of Big 4 from year 2016-2020\n",
    "\n",
    "fig,axes = plt.subplots(nrows=1, ncols=5, figsize=(13,5))\n",
    "plt.tight_layout()\n",
    "\n",
    "plt.xlabel('Year')\n",
    "plt.ylabel('Revenue (Billion GBP)')\n",
    "\n",
    "axes[0].plot(df.loc['Sony'])\n",
    "axes[0].set_title('Sony')\n",
    "\n",
    "axes[1].plot(df.loc['Warner'])\n",
    "axes[1].set_title('Warner')\n",
    "\n",
    "axes[2].plot(df.loc['Universal'])\n",
    "axes[2].set_title('Universal')\n",
    "\n",
    "axes[3].plot(df.loc['BMG'])\n",
    "axes[3].set_title('BMG')\n",
    "\n",
    "axes[4].plot(df.loc['Beggars UK'])\n",
    "axes[4].set_title('Beggars UK')"
   ]
  },
  {
   "cell_type": "code",
   "execution_count": 188,
   "id": "b13ab409",
   "metadata": {},
   "outputs": [
    {
     "data": {
      "text/plain": [
       "Text(692.3310344827587, 0.5, 'Share (%)')"
      ]
     },
     "execution_count": 188,
     "metadata": {},
     "output_type": "execute_result"
    },
    {
     "data": {
      "image/png": "[encoded data removed]",
      "text/plain": [
       "<Figure size 936x360 with 5 Axes>"
      ]
     },
     "metadata": {},
     "output_type": "display_data"
    }
   ],
   "source": [
    "#Comparing Market Share of Big 4 from year 2016-2020\n",
    "fig,axes = plt.subplots(nrows=1, ncols=5, figsize=(13,5))\n",
    "plt.tight_layout()\n",
    "\n",
    "axes[0].plot(ms_df['Sony'])\n",
    "axes[0].set_title('Sony')\n",
    "\n",
    "axes[1].plot(ms_df['Warner'])\n",
    "axes[1].set_title('Warner')\n",
    "\n",
    "axes[2].plot(ms_df['Universal'])\n",
    "axes[2].set_title('Universal')\n",
    "\n",
    "axes[3].plot(ms_df['BMG'])\n",
    "axes[3].set_title('BMG')\n",
    "\n",
    "\n",
    "axes[4].plot(ms_df['Beggars'])\n",
    "axes[4].set_title('Beggars')\n",
    "\n",
    "plt.xlabel('Year')\n",
    "plt.ylabel('Share (%)')\n"
   ]
  },
  {
   "cell_type": "code",
   "execution_count": 169,
   "id": "ce9d4f2b",
   "metadata": {},
   "outputs": [
    {
     "data": {
      "text/plain": [
       "<seaborn.axisgrid.JointGrid at 0x12ace0dc0>"
      ]
     },
     "execution_count": 169,
     "metadata": {},
     "output_type": "execute_result"
    },
    {
     "data": {
      "image/png": "[encoded data removed]",
      "text/plain": [
       "<Figure size 432x432 with 3 Axes>"
      ]
     },
     "metadata": {},
     "output_type": "display_data"
    }
   ],
   "source": [
    "sns.jointplot(x=df.loc['Sony'], y=HHI_df['Value'], kind='reg')\n",
    "#there are positive relationship between Sony's increase in revenue(indicating that its growing) and HHI value\n",
    "#This means, if Sony grows even larger after the merger HHI is expected to increase even more"
   ]
  },
  {
   "cell_type": "code",
   "execution_count": 114,
   "id": "3f347948",
   "metadata": {},
   "outputs": [
    {
     "data": {
      "text/plain": [
       "<seaborn.axisgrid.FacetGrid at 0x137cfd910>"
      ]
     },
     "execution_count": 114,
     "metadata": {},
     "output_type": "execute_result"
    },
    {
     "data": {
      "image/png": "[encoded data removed]",
      "text/plain": [
       "<Figure size 360x360 with 1 Axes>"
      ]
     },
     "metadata": {},
     "output_type": "display_data"
    }
   ],
   "source": [
    "sns.lmplot(x='Indus Rev', y='Sony', data=Revdf)"
   ]
  },
  {
   "cell_type": "code",
   "execution_count": null,
   "id": "f798c635",
   "metadata": {},
   "outputs": [],
   "source": []
  }
 ],
 "metadata": {
  "kernelspec": {
   "display_name": "Python 3",
   "language": "python",
   "name": "python3"
  },
  "language_info": {
   "codemirror_mode": {
    "name": "ipython",
    "version": 3
   },
   "file_extension": ".py",
   "mimetype": "text/x-python",
   "name": "python",
   "nbconvert_exporter": "python",
   "pygments_lexer": "ipython3",
   "version": "3.8.8"
  }
 },
 "nbformat": 4,
 "nbformat_minor": 5
}
